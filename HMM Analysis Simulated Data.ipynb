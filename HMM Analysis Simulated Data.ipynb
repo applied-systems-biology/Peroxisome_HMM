{
 "cells": [
  {
   "cell_type": "markdown",
   "metadata": {},
   "source": [
    "Copyright by Dr. Carl-Magnus Svensson\n",
    "Research Group Applied Systems Biology - Head: Prof. Dr. Marc Thilo Figge\n",
    "https://www.leibniz-hki.de/en/applied-systems-biology.html\n",
    "HKI-Center for Systems Biology of Infection\n",
    "Leibniz Institute for Natural Product Research and Infection Biology -\n",
    "Hans Knöll Insitute (HKI)\n",
    "Adolf-Reichwein-Straße 23, 07745 Jena, Germany"
   ]
  },
  {
   "cell_type": "markdown",
   "metadata": {},
   "source": [
    "# Analysis of simulated tracks"
   ]
  },
  {
   "cell_type": "code",
   "execution_count": 1,
   "metadata": {},
   "outputs": [],
   "source": [
    "from tqdm import tqdm\n",
    "import json\n",
    "import os\n",
    "import glob\n",
    "import pandas as pd\n",
    "import pylab as plt\n",
    "import seaborn as sns\n",
    "import numpy as np\n",
    "from json import JSONEncoder\n",
    "class NumpyArrayEncoder(JSONEncoder):\n",
    "    def default(self, obj):\n",
    "        if isinstance(obj, np.ndarray):\n",
    "            return obj.tolist()\n",
    "        return JSONEncoder.default(self, obj)\n",
    "from Peroxisome_HMM import viterbi, Baum_Welch, convert_to_cartesian, convert_to_planar, flatten_list"
   ]
  },
  {
   "cell_type": "markdown",
   "metadata": {},
   "source": [
    "## Load data."
   ]
  },
  {
   "cell_type": "code",
   "execution_count": 3,
   "metadata": {},
   "outputs": [],
   "source": [
    "mixed_data = pd.read_csv('./Simulated_data/Mixed_PRW_tracks.csv', sep=',')"
   ]
  },
  {
   "cell_type": "markdown",
   "metadata": {},
   "source": [
    "### Plot speed and angle distributions for the mixed tracks"
   ]
  },
  {
   "cell_type": "code",
   "execution_count": 7,
   "metadata": {},
   "outputs": [],
   "source": [
    "l_s1 = []\n",
    "l_s2 = []\n",
    "alpha_s1 = []\n",
    "alpha_s2 = []\n",
    "\n",
    "for tr in np.unique(mixed_data['track_id']):\n",
    "    track0 = mixed_data.loc[mixed_data['track_id']==tr]\n",
    "    X = np.array([track0['X'], track0['Y']]).T\n",
    "    s = np.array(track0['s'])\n",
    "    l, alpha = convert_to_planar(X,1)\n",
    "    s = s[1:-1]\n",
    "    straight = (s == 1)\n",
    "    brown = (s == 0)\n",
    "    l_s2.append(l[straight])\n",
    "    l_s1.append(l[brown])\n",
    "    alpha_s1.append(alpha[straight])\n",
    "    alpha_s2.append(alpha[brown])\n",
    "    \n",
    "l_s1 = flatten_list(l_s1)\n",
    "l_s2 = flatten_list(l_s2)\n",
    "alpha_s1 = flatten_list(alpha_s1)\n",
    "alpha_s2 = flatten_list(alpha_s2)\n"
   ]
  },
  {
   "cell_type": "code",
   "execution_count": 8,
   "metadata": {},
   "outputs": [
    {
     "data": {
      "text/plain": [
       "(array([ 572.,  677.,  860., 1286., 1744., 1724., 1245.,  873.,  622.,\n",
       "         559.]),\n",
       " array([-3.14088776e+00, -2.51305283e+00, -1.88521789e+00, -1.25738296e+00,\n",
       "        -6.29548031e-01, -1.71309927e-03,  6.26121833e-01,  1.25395676e+00,\n",
       "         1.88179170e+00,  2.50962663e+00,  3.13746156e+00]),\n",
       " <BarContainer object of 10 artists>)"
      ]
     },
     "execution_count": 8,
     "metadata": {},
     "output_type": "execute_result"
    },
    {
     "data": {
      "image/png": "[encoded data removed]",
      "text/plain": [
       "<Figure size 432x288 with 2 Axes>"
      ]
     },
     "metadata": {
      "needs_background": "light"
     },
     "output_type": "display_data"
    }
   ],
   "source": [
    "plt.subplot(2,1,1)\n",
    "plt.hist(alpha_s1)\n",
    "plt.subplot(2,1,2)\n",
    "plt.hist(alpha_s2)"
   ]
  },
  {
   "cell_type": "code",
   "execution_count": 9,
   "metadata": {},
   "outputs": [
    {
     "data": {
      "text/plain": [
       "(array([   3.,   51.,  318., 1188., 2429., 2836., 1924.,  718.,  147.,\n",
       "          24.]),\n",
       " array([ 4.3266562 ,  5.41110081,  6.49554543,  7.57999005,  8.66443467,\n",
       "         9.74887929, 10.83332391, 11.91776852, 13.00221314, 14.08665776,\n",
       "        15.17110238]),\n",
       " <BarContainer object of 10 artists>)"
      ]
     },
     "execution_count": 9,
     "metadata": {},
     "output_type": "execute_result"
    },
    {
     "data": {
      "image/png": "[encoded data removed]",
      "text/plain": [
       "<Figure size 432x288 with 2 Axes>"
      ]
     },
     "metadata": {
      "needs_background": "light"
     },
     "output_type": "display_data"
    }
   ],
   "source": [
    "plt.subplot(2,1,1)\n",
    "plt.hist(l_s1)\n",
    "plt.subplot(2,1,2)\n",
    "plt.hist(l_s2)"
   ]
  },
  {
   "cell_type": "markdown",
   "metadata": {},
   "source": [
    "### Plot GT track with states color coded"
   ]
  },
  {
   "cell_type": "code",
   "execution_count": 10,
   "metadata": {},
   "outputs": [
    {
     "data": {
      "text/plain": [
       "([], [])"
      ]
     },
     "execution_count": 10,
     "metadata": {},
     "output_type": "execute_result"
    },
    {
     "data": {
      "image/png": "[encoded data removed]",
      "text/plain": [
       "<Figure size 432x288 with 1 Axes>"
      ]
     },
     "metadata": {},
     "output_type": "display_data"
    }
   ],
   "source": [
    "c1 = '#1f77b4'\n",
    "c2 = 'orange'\n",
    "track0 = mixed_data.loc[mixed_data['track_id']==0]\n",
    "#plt.plot(track0['X'].iloc[0:], track0['Y'].iloc[0:])\n",
    "s_est = np.array(track0['s'])\n",
    "lab1=True\n",
    "lab2=True\n",
    "for ii in range(track0['X'].shape[0]-2):\n",
    "    if s_est[ii+1] == 0:\n",
    "        if lab1:\n",
    "            plt.plot(track0['X'].iloc[ii+1:ii+3], track0['Y'].iloc[ii+1:ii+3], c=c1, label=r'$s_1$')\n",
    "            lab1=False\n",
    "        else:\n",
    "            plt.plot(track0['X'].iloc[ii+1:ii+3], track0['Y'].iloc[ii+1:ii+3], c=c1)\n",
    "    else:\n",
    "        if lab2:\n",
    "            plt.plot(track0['X'].iloc[ii+1:ii+3], track0['Y'].iloc[ii+1:ii+3], c=c2, label=r'$s_2$')\n",
    "            lab2=False\n",
    "        else:\n",
    "            plt.plot(track0['X'].iloc[ii+1:ii+3], track0['Y'].iloc[ii+1:ii+3], c=c2)\n",
    "        #print(o[ii])\n",
    "plt.legend()\n",
    "plt.xticks([])\n",
    "plt.yticks([])"
   ]
  },
  {
   "cell_type": "markdown",
   "metadata": {},
   "source": [
    "### Screen tracks and fit parameters using Baum-Welch for each track"
   ]
  },
  {
   "cell_type": "code",
   "execution_count": 11,
   "metadata": {},
   "outputs": [],
   "source": [
    "res_dic = {}\n",
    "counter = 0\n",
    "for tr in np.unique(mixed_data['track_id']):\n",
    "    track0 = mixed_data.loc[mixed_data['track_id']==tr]\n",
    "    Tm = np.array([[0.95, 0.05],[0.3, 0.7]]) \n",
    "    pi = np.array([0.95, 0.05]) # The prior probability of being in a s_1 and s_2 respectively\n",
    "    mu_l = np.array([-1.11, 0.5])\n",
    "    sigma_l = np.array([0.75, 0.75])\n",
    "    sigma_alpha_2 = 0.45\n",
    "    \n",
    "    X = np.array([track0['X'], track0['Y']]).T\n",
    "    dt = track0['t'].iloc[1]-track0['t'].iloc[0]\n",
    "    l, alpha = convert_to_planar(X,dt)\n",
    "    #print(alpha.shape)\n",
    "    o = np.array([l[:], alpha]).T\n",
    "    o_log = np.copy(o[:])\n",
    "    o_log[:,0] = np.log(o[:,0])\n",
    "    run_dic = {\"track_id\" : str(tr)}\n",
    "    mu_l_new, sigma_l_new, sigma_alpha2_new, T_new, pi_new = Baum_Welch(o_log[:], Tm, pi, mu_l, sigma_l, sigma_alpha_2, fit_mu=True, fit_sigma=True)\n",
    "    converged = False\n",
    "    iters = 0\n",
    "    while not converged and iters < 1000:\n",
    "        iters += 1\n",
    "        mu_l_old = np.copy(mu_l_new)\n",
    "        sigma_l_old = np.copy(sigma_l_new)\n",
    "        pi_old = np.copy(pi_new)\n",
    "        T_old = np.copy(T_new)\n",
    "        mu_l_new, sigma_l_new, sigma_alpha2_new, T_new, pi_new = Baum_Welch(o_log[:], T_new, pi_new, mu_l_new, sigma_l_new, sigma_alpha2_new, fit_mu=True, fit_sigma=True)\n",
    "        diff_m = mu_l_new - mu_l_old\n",
    "        diff_s = sigma_l_new - sigma_l_old\n",
    "        diff_p = pi_old - pi_new\n",
    "        diff_T = T_old - T_new\n",
    "        d_vector = [np.sqrt(diff_m.dot(diff_m)), \n",
    "                    np.sqrt(diff_s.dot(diff_s)), \n",
    "                    np.sqrt(diff_p.dot(diff_p)), \n",
    "                    np.linalg.norm(diff_T)]\n",
    "        #print(np.max(d_vector))\n",
    "        if np.max(d_vector) < 0.001:\n",
    "            converged = True\n",
    "\n",
    "    run_dic[\"mu_l\"] = np.copy(mu_l_new[:])\n",
    "    run_dic[\"sigma_l\"] = np.copy(sigma_l_new[:])\n",
    "    run_dic[\"sigma_alpha_2\"] = np.copy(sigma_alpha2_new)\n",
    "    run_dic[\"T\"] = np.copy(T_new[:])\n",
    "    run_dic[\"pi\"] = np.copy(pi_new[:])\n",
    "    res_dic[counter] = run_dic\n",
    "    counter += 1\n",
    "    \n",
    "with open(\"./Simulated_data/params_mixed_data.json\", \"w\") as write_file:\n",
    "    json.dump(res_dic, write_file, cls=NumpyArrayEncoder)"
   ]
  },
  {
   "cell_type": "markdown",
   "metadata": {},
   "source": [
    "### Plot fitted parameters"
   ]
  },
  {
   "cell_type": "code",
   "execution_count": 12,
   "metadata": {},
   "outputs": [],
   "source": [
    "mu = []\n",
    "T = []\n",
    "pi = []\n",
    "sigma = []\n",
    "for key in res_dic.keys():\n",
    "    mu.append(res_dic[key]['mu_l'])\n",
    "    pi.append(res_dic[key]['pi'])\n",
    "    T.append(res_dic[key]['T'])\n",
    "    sigma.append(res_dic[key]['sigma_l'])\n",
    "    \n",
    "mu = np.array(mu)\n",
    "T = np.array(T)\n",
    "pi = np.array(pi)\n",
    "sigma = np.array(sigma)"
   ]
  },
  {
   "cell_type": "code",
   "execution_count": 15,
   "metadata": {},
   "outputs": [
    {
     "data": {
      "text/plain": [
       "{'whiskers': [<matplotlib.lines.Line2D at 0x7f134c6f15d0>,\n",
       "  <matplotlib.lines.Line2D at 0x7f134c6e7610>,\n",
       "  <matplotlib.lines.Line2D at 0x7f134cd04cd0>,\n",
       "  <matplotlib.lines.Line2D at 0x7f134c734f10>],\n",
       " 'caps': [<matplotlib.lines.Line2D at 0x7f134d852510>,\n",
       "  <matplotlib.lines.Line2D at 0x7f134cc40310>,\n",
       "  <matplotlib.lines.Line2D at 0x7f134cd1a150>,\n",
       "  <matplotlib.lines.Line2D at 0x7f134c730250>],\n",
       " 'boxes': [<matplotlib.lines.Line2D at 0x7f134c6ee650>,\n",
       "  <matplotlib.lines.Line2D at 0x7f134cc17c50>],\n",
       " 'medians': [<matplotlib.lines.Line2D at 0x7f134c6d7c90>,\n",
       "  <matplotlib.lines.Line2D at 0x7f134c56c410>],\n",
       " 'fliers': [<matplotlib.lines.Line2D at 0x7f134cc89a10>,\n",
       "  <matplotlib.lines.Line2D at 0x7f134c6c1e90>],\n",
       " 'means': []}"
      ]
     },
     "execution_count": 15,
     "metadata": {},
     "output_type": "execute_result"
    },
    {
     "data": {
      "image/png": "[encoded data removed]",
      "text/plain": [
       "<Figure size 432x288 with 1 Axes>"
      ]
     },
     "metadata": {
      "needs_background": "light"
     },
     "output_type": "display_data"
    }
   ],
   "source": [
    "plt.boxplot(np.exp(mu+sigma/2))"
   ]
  },
  {
   "cell_type": "code",
   "execution_count": 16,
   "metadata": {},
   "outputs": [
    {
     "data": {
      "text/plain": [
       "{'whiskers': [<matplotlib.lines.Line2D at 0x7f134c592710>,\n",
       "  <matplotlib.lines.Line2D at 0x7f134c592b50>,\n",
       "  <matplotlib.lines.Line2D at 0x7f134c79e590>,\n",
       "  <matplotlib.lines.Line2D at 0x7f134c79e990>],\n",
       " 'caps': [<matplotlib.lines.Line2D at 0x7f134c592f90>,\n",
       "  <matplotlib.lines.Line2D at 0x7f134c595410>,\n",
       "  <matplotlib.lines.Line2D at 0x7f134c79edd0>,\n",
       "  <matplotlib.lines.Line2D at 0x7f134c834250>],\n",
       " 'boxes': [<matplotlib.lines.Line2D at 0x7f134c5922d0>,\n",
       "  <matplotlib.lines.Line2D at 0x7f134c79e090>],\n",
       " 'medians': [<matplotlib.lines.Line2D at 0x7f134c595890>,\n",
       "  <matplotlib.lines.Line2D at 0x7f134c834690>],\n",
       " 'fliers': [<matplotlib.lines.Line2D at 0x7f134c595cd0>,\n",
       "  <matplotlib.lines.Line2D at 0x7f134c834ad0>],\n",
       " 'means': []}"
      ]
     },
     "execution_count": 16,
     "metadata": {},
     "output_type": "execute_result"
    },
    {
     "data": {
      "image/png": "[encoded data removed]",
      "text/plain": [
       "<Figure size 432x288 with 1 Axes>"
      ]
     },
     "metadata": {
      "needs_background": "light"
     },
     "output_type": "display_data"
    }
   ],
   "source": [
    "plt.boxplot(pi)"
   ]
  },
  {
   "cell_type": "code",
   "execution_count": 17,
   "metadata": {},
   "outputs": [
    {
     "data": {
      "text/plain": [
       "{'whiskers': [<matplotlib.lines.Line2D at 0x7f132a957f50>,\n",
       "  <matplotlib.lines.Line2D at 0x7f132a95e3d0>,\n",
       "  <matplotlib.lines.Line2D at 0x7f132a8e8dd0>,\n",
       "  <matplotlib.lines.Line2D at 0x7f132a8f1210>,\n",
       "  <matplotlib.lines.Line2D at 0x7f132a8fabd0>,\n",
       "  <matplotlib.lines.Line2D at 0x7f132a902090>,\n",
       "  <matplotlib.lines.Line2D at 0x7f132a90ca90>,\n",
       "  <matplotlib.lines.Line2D at 0x7f132a90ced0>],\n",
       " 'caps': [<matplotlib.lines.Line2D at 0x7f132a95e810>,\n",
       "  <matplotlib.lines.Line2D at 0x7f132a95ec50>,\n",
       "  <matplotlib.lines.Line2D at 0x7f132a8f1650>,\n",
       "  <matplotlib.lines.Line2D at 0x7f132a8f1a90>,\n",
       "  <matplotlib.lines.Line2D at 0x7f132a9024d0>,\n",
       "  <matplotlib.lines.Line2D at 0x7f132a902950>,\n",
       "  <matplotlib.lines.Line2D at 0x7f132a916350>,\n",
       "  <matplotlib.lines.Line2D at 0x7f132a916790>],\n",
       " 'boxes': [<matplotlib.lines.Line2D at 0x7f132a957b10>,\n",
       "  <matplotlib.lines.Line2D at 0x7f132a8e8950>,\n",
       "  <matplotlib.lines.Line2D at 0x7f132a8fa750>,\n",
       "  <matplotlib.lines.Line2D at 0x7f132a90c610>],\n",
       " 'medians': [<matplotlib.lines.Line2D at 0x7f132a8e8110>,\n",
       "  <matplotlib.lines.Line2D at 0x7f132a8f1ed0>,\n",
       "  <matplotlib.lines.Line2D at 0x7f132a902d90>,\n",
       "  <matplotlib.lines.Line2D at 0x7f132a916bd0>],\n",
       " 'fliers': [<matplotlib.lines.Line2D at 0x7f132a8e8550>,\n",
       "  <matplotlib.lines.Line2D at 0x7f132a8fa350>,\n",
       "  <matplotlib.lines.Line2D at 0x7f132a90c210>,\n",
       "  <matplotlib.lines.Line2D at 0x7f132a91e050>],\n",
       " 'means': []}"
      ]
     },
     "execution_count": 17,
     "metadata": {},
     "output_type": "execute_result"
    },
    {
     "data": {
      "image/png": "[encoded data removed]",
      "text/plain": [
       "<Figure size 432x288 with 1 Axes>"
      ]
     },
     "metadata": {
      "needs_background": "light"
     },
     "output_type": "display_data"
    }
   ],
   "source": [
    "T.shape\n",
    "plt.boxplot(T.reshape(100,4))"
   ]
  },
  {
   "cell_type": "code",
   "execution_count": 19,
   "metadata": {},
   "outputs": [
    {
     "name": "stdout",
     "output_type": "stream",
     "text": [
      "0.026363636363636363\n"
     ]
    },
    {
     "data": {
      "image/png": "[encoded data removed]",
      "text/plain": [
       "<Figure size 864x576 with 1 Axes>"
      ]
     },
     "metadata": {
      "needs_background": "light"
     },
     "output_type": "display_data"
    }
   ],
   "source": [
    "err = []\n",
    "TP = []\n",
    "FP = [] \n",
    "FN = []\n",
    "for ii in np.unique(mixed_data['track_id']):\n",
    "    track0 = mixed_data.loc[mixed_data['track_id']==ii]\n",
    "    X = np.array([track0['X'], track0['Y']]).T\n",
    "    dt = track0['t'].iloc[1]-track0['t'].iloc[0]\n",
    "    l, alpha = convert_to_planar(X,dt)\n",
    "    T = res_dic[ii]['T']\n",
    "    mu = res_dic[ii]['mu_l']\n",
    "    sigma = res_dic[ii]['sigma_l']\n",
    "    pi = res_dic[ii]['pi']\n",
    "    o = np.array([l[:], alpha]).T\n",
    "    s_est, D, E = viterbi(T, pi, mu, sigma, 0.45, o)\n",
    "    err.append(sum(abs(track0['s'].iloc[1:-1] - s_est))/s_est.shape[0])\n",
    "    st = track0['s'].iloc[1:-1]\n",
    "    TP.append(np.sum(np.array((st==1))*np.array((s_est==1))))\n",
    "    FP.append(np.sum(np.array((st==0))*np.array((s_est==1))))\n",
    "    FN.append(np.sum(np.array((st==1))*np.array((s_est==0))))\n",
    "\n",
    "precision = np.array(TP)/(np.array(TP)+np.array(FP))\n",
    "recall = np.array(TP)/(np.array(TP)+np.array(FN))\n",
    "fig = plt.figure(figsize=(12,8))\n",
    "\n",
    "pos = np.array([1, 3])\n",
    "width = 0.2\n",
    "box1 = plt.boxplot([ precision, recall, 2*(precision*recall)/(precision+recall)], patch_artist=True, notch=True)\n",
    "#box2 = plt.boxplot(recall, positions=pos-2*width, widths=width, patch_artist=True, notch=True)\n",
    "#box3 = plt.boxplot(precision, positions=pos-width, widths=width, patch_artist=True, notch=True)\n",
    "\n",
    "colors = ['black', 'black', 'black']\n",
    "#box1 = plt.boxplot(1-err, patch_artist=True, notch=True)\n",
    "for p1, c in zip(box1['boxes'], colors):\n",
    "    p1.set_facecolor(c)\n",
    "    \n",
    "plt.ylabel('', size=24)\n",
    "plt.xticks([1,2,3], ['Precision', 'Recall', 'F1 score'], size=24)\n",
    "plt.yticks(size=22)\n",
    "\n",
    "print(np.mean(err))\n",
    "\n",
    "plt.savefig('/home/svensson/Dropbox/Projects/Perioxomes/Manuscript/error_box.svg')"
   ]
  },
  {
   "cell_type": "markdown",
   "metadata": {},
   "source": [
    "### Use Viterbi's algorithm to predict states for each step of a track"
   ]
  },
  {
   "cell_type": "code",
   "execution_count": 20,
   "metadata": {},
   "outputs": [
    {
     "name": "stdout",
     "output_type": "stream",
     "text": [
      "[0.50479536 0.49520464]\n"
     ]
    }
   ],
   "source": [
    "track0 = mixed_data.loc[mixed_data['track_id']==0]\n",
    "dt = track0['t'].iloc[1]-track0['t'].iloc[0]\n",
    "l, alpha = convert_to_planar(X,dt)\n",
    "T = res_dic[0]['T']\n",
    "mu = res_dic[0]['mu_l']\n",
    "sigma = res_dic[0]['sigma_l']\n",
    "pi = res_dic[0]['pi']\n",
    "o = np.array([l[:], alpha]).T\n",
    "print(pi)\n",
    "s_est, D, E = viterbi(T, pi, mu, sigma, 0.45, o)"
   ]
  },
  {
   "cell_type": "code",
   "execution_count": 24,
   "metadata": {},
   "outputs": [
    {
     "data": {
      "image/png": "[encoded data removed]",
      "text/plain": [
       "<Figure size 864x576 with 1 Axes>"
      ]
     },
     "metadata": {},
     "output_type": "display_data"
    }
   ],
   "source": [
    "fig = plt.figure(figsize=(12,8))\n",
    "c1 = '#1f77b4'\n",
    "c2 = 'orange'\n",
    "#track0 = mixed_data.loc[mixed_data['track_id']==0]\n",
    "#plt.plot(track0['X'].iloc[0:], track0['Y'].iloc[0:])\n",
    "#s_est = np.array(track0['s'])\n",
    "lab1=True\n",
    "lab2=True\n",
    "\n",
    "for ii in range(track0['X'].shape[0]-3):\n",
    "    if s_est[ii] == 0:\n",
    "        if lab1:\n",
    "            plt.plot(track0['X'].iloc[ii+1:ii+3], track0['Y'].iloc[ii+2:ii+4], c=c1, label=r'$s_1$')\n",
    "            lab1=False\n",
    "        else:\n",
    "            plt.plot(track0['X'].iloc[ii+1:ii+3], track0['Y'].iloc[ii+2:ii+4], c=c1)\n",
    "    else:\n",
    "        if lab2:\n",
    "            plt.plot(track0['X'].iloc[ii+1:ii+3], track0['Y'].iloc[ii+2:ii+4], c=c2, label=r'$s_2$')\n",
    "            lab2=False\n",
    "        else:\n",
    "            plt.plot(track0['X'].iloc[ii+1:ii+3], track0['Y'].iloc[ii+2:ii+4], c=c2)\n",
    "        #print(o[ii])\n",
    "plt.legend()\n",
    "plt.xticks([])\n",
    "plt.yticks([])\n",
    "#plt.savefig('/home/svensson/Dropbox/Projects/Perioxomes/Plots/simulated_track_1_Viterbi_fitted.svg')\n",
    "plt.savefig('/home/svensson/Dropbox/Projects/Perioxomes/Manuscript/simulated_track_1_Viterbi_fitted.svg')"
   ]
  },
  {
   "cell_type": "code",
   "execution_count": 23,
   "metadata": {},
   "outputs": [
    {
     "data": {
      "image/png": "[encoded data removed]",
      "text/plain": [
       "<Figure size 864x576 with 1 Axes>"
      ]
     },
     "metadata": {},
     "output_type": "display_data"
    }
   ],
   "source": [
    "c1 = '#1f77b4'\n",
    "c2 = 'orange'\n",
    "fig = plt.figure(figsize=(12,8))\n",
    "#track0 = mixed_data.loc[mixed_data['track_id']==0]\n",
    "#plt.plot(track0['X'].iloc[0:], track0['Y'].iloc[0:])\n",
    "#s_est = np.array(track0['s'])\n",
    "lab1=True\n",
    "lab2=True\n",
    "s = np.array(track0['s'])\n",
    "\n",
    "for ii in range(track0['X'].shape[0]-3):\n",
    "    if s[ii+1] == 0:\n",
    "        if lab1:\n",
    "            plt.plot(track0['X'].iloc[ii+1:ii+3], track0['Y'].iloc[ii+2:ii+4], c=c1, label=r'$s_1$')\n",
    "            lab1=False\n",
    "        else:\n",
    "            plt.plot(track0['X'].iloc[ii+1:ii+3], track0['Y'].iloc[ii+2:ii+4], c=c1)\n",
    "    else:\n",
    "        if lab2:\n",
    "            plt.plot(track0['X'].iloc[ii+1:ii+3], track0['Y'].iloc[ii+2:ii+4], c=c2, label=r'$s_2$')\n",
    "            lab2=False\n",
    "        else:\n",
    "            plt.plot(track0['X'].iloc[ii+1:ii+3], track0['Y'].iloc[ii+2:ii+4], c=c2)\n",
    "        #print(o[ii])\n",
    "plt.legend()\n",
    "plt.xticks([])\n",
    "plt.yticks([])\n",
    "#plt.savefig('/home/svensson/Dropbox/Projects/Perioxomes/Plots/simulated_track_1_GT.svg')\n",
    "plt.savefig('/home/svensson/Dropbox/Projects/Perioxomes/Manuscript/simulated_track_1_GT.svg')"
   ]
  },
  {
   "cell_type": "code",
   "execution_count": null,
   "metadata": {},
   "outputs": [],
   "source": []
  }
 ],
 "metadata": {
  "kernelspec": {
   "display_name": "Python 3",
   "language": "python",
   "name": "python3"
  },
  "language_info": {
   "codemirror_mode": {
    "name": "ipython",
    "version": 3
   },
   "file_extension": ".py",
   "mimetype": "text/x-python",
   "name": "python",
   "nbconvert_exporter": "python",
   "pygments_lexer": "ipython3",
   "version": "3.7.7"
  }
 },
 "nbformat": 4,
 "nbformat_minor": 4
}
