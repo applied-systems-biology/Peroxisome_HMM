{
 "cells": [
  {
   "cell_type": "code",
   "execution_count": 1,
   "metadata": {},
   "outputs": [],
   "source": [
    "from tqdm import tqdm\n",
    "import json\n",
    "import os\n",
    "import glob\n",
    "import pandas as pd\n",
    "import pylab as plt\n",
    "import seaborn as sns\n",
    "import numpy as np\n",
    "from json import JSONEncoder\n",
    "class NumpyArrayEncoder(JSONEncoder):\n",
    "    def default(self, obj):\n",
    "        if isinstance(obj, np.ndarray):\n",
    "            return obj.tolist()\n",
    "        return JSONEncoder.default(self, obj)\n",
    "from Peroxisome_HMM import viterbi, Baum_Welch, convert_to_cartesian, convert_to_planar, flatten_list"
   ]
  },
  {
   "cell_type": "code",
   "execution_count": 2,
   "metadata": {},
   "outputs": [],
   "source": [
    "brownian_data = pd.read_csv('./Brownian_PRW_tracks.csv', sep=',')"
   ]
  },
  {
   "cell_type": "code",
   "execution_count": 5,
   "metadata": {},
   "outputs": [],
   "source": [
    "Tm = np.array([[0.95, 0.05],[0.3, 0.7]]) \n",
    "pi = np.array([0.95, 0.05]) # The prior probability of being in a s_1 and s_2 respectively\n",
    "mu_l = np.array([-1.11, 0.5])\n",
    "sigma_l = np.array([0.75, 0.75])\n",
    "sigma_alpha_2 = 0.45"
   ]
  },
  {
   "cell_type": "code",
   "execution_count": 6,
   "metadata": {},
   "outputs": [
    {
     "name": "stdout",
     "output_type": "stream",
     "text": [
      "1.0\n",
      "[1.01251821 2.0125774  1.68098663 0.48169026 1.66210961 0.42279942\n",
      " 0.27113163 2.033678   1.01123715 0.28824942]\n"
     ]
    }
   ],
   "source": [
    "X = np.array([track0['X'], track0['Y']]).T\n",
    "dt = track0['t'].iloc[1]-track0['t'].iloc[0]\n",
    "print(dt)\n",
    "l, alpha = convert_to_planar(X,dt)\n",
    "print(l[:10])\n",
    "#print(alpha.shape)\n",
    "o = np.array([l[:], alpha]).T\n",
    "o_log = np.copy(o[:])\n",
    "o_log[:,0] = np.log(o[:,0])\n",
    "sigma_alpha_2 = 0.45\n",
    "mu_l_new, sigma_l_new, sigma_alpha2_new, T_new, pi_new = Baum_Welch(o_log[:], Tm, pi, mu_l, sigma_l, sigma_alpha_2, fit_mu=True, fit_sigma=True, fit_T=True)\n",
    "for ii in range(10):\n",
    "    mu_l_new, sigma_l_new, sigma_alpha2_new, T_new, pi_new = Baum_Welch(o_log[:], T_new, pi_new, mu_l_new, sigma_l_new, sigma_alpha2_new, fit_mu=True, fit_sigma=True, fit_T=True)"
   ]
  },
  {
   "cell_type": "code",
   "execution_count": null,
   "metadata": {},
   "outputs": [],
   "source": []
  },
  {
   "cell_type": "code",
   "execution_count": 7,
   "metadata": {},
   "outputs": [],
   "source": [
    "mixed_data = pd.read_csv('./Simulated_data/Mixed_PRW_tracks.csv', sep=',')"
   ]
  },
  {
   "cell_type": "code",
   "execution_count": 8,
   "metadata": {},
   "outputs": [
    {
     "data": {
      "text/plain": [
       "(array([ 8.,  7.,  3., 11., 14., 19., 21., 11., 10.,  9.]),\n",
       " array([-2.89124554, -2.30832452, -1.72540351, -1.1424825 , -0.55956149,\n",
       "         0.02335953,  0.60628054,  1.18920155,  1.77212256,  2.35504358,\n",
       "         2.93796459]),\n",
       " <BarContainer object of 10 artists>)"
      ]
     },
     "execution_count": 8,
     "metadata": {},
     "output_type": "execute_result"
    },
    {
     "data": {
      "image/png": "[encoded data removed]",
      "text/plain": [
       "<Figure size 432x288 with 1 Axes>"
      ]
     },
     "metadata": {
      "needs_background": "light"
     },
     "output_type": "display_data"
    }
   ],
   "source": [
    "track0 = mixed_data.loc[mixed_data['track_id']==1]\n",
    "X = np.array([track0['X'], track0['Y']]).T\n",
    "s = np.array(track0['s'])\n",
    "l, alpha = convert_to_planar(X,dt)\n",
    "s = s[1:-1]\n",
    "straight = (s == 1)\n",
    "brown = (s == 0)\n",
    "plt.hist(alpha[straight])\n",
    "plt.hist(alpha[brown],alpha=0.5)"
   ]
  },
  {
   "cell_type": "code",
   "execution_count": 9,
   "metadata": {},
   "outputs": [
    {
     "data": {
      "text/plain": [
       "[<matplotlib.lines.Line2D at 0x7ff20cd86ad0>]"
      ]
     },
     "execution_count": 9,
     "metadata": {},
     "output_type": "execute_result"
    },
    {
     "data": {
      "image/png": "[encoded data removed]",
      "text/plain": [
       "<Figure size 432x288 with 1 Axes>"
      ]
     },
     "metadata": {
      "needs_background": "light"
     },
     "output_type": "display_data"
    }
   ],
   "source": [
    "plt.plot(X[:,0], X[:,1])"
   ]
  },
  {
   "cell_type": "code",
   "execution_count": 10,
   "metadata": {},
   "outputs": [
    {
     "name": "stderr",
     "output_type": "stream",
     "text": [
      "/home/svensson/anaconda3/lib/python3.7/site-packages/numba/core/ir_utils.py:2031: NumbaPendingDeprecationWarning: \u001b[1m\n",
      "Encountered the use of a type that is scheduled for deprecation: type 'reflected list' found for argument 'll' of function 'flatten_list'.\n",
      "\n",
      "For more information visit https://numba.pydata.org/numba-doc/latest/reference/deprecation.html#deprecation-of-reflection-for-list-and-set-types\n",
      "\u001b[1m\n",
      "File \"Peroxisome_HMM.py\", line 10:\u001b[0m\n",
      "\u001b[1m@jit(nopython=True)\n",
      "\u001b[1mdef flatten_list(ll):\n",
      "\u001b[0m\u001b[1m^\u001b[0m\u001b[0m\n",
      "\u001b[0m\n",
      "  warnings.warn(NumbaPendingDeprecationWarning(msg, loc=loc))\n"
     ]
    }
   ],
   "source": [
    "l_s1 = []\n",
    "l_s2 = []\n",
    "alpha_s1 = []\n",
    "alpha_s2 = []\n",
    "\n",
    "for tr in np.unique(mixed_data['track_id']):\n",
    "    track0 = mixed_data.loc[mixed_data['track_id']==tr]\n",
    "    X = np.array([track0['X'], track0['Y']]).T\n",
    "    s = np.array(track0['s'])\n",
    "    l, alpha = convert_to_planar(X,dt)\n",
    "    s = s[1:-1]\n",
    "    straight = (s == 1)\n",
    "    brown = (s == 0)\n",
    "    l_s2.append(l[straight])\n",
    "    l_s1.append(l[brown])\n",
    "    alpha_s1.append(alpha[straight])\n",
    "    alpha_s2.append(alpha[brown])\n",
    "    \n",
    "l_s1 = flatten_list(l_s1)\n",
    "l_s2 = flatten_list(l_s2)\n",
    "alpha_s1 = flatten_list(alpha_s1)\n",
    "alpha_s2 = flatten_list(alpha_s2)\n"
   ]
  },
  {
   "cell_type": "code",
   "execution_count": 11,
   "metadata": {},
   "outputs": [
    {
     "data": {
      "text/plain": [
       "(array([ 572.,  677.,  860., 1286., 1744., 1724., 1245.,  873.,  622.,\n",
       "         559.]),\n",
       " array([-3.14088776e+00, -2.51305283e+00, -1.88521789e+00, -1.25738296e+00,\n",
       "        -6.29548031e-01, -1.71309927e-03,  6.26121833e-01,  1.25395676e+00,\n",
       "         1.88179170e+00,  2.50962663e+00,  3.13746156e+00]),\n",
       " <BarContainer object of 10 artists>)"
      ]
     },
     "execution_count": 11,
     "metadata": {},
     "output_type": "execute_result"
    },
    {
     "data": {
      "image/png": "[encoded data removed]",
      "text/plain": [
       "<Figure size 432x288 with 2 Axes>"
      ]
     },
     "metadata": {
      "needs_background": "light"
     },
     "output_type": "display_data"
    }
   ],
   "source": [
    "plt.subplot(2,1,1)\n",
    "plt.hist(alpha_s1)\n",
    "plt.subplot(2,1,2)\n",
    "plt.hist(alpha_s2)"
   ]
  },
  {
   "cell_type": "code",
   "execution_count": 12,
   "metadata": {},
   "outputs": [
    {
     "data": {
      "text/plain": [
       "(array([   3.,   51.,  318., 1188., 2429., 2836., 1924.,  718.,  147.,\n",
       "          24.]),\n",
       " array([ 4.3266565 ,  5.41110106,  6.49554563,  7.57999019,  8.66443475,\n",
       "         9.74887931, 10.83332388, 11.91776844, 13.002213  , 14.08665757,\n",
       "        15.17110213]),\n",
       " <BarContainer object of 10 artists>)"
      ]
     },
     "execution_count": 12,
     "metadata": {},
     "output_type": "execute_result"
    },
    {
     "data": {
      "image/png": "[encoded data removed]",
      "text/plain": [
       "<Figure size 432x288 with 2 Axes>"
      ]
     },
     "metadata": {
      "needs_background": "light"
     },
     "output_type": "display_data"
    }
   ],
   "source": [
    "plt.subplot(2,1,1)\n",
    "plt.hist(l_s1)\n",
    "plt.subplot(2,1,2)\n",
    "plt.hist(l_s2)"
   ]
  },
  {
   "cell_type": "code",
   "execution_count": 13,
   "metadata": {},
   "outputs": [
    {
     "name": "stdout",
     "output_type": "stream",
     "text": [
      "[0. 0. 1. 1. 1. 0. 0. 0. 0. 0. 0. 0. 0. 0. 0. 0. 0. 0. 0. 0. 0. 0. 1. 1.\n",
      " 1. 1. 1. 1. 1. 1. 1. 1. 1. 1. 1. 1. 1. 1. 1. 1. 1. 0. 0. 0. 0. 0. 0. 0.\n",
      " 0. 0. 0. 0. 0. 0. 0. 0. 0. 0. 0. 0. 0. 0. 0. 0. 0. 0. 0. 0. 0. 1. 1. 1.\n",
      " 1. 1. 1. 1. 1. 1. 1. 1. 1. 1. 1. 1. 1. 1. 1. 1. 1. 1. 1. 1. 1. 1. 1. 1.\n",
      " 1. 1. 1. 1. 1. 1. 1. 1. 1. 1. 1. 1. 1. 1. 0. 0. 0. 0. 0. 0. 0. 0. 0. 0.\n",
      " 0. 0. 0. 0. 0. 0. 0. 0. 0. 0. 0. 0. 0. 1. 1. 1. 1. 1. 1. 1. 1. 0. 0. 0.\n",
      " 0. 0. 0. 0. 0. 0. 0. 0. 0. 0. 0. 0. 0. 0. 0. 0. 0. 0. 1. 1. 1. 1. 1. 1.\n",
      " 0. 0. 0. 0. 0. 0. 0. 0. 0. 0. 0. 0. 0. 1. 1. 1. 1. 1. 1. 1. 1. 1. 1. 1.\n",
      " 1. 1. 1. 1. 1. 1. 1. 1.]\n"
     ]
    },
    {
     "data": {
      "text/plain": [
       "([], [])"
      ]
     },
     "execution_count": 13,
     "metadata": {},
     "output_type": "execute_result"
    },
    {
     "data": {
      "image/png": "[encoded data removed]",
      "text/plain": [
       "<Figure size 432x288 with 1 Axes>"
      ]
     },
     "metadata": {},
     "output_type": "display_data"
    }
   ],
   "source": [
    "c1 = '#1f77b4'\n",
    "c2 = 'orange'\n",
    "track0 = mixed_data.loc[mixed_data['track_id']==0]\n",
    "#plt.plot(track0['X'].iloc[0:], track0['Y'].iloc[0:])\n",
    "s_est = np.array(track0['s'])\n",
    "lab1=True\n",
    "lab2=True\n",
    "print(s_est)\n",
    "for ii in range(track0['X'].shape[0]-2):\n",
    "    if s_est[ii+1] == 0:\n",
    "        if lab1:\n",
    "            plt.plot(track0['X'].iloc[ii+1:ii+3], track0['Y'].iloc[ii+1:ii+3], c=c1, label=r'$s_1$')\n",
    "            lab1=False\n",
    "        else:\n",
    "            plt.plot(track0['X'].iloc[ii+1:ii+3], track0['Y'].iloc[ii+1:ii+3], c=c1)\n",
    "    else:\n",
    "        if lab2:\n",
    "            plt.plot(track0['X'].iloc[ii+1:ii+3], track0['Y'].iloc[ii+1:ii+3], c=c2, label=r'$s_2$')\n",
    "            lab2=False\n",
    "        else:\n",
    "            plt.plot(track0['X'].iloc[ii+1:ii+3], track0['Y'].iloc[ii+1:ii+3], c=c2)\n",
    "        #print(o[ii])\n",
    "plt.legend()\n",
    "plt.xticks([])\n",
    "plt.yticks([])"
   ]
  },
  {
   "cell_type": "code",
   "execution_count": 14,
   "metadata": {},
   "outputs": [],
   "source": [
    "res_dic = {}\n",
    "counter = 0\n",
    "for tr in np.unique(mixed_data['track_id']):\n",
    "    track0 = mixed_data.loc[mixed_data['track_id']==tr]\n",
    "    Tm = np.array([[0.95, 0.05],[0.3, 0.7]]) \n",
    "    pi = np.array([0.95, 0.05]) # The prior probability of being in a s_1 and s_2 respectively\n",
    "    mu_l = np.array([-1.11, 0.5])\n",
    "    sigma_l = np.array([0.75, 0.75])\n",
    "    sigma_alpha_2 = 0.45\n",
    "    \n",
    "    X = np.array([track0['X'], track0['Y']]).T\n",
    "    dt = track0['t'].iloc[1]-track0['t'].iloc[0]\n",
    "    l, alpha = convert_to_planar(X,dt)\n",
    "    #print(alpha.shape)\n",
    "    o = np.array([l[:], alpha]).T\n",
    "    o_log = np.copy(o[:])\n",
    "    o_log[:,0] = np.log(o[:,0])\n",
    "    run_dic = {\"track_id\" : str(tr)}\n",
    "    mu_l_new, sigma_l_new, sigma_alpha2_new, T_new, pi_new = Baum_Welch(o_log[:], Tm, pi, mu_l, sigma_l, sigma_alpha_2, fit_mu=True, fit_sigma=True)\n",
    "    converged = False\n",
    "    iters = 0\n",
    "    while not converged and iters < 1000:\n",
    "        iters += 1\n",
    "        mu_l_old = np.copy(mu_l_new)\n",
    "        sigma_l_old = np.copy(sigma_l_new)\n",
    "        pi_old = np.copy(pi_new)\n",
    "        T_old = np.copy(T_new)\n",
    "        mu_l_new, sigma_l_new, sigma_alpha2_new, T_new, pi_new = Baum_Welch(o_log[:], T_new, pi_new, mu_l_new, sigma_l_new, sigma_alpha2_new, fit_mu=True, fit_sigma=True)\n",
    "        diff_m = mu_l_new - mu_l_old\n",
    "        diff_s = sigma_l_new - sigma_l_old\n",
    "        diff_p = pi_old - pi_new\n",
    "        diff_T = T_old - T_new\n",
    "        d_vector = [np.sqrt(diff_m.dot(diff_m)), \n",
    "                    np.sqrt(diff_s.dot(diff_s)), \n",
    "                    np.sqrt(diff_p.dot(diff_p)), \n",
    "                    np.linalg.norm(diff_T)]\n",
    "        #print(np.max(d_vector))\n",
    "        if np.max(d_vector) < 0.001:\n",
    "            converged = True\n",
    "\n",
    "    run_dic[\"mu_l\"] = np.copy(mu_l_new[:])\n",
    "    run_dic[\"sigma_l\"] = np.copy(sigma_l_new[:])\n",
    "    run_dic[\"sigma_alpha_2\"] = np.copy(sigma_alpha2_new)\n",
    "    run_dic[\"T\"] = np.copy(T_new[:])\n",
    "    run_dic[\"pi\"] = np.copy(pi_new[:])\n",
    "    res_dic[counter] = run_dic\n",
    "    counter += 1\n",
    "    \n",
    "with open(\"./Simulated_data/params_mixed_data.json\", \"w\") as write_file:\n",
    "    json.dump(res_dic, write_file, cls=NumpyArrayEncoder)"
   ]
  },
  {
   "cell_type": "code",
   "execution_count": 15,
   "metadata": {},
   "outputs": [],
   "source": [
    "mu = []\n",
    "T = []\n",
    "pi = []\n",
    "sigma = []\n",
    "for key in res_dic.keys():\n",
    "    mu.append(res_dic[key]['mu_l'])\n",
    "    pi.append(res_dic[key]['pi'])\n",
    "    T.append(res_dic[key]['T'])\n",
    "    sigma.append(res_dic[key]['sigma_l'])\n",
    "    \n",
    "mu = np.array(mu)\n",
    "T = np.array(T)\n",
    "pi = np.array(pi)\n",
    "sigma = np.array(sigma)"
   ]
  },
  {
   "cell_type": "code",
   "execution_count": 16,
   "metadata": {},
   "outputs": [
    {
     "data": {
      "text/plain": [
       "{'track_id': '0',\n",
       " 'mu_l': array([1.14841915, 2.27501759]),\n",
       " 'sigma_l': array([0.64570724, 0.14121574]),\n",
       " 'sigma_alpha_2': array(0.45),\n",
       " 'T': array([[0.91618924, 0.08381076],\n",
       "        [0.06623472, 0.93376528]]),\n",
       " 'pi': array([0.50479536, 0.49520464])}"
      ]
     },
     "execution_count": 16,
     "metadata": {},
     "output_type": "execute_result"
    }
   ],
   "source": [
    "res_dic[0]"
   ]
  },
  {
   "cell_type": "code",
   "execution_count": 17,
   "metadata": {},
   "outputs": [
    {
     "data": {
      "text/plain": [
       "{'whiskers': [<matplotlib.lines.Line2D at 0x7ff1eaa40e90>,\n",
       "  <matplotlib.lines.Line2D at 0x7ff1ea9adb50>,\n",
       "  <matplotlib.lines.Line2D at 0x7ff1eb7b1a50>,\n",
       "  <matplotlib.lines.Line2D at 0x7ff1eb7b1510>],\n",
       " 'caps': [<matplotlib.lines.Line2D at 0x7ff1ea9add50>,\n",
       "  <matplotlib.lines.Line2D at 0x7ff1ea9ad5d0>,\n",
       "  <matplotlib.lines.Line2D at 0x7ff20c727590>,\n",
       "  <matplotlib.lines.Line2D at 0x7ff20c727650>],\n",
       " 'boxes': [<matplotlib.lines.Line2D at 0x7ff1eaa40910>,\n",
       "  <matplotlib.lines.Line2D at 0x7ff1eaa94cd0>],\n",
       " 'medians': [<matplotlib.lines.Line2D at 0x7ff1eaa94ad0>,\n",
       "  <matplotlib.lines.Line2D at 0x7ff1eae87d90>],\n",
       " 'fliers': [<matplotlib.lines.Line2D at 0x7ff1eaa941d0>,\n",
       "  <matplotlib.lines.Line2D at 0x7ff1eb271790>],\n",
       " 'means': []}"
      ]
     },
     "execution_count": 17,
     "metadata": {},
     "output_type": "execute_result"
    },
    {
     "data": {
      "image/png": "[encoded data removed]",
      "text/plain": [
       "<Figure size 432x288 with 1 Axes>"
      ]
     },
     "metadata": {
      "needs_background": "light"
     },
     "output_type": "display_data"
    }
   ],
   "source": [
    "plt.boxplot(np.exp(mu+sigma/2))"
   ]
  },
  {
   "cell_type": "code",
   "execution_count": 18,
   "metadata": {},
   "outputs": [
    {
     "data": {
      "text/plain": [
       "{'whiskers': [<matplotlib.lines.Line2D at 0x7ff20c658190>,\n",
       "  <matplotlib.lines.Line2D at 0x7ff20c658390>,\n",
       "  <matplotlib.lines.Line2D at 0x7ff20cb99110>,\n",
       "  <matplotlib.lines.Line2D at 0x7ff20cc56210>],\n",
       " 'caps': [<matplotlib.lines.Line2D at 0x7ff1ea9b6150>,\n",
       "  <matplotlib.lines.Line2D at 0x7ff1ea9b6e50>,\n",
       "  <matplotlib.lines.Line2D at 0x7ff1eb051590>,\n",
       "  <matplotlib.lines.Line2D at 0x7ff1eb051110>],\n",
       " 'boxes': [<matplotlib.lines.Line2D at 0x7ff20c658250>,\n",
       "  <matplotlib.lines.Line2D at 0x7ff20cb99b90>],\n",
       " 'medians': [<matplotlib.lines.Line2D at 0x7ff1ea9b6d90>,\n",
       "  <matplotlib.lines.Line2D at 0x7ff20c8baad0>],\n",
       " 'fliers': [<matplotlib.lines.Line2D at 0x7ff20c72ddd0>,\n",
       "  <matplotlib.lines.Line2D at 0x7ff1eaa78e90>],\n",
       " 'means': []}"
      ]
     },
     "execution_count": 18,
     "metadata": {},
     "output_type": "execute_result"
    },
    {
     "data": {
      "image/png": "[encoded data removed]",
      "text/plain": [
       "<Figure size 432x288 with 1 Axes>"
      ]
     },
     "metadata": {
      "needs_background": "light"
     },
     "output_type": "display_data"
    }
   ],
   "source": [
    "plt.boxplot(pi)"
   ]
  },
  {
   "cell_type": "code",
   "execution_count": 19,
   "metadata": {},
   "outputs": [
    {
     "data": {
      "text/plain": [
       "{'whiskers': [<matplotlib.lines.Line2D at 0x7ff1eba76a90>,\n",
       "  <matplotlib.lines.Line2D at 0x7ff1eba76ed0>,\n",
       "  <matplotlib.lines.Line2D at 0x7ff1eb470910>,\n",
       "  <matplotlib.lines.Line2D at 0x7ff1eb470d10>,\n",
       "  <matplotlib.lines.Line2D at 0x7ff1eb481710>,\n",
       "  <matplotlib.lines.Line2D at 0x7ff1eb481b90>,\n",
       "  <matplotlib.lines.Line2D at 0x7ff1eb4925d0>,\n",
       "  <matplotlib.lines.Line2D at 0x7ff1eb492a10>],\n",
       " 'caps': [<matplotlib.lines.Line2D at 0x7ff1eb9ffd10>,\n",
       "  <matplotlib.lines.Line2D at 0x7ff1eb9ff910>,\n",
       "  <matplotlib.lines.Line2D at 0x7ff1eb479190>,\n",
       "  <matplotlib.lines.Line2D at 0x7ff1eb4795d0>,\n",
       "  <matplotlib.lines.Line2D at 0x7ff1eb481fd0>,\n",
       "  <matplotlib.lines.Line2D at 0x7ff1eb489490>,\n",
       "  <matplotlib.lines.Line2D at 0x7ff1eb492e50>,\n",
       "  <matplotlib.lines.Line2D at 0x7ff1eb49b2d0>],\n",
       " 'boxes': [<matplotlib.lines.Line2D at 0x7ff1eba765d0>,\n",
       "  <matplotlib.lines.Line2D at 0x7ff1eb4704d0>,\n",
       "  <matplotlib.lines.Line2D at 0x7ff1eb4812d0>,\n",
       "  <matplotlib.lines.Line2D at 0x7ff1eb492190>],\n",
       " 'medians': [<matplotlib.lines.Line2D at 0x7ff1eb9ff350>,\n",
       "  <matplotlib.lines.Line2D at 0x7ff1eb479a10>,\n",
       "  <matplotlib.lines.Line2D at 0x7ff1eb4898d0>,\n",
       "  <matplotlib.lines.Line2D at 0x7ff1eb49b710>],\n",
       " 'fliers': [<matplotlib.lines.Line2D at 0x7ff1eb470090>,\n",
       "  <matplotlib.lines.Line2D at 0x7ff1eb479e50>,\n",
       "  <matplotlib.lines.Line2D at 0x7ff1eb489d10>,\n",
       "  <matplotlib.lines.Line2D at 0x7ff1eb49bb50>],\n",
       " 'means': []}"
      ]
     },
     "execution_count": 19,
     "metadata": {},
     "output_type": "execute_result"
    },
    {
     "data": {
      "image/png": "[encoded data removed]",
      "text/plain": [
       "<Figure size 432x288 with 1 Axes>"
      ]
     },
     "metadata": {
      "needs_background": "light"
     },
     "output_type": "display_data"
    }
   ],
   "source": [
    "T.shape\n",
    "plt.boxplot(T.reshape(100,4))"
   ]
  },
  {
   "cell_type": "code",
   "execution_count": 20,
   "metadata": {},
   "outputs": [
    {
     "data": {
      "text/plain": [
       "{'track_id': '1',\n",
       " 'mu_l': array([1.30307556, 2.33128883]),\n",
       " 'sigma_l': array([0.56108833, 0.12672876]),\n",
       " 'sigma_alpha_2': array(0.45),\n",
       " 'T': array([[0.9504473 , 0.0495527 ],\n",
       "        [0.08399285, 0.91600715]]),\n",
       " 'pi': array([0.56356806, 0.43643194])}"
      ]
     },
     "execution_count": 20,
     "metadata": {},
     "output_type": "execute_result"
    }
   ],
   "source": [
    "res_dic[1]"
   ]
  },
  {
   "cell_type": "code",
   "execution_count": 58,
   "metadata": {},
   "outputs": [
    {
     "name": "stdout",
     "output_type": "stream",
     "text": [
      "0.026363636363636363\n",
      "[95, 83, 52, 65, 76, 129, 37, 59, 79, 38, 99, 102, 128, 82, 128, 111, 110, 95, 54, 116, 114, 123, 100, 21, 109, 64, 71, 77, 126, 109, 124, 93, 65, 70, 104, 96, 81, 124, 104, 53, 104, 116, 116, 123, 86, 109, 33, 125, 46, 121, 92, 88, 93, 73, 66, 77, 77, 120, 100, 90, 138, 150, 68, 103, 62, 171, 84, 62, 105, 50, 89, 125, 40, 127, 75, 66, 71, 161, 72, 71, 32, 41, 97, 168, 124, 119, 100, 137, 123, 66, 107, 95, 75, 45, 101, 137, 123, 87, 125, 91]\n"
     ]
    },
    {
     "data": {
      "image/png": "[encoded data removed]",
      "text/plain": [
       "<Figure size 864x576 with 1 Axes>"
      ]
     },
     "metadata": {
      "needs_background": "light"
     },
     "output_type": "display_data"
    }
   ],
   "source": [
    "err = []\n",
    "TP = []\n",
    "FP = [] \n",
    "FN = []\n",
    "for ii in np.unique(mixed_data['track_id']):\n",
    "    track0 = mixed_data.loc[mixed_data['track_id']==ii]\n",
    "    X = np.array([track0['X'], track0['Y']]).T\n",
    "    dt = track0['t'].iloc[1]-track0['t'].iloc[0]\n",
    "    l, alpha = convert_to_planar(X,dt)\n",
    "    T = res_dic[ii]['T']\n",
    "    mu = res_dic[ii]['mu_l']\n",
    "    sigma = res_dic[ii]['sigma_l']\n",
    "    pi = res_dic[ii]['pi']\n",
    "    o = np.array([l[:], alpha]).T\n",
    "    s_est, D, E = viterbi(T, pi, mu, sigma, 0.45, o)\n",
    "    err.append(sum(abs(track0['s'].iloc[1:-1] - s_est))/s_est.shape[0])\n",
    "    st = track0['s'].iloc[1:-1]\n",
    "    TP.append(np.sum(np.array((st==1))*np.array((s_est==1))))\n",
    "    FP.append(np.sum(np.array((st==0))*np.array((s_est==1))))\n",
    "    FN.append(np.sum(np.array((st==1))*np.array((s_est==0))))\n",
    "\n",
    "precision = np.array(TP)/(np.array(TP)+np.array(FP))\n",
    "recall = np.array(TP)/(np.array(TP)+np.array(FN))\n",
    "fig = plt.figure(figsize=(12,8))\n",
    "\n",
    "pos = np.array([1, 3])\n",
    "width = 0.2\n",
    "box1 = plt.boxplot([ precision, recall, 2*(precision*recall)/(precision+recall)], patch_artist=True, notch=True)\n",
    "#box2 = plt.boxplot(recall, positions=pos-2*width, widths=width, patch_artist=True, notch=True)\n",
    "#box3 = plt.boxplot(precision, positions=pos-width, widths=width, patch_artist=True, notch=True)\n",
    "\n",
    "colors = ['black', 'black', 'black']\n",
    "#box1 = plt.boxplot(1-err, patch_artist=True, notch=True)\n",
    "for p1, c in zip(box1['boxes'], colors):\n",
    "    p1.set_facecolor(c)\n",
    "    \n",
    "plt.ylabel('', size=24)\n",
    "plt.xticks([1,2,3], ['Precision', 'Recall', 'F1 score'], size=24)\n",
    "plt.yticks(size=22)\n",
    "\n",
    "print(np.mean(err))\n",
    "print(TP)\n",
    "plt.savefig('/home/svensson/Dropbox/Projects/Perioxomes/Manuscript/error_box.svg')"
   ]
  },
  {
   "cell_type": "code",
   "execution_count": 49,
   "metadata": {},
   "outputs": [
    {
     "data": {
      "text/plain": [
       "(198,)"
      ]
     },
     "execution_count": 49,
     "metadata": {},
     "output_type": "execute_result"
    }
   ],
   "source": [
    "np.array(st).shape"
   ]
  },
  {
   "cell_type": "code",
   "execution_count": 29,
   "metadata": {},
   "outputs": [
    {
     "name": "stdout",
     "output_type": "stream",
     "text": [
      "[0.50479536 0.49520464]\n"
     ]
    }
   ],
   "source": [
    "track0 = mixed_data.loc[mixed_data['track_id']==0]\n",
    "dt = track0['t'].iloc[1]-track0['t'].iloc[0]\n",
    "l, alpha = convert_to_planar(X,dt)\n",
    "T = res_dic[0]['T']\n",
    "mu = res_dic[0]['mu_l']\n",
    "sigma = res_dic[0]['sigma_l']\n",
    "pi = res_dic[0]['pi']\n",
    "o = np.array([l[:], alpha]).T\n",
    "print(pi)\n",
    "s_est, D, E = viterbi(T, pi, mu, sigma, 0.45, o)"
   ]
  },
  {
   "cell_type": "code",
   "execution_count": 33,
   "metadata": {},
   "outputs": [
    {
     "name": "stdout",
     "output_type": "stream",
     "text": [
      "[1 1 1 1 1 1 1 1 0 0 0 0 0 0 0 0 0 0 0 0 0 0 0 0 0 0 0 0 0 0 0 0 0 0 0 0 0\n",
      " 0 0 0 0 0 0 0 0 0 0 0 0 0 0 0 0 0 0 0 0 1 1 1 1 1 1 1 1 1 1 1 1 1 0 0 0 1\n",
      " 1 1 1 1 1 1 1 1 1 1 1 1 0 1 1 0 0 0 0 0 0 0 0 0 1 1 1 1 1 1 1 1 1 1 0 0 1\n",
      " 1 1 1 1 1 1 1 1 1 1 1 1 1 1 1 1 1 1 1 1 1 1 0 0 0 0 0 0 1 0 0 0 0 0 0 0 0\n",
      " 0 0 0 0 0 0 1 1 1 1 1 1 1 1 1 1 1 1 0 0 0 0 0 0 0 0 0 0 0 0 0 0 0 0 0 1 1\n",
      " 1 1 1 1 1 1 1 1 1 0 0 0 0]\n"
     ]
    },
    {
     "data": {
      "image/png": "[encoded data removed]",
      "text/plain": [
       "<Figure size 864x576 with 1 Axes>"
      ]
     },
     "metadata": {},
     "output_type": "display_data"
    }
   ],
   "source": [
    "fig = plt.figure(figsize=(12,8))\n",
    "c1 = '#1f77b4'\n",
    "c2 = 'orange'\n",
    "#track0 = mixed_data.loc[mixed_data['track_id']==0]\n",
    "#plt.plot(track0['X'].iloc[0:], track0['Y'].iloc[0:])\n",
    "#s_est = np.array(track0['s'])\n",
    "lab1=True\n",
    "lab2=True\n",
    "print(s_est)\n",
    "for ii in range(track0['X'].shape[0]-3):\n",
    "    if s_est[ii] == 0:\n",
    "        if lab1:\n",
    "            plt.plot(track0['X'].iloc[ii+1:ii+3], track0['Y'].iloc[ii+2:ii+4], c=c1, label=r'$s_1$')\n",
    "            lab1=False\n",
    "        else:\n",
    "            plt.plot(track0['X'].iloc[ii+1:ii+3], track0['Y'].iloc[ii+2:ii+4], c=c1)\n",
    "    else:\n",
    "        if lab2:\n",
    "            plt.plot(track0['X'].iloc[ii+1:ii+3], track0['Y'].iloc[ii+2:ii+4], c=c2, label=r'$s_2$')\n",
    "            lab2=False\n",
    "        else:\n",
    "            plt.plot(track0['X'].iloc[ii+1:ii+3], track0['Y'].iloc[ii+2:ii+4], c=c2)\n",
    "        #print(o[ii])\n",
    "plt.legend()\n",
    "plt.xticks([])\n",
    "plt.yticks([])\n",
    "#plt.savefig('/home/svensson/Dropbox/Projects/Perioxomes/Plots/simulated_track_1_Viterbi_fitted.svg')\n",
    "plt.savefig('/home/svensson/Dropbox/Projects/Perioxomes/Manuscript/simulated_track_1_Viterbi_fitted.svg')"
   ]
  },
  {
   "cell_type": "code",
   "execution_count": 35,
   "metadata": {},
   "outputs": [
    {
     "name": "stdout",
     "output_type": "stream",
     "text": [
      "[1. 1. 1. 1. 1. 1. 1. 1. 1. 0. 0. 0. 0. 0. 0. 0. 0. 0. 0. 0. 0. 0. 0. 0.\n",
      " 0. 0. 0. 0. 0. 0. 0. 0. 0. 0. 0. 0. 0. 0. 0. 0. 0. 0. 0. 0. 0. 0. 0. 0.\n",
      " 0. 0. 0. 0. 0. 0. 0. 0. 0. 0. 1. 1. 1. 1. 1. 1. 1. 1. 1. 1. 1. 1. 1. 0.\n",
      " 0. 0. 1. 1. 1. 1. 1. 1. 1. 1. 1. 1. 1. 1. 1. 1. 1. 1. 0. 0. 0. 0. 0. 0.\n",
      " 0. 0. 0. 1. 1. 1. 1. 1. 1. 1. 1. 1. 0. 0. 0. 1. 1. 1. 1. 1. 1. 1. 1. 1.\n",
      " 1. 1. 1. 1. 1. 1. 1. 1. 1. 1. 1. 1. 1. 1. 0. 0. 0. 0. 0. 0. 0. 0. 0. 0.\n",
      " 0. 0. 0. 0. 0. 0. 0. 0. 0. 0. 0. 1. 1. 1. 1. 1. 1. 1. 1. 1. 1. 1. 1. 0.\n",
      " 0. 0. 0. 0. 0. 0. 0. 0. 0. 0. 0. 0. 0. 0. 0. 0. 1. 1. 1. 1. 1. 1. 1. 1.\n",
      " 1. 1. 1. 0. 1. 1. 1. 1.]\n"
     ]
    },
    {
     "data": {
      "image/png": "[encoded data removed]",
      "text/plain": [
       "<Figure size 864x576 with 1 Axes>"
      ]
     },
     "metadata": {},
     "output_type": "display_data"
    }
   ],
   "source": [
    "c1 = '#1f77b4'\n",
    "c2 = 'orange'\n",
    "fig = plt.figure(figsize=(12,8))\n",
    "#track0 = mixed_data.loc[mixed_data['track_id']==0]\n",
    "#plt.plot(track0['X'].iloc[0:], track0['Y'].iloc[0:])\n",
    "#s_est = np.array(track0['s'])\n",
    "lab1=True\n",
    "lab2=True\n",
    "s = np.array(track0['s'])\n",
    "print(s)\n",
    "for ii in range(track0['X'].shape[0]-3):\n",
    "    if s[ii+1] == 0:\n",
    "        if lab1:\n",
    "            plt.plot(track0['X'].iloc[ii+1:ii+3], track0['Y'].iloc[ii+2:ii+4], c=c1, label=r'$s_1$')\n",
    "            lab1=False\n",
    "        else:\n",
    "            plt.plot(track0['X'].iloc[ii+1:ii+3], track0['Y'].iloc[ii+2:ii+4], c=c1)\n",
    "    else:\n",
    "        if lab2:\n",
    "            plt.plot(track0['X'].iloc[ii+1:ii+3], track0['Y'].iloc[ii+2:ii+4], c=c2, label=r'$s_2$')\n",
    "            lab2=False\n",
    "        else:\n",
    "            plt.plot(track0['X'].iloc[ii+1:ii+3], track0['Y'].iloc[ii+2:ii+4], c=c2)\n",
    "        #print(o[ii])\n",
    "plt.legend()\n",
    "plt.xticks([])\n",
    "plt.yticks([])\n",
    "#plt.savefig('/home/svensson/Dropbox/Projects/Perioxomes/Plots/simulated_track_1_GT.svg')\n",
    "plt.savefig('/home/svensson/Dropbox/Projects/Perioxomes/Manuscript/simulated_track_1_GT.svg')"
   ]
  },
  {
   "cell_type": "code",
   "execution_count": 25,
   "metadata": {},
   "outputs": [
    {
     "name": "stdout",
     "output_type": "stream",
     "text": [
      "[ 9.95732493  9.38122669 10.30277833  9.23454502  9.56785979  9.38986061\n",
      "  8.68940958  8.80348931 13.38073104  8.66654698 13.10193036 12.18110701\n",
      "  9.63629186 12.41530193  9.42622729 10.40745547 11.03165623  9.72991152\n",
      "  9.8534769  11.95995357 12.47696888 12.26367014  8.87188967  9.72203261\n",
      " 10.6324676   8.26980256 10.4725336  10.55853969  8.65928145 10.21647869\n",
      " 10.40444447 10.61156746 11.26857849  9.1385053   3.00894592  8.16146871\n",
      "  3.70470588  6.21367605  4.24606379  4.4744253   1.18387345  5.06532981\n",
      "  2.86808847  0.94210241  5.05335022  6.29071201  1.86914774  1.34282414\n",
      "  2.40346115  2.71914399  2.30940347  3.90841858  2.9510327   3.42477893\n",
      "  4.67386085  4.75843605  6.89791945  4.13358054  4.8456469   3.93341911\n",
      "  3.35023673  5.84912729  3.8927547   6.49340676  4.89261314  3.18969122\n",
      "  2.10032485  6.00767548 10.04780665  3.5355529   4.12594535  6.39913729\n",
      "  4.13298887  5.06658764  1.60970893  4.18870965  2.72016206  6.01864506\n",
      "  5.30270598  4.49300712  7.39411422  1.1766001   4.98946646  1.06790797\n",
      "  1.51593607  6.33226024  0.94021947  1.40413327  0.8442336   6.19669116\n",
      "  4.29782937  4.36119218  5.75979427  6.55708273  1.93658833  8.85844418\n",
      " 10.1896783  11.23697619  8.50223492 10.84271329 10.52023369 12.19483866\n",
      " 11.73764174 11.62893111 12.00853782 12.09407664  9.87824132  9.81740413\n",
      " 10.67443487 12.35418144  8.89292376 10.96683976 10.29762841 11.4153309\n",
      "  8.65054581 12.25822871 10.91078132 10.88911064 12.51232175 11.783173\n",
      "  4.36762074  6.78423556  1.86987461  2.52119607  3.33730565  4.25129697\n",
      "  5.51964443  3.61443183  6.04382105 11.57649159  3.95525273  1.77342645\n",
      "  6.41357951  4.83525851  1.22119951  1.46550481  5.77709894  5.29253453\n",
      "  8.33524225 10.28896703  9.31809967  9.74764849  9.56928954  8.5379679\n",
      " 10.77865937 10.43774318 11.6092256   5.92623148  4.47426823  6.14624862\n",
      "  4.60105497  5.79031478  7.29965554  0.70704926  2.50198117  3.50057909\n",
      "  5.77983855  5.85014669  4.95256384  3.41915908  5.40620049  1.89463313\n",
      "  4.01193321  5.16470121  8.730484    4.2527991   5.88009401  3.58303155\n",
      "  2.4833193   4.26939849  4.01964598  1.96484471  5.3250562   5.53374259\n",
      "  3.34388408  8.84049787  7.14296879 10.30502732  9.7393429  10.69593121\n",
      "  9.91376484 11.51992907 11.82615754  9.35206119  7.73482176 12.16401232\n",
      "  1.77014296  2.5047197   3.20051166  6.09795907  8.52127718  7.88254042\n",
      " 10.02368971  8.32256319 11.5993936  10.59300921 10.4009713   6.95881082]\n"
     ]
    }
   ],
   "source": [
    "X = np.array([track0['X'], track0['Y']]).T\n",
    "dt = track0['t'].iloc[1]-track0['t'].iloc[0]\n",
    "l, alpha = convert_to_planar(X,dt)\n",
    "\n",
    "print(l)"
   ]
  },
  {
   "cell_type": "code",
   "execution_count": null,
   "metadata": {},
   "outputs": [],
   "source": []
  },
  {
   "cell_type": "code",
   "execution_count": null,
   "metadata": {},
   "outputs": [],
   "source": []
  }
 ],
 "metadata": {
  "kernelspec": {
   "display_name": "Python 3",
   "language": "python",
   "name": "python3"
  },
  "language_info": {
   "codemirror_mode": {
    "name": "ipython",
    "version": 3
   },
   "file_extension": ".py",
   "mimetype": "text/x-python",
   "name": "python",
   "nbconvert_exporter": "python",
   "pygments_lexer": "ipython3",
   "version": "3.7.7"
  }
 },
 "nbformat": 4,
 "nbformat_minor": 4
}
