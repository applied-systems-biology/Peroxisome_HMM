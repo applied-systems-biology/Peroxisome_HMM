{
 "cells": [
  {
   "cell_type": "markdown",
   "metadata": {},
   "source": [
    "First attempt of a HMM to generate tracks. We go with the case of tracks either following a Brownian motion ($s_1$) or being attached to microtubulus ($s_2$), i.e. $K=2$ states. The transition between the states are governend by a state transition matrix $\\mathbf{T}$, emission probabilities of observables $O$ given state $s_k$ are collected in the emision matrix $\\mathbf{E}$."
   ]
  },
  {
   "cell_type": "code",
   "execution_count": 1,
   "metadata": {},
   "outputs": [],
   "source": [
    "import numpy as np\n",
    "from sklearn.preprocessing import normalize  \n",
    "from numba.typed import List\n",
    "import glob\n",
    "\n",
    "T = np.array([[0.99, 0.01],[0.1, 0.9]]) # assuming that Brownian motion is dominating\n",
    "pi = np.array([0.95, 0.05]) # The prior probability of being in a s_1 and s_2 respectively\n",
    "np.warnings.filterwarnings('ignore', category=np.VisibleDeprecationWarning)"
   ]
  },
  {
   "cell_type": "markdown",
   "metadata": {},
   "source": [
    "The observables $O_{i,t}$, where $i$ denotes different tracks and $t$ different timesteps, are the distance travelled between time $t-1$ and $t$ ($l_{i,t}$) and the relative turning angle of the track ($\\alpha_{i,t}$). For $l_{i,t}$ we in both casses draw from a log-normal distribution:\n",
    "\\begin{equation}\n",
    "    p(l_{i,t}|s_j) = lognorm(\\mu_{l,j},\\sigma_{l,j})\n",
    "\\end{equation}\n",
    "For $\\alpha_{i,t}$ we have different distributions, not just by parameters, for the two states. Brownian motion is described by\n",
    "\\begin{equation}\n",
    "    p(\\alpha_{i,t}|s_1) = Uniform(-pi,pi).\n",
    "\\end{equation}\n",
    "In state $s_2$ the movement is going to be pretty straight, therefore this is drawn from\n",
    "\\begin{equation}\n",
    "    p(\\alpha_{i,t}|s_2) = Normal(0,\\sigma_{\\alpha,2}).\n",
    "\\end{equation}"
   ]
  },
  {
   "cell_type": "code",
   "execution_count": 2,
   "metadata": {},
   "outputs": [],
   "source": [
    "def generate_sequence_hmm(N, T, pi, mu_l, sigma_l, sigma_alpha_2, details=False):\n",
    "    \"\"\"Generate observation and state sequence from given HMM\n",
    "\n",
    "    Notebook: C5/C5S3_HiddenMarkovModel.ipynb\n",
    "\n",
    "    Args:\n",
    "        N (int): Number of observations to be generated\n",
    "        T (np.ndarray): State transition probability matrix of dimension K x K\n",
    "        pi (np.ndarray): Initial state distribution of dimension K\n",
    "        mu_l (np.ndarray): Means of the lognormal distributions for each state\n",
    "        sigma_l (np.ndarray): Standard deviation of the lognormal distributions for each state\n",
    "        sigma_alpha_2 (float): Standard deviation of the directed movement in state 2\n",
    "        details (bool): If \"True\" then shows details (Default value = False)\n",
    "\n",
    "    Returns:\n",
    "        O (np.ndarray): Observation sequence of length N\n",
    "        S (np.ndarray): State sequence of length N\n",
    "    \"\"\"\n",
    "    assert N > 0, \"N should be at least one\"\n",
    "    K = T.shape[1]\n",
    "    assert K == T.shape[0], \"T should be an K-square matrix\"\n",
    "    assert K == pi.shape[0], \"Dimension of pi should be K\"\n",
    "    assert K == mu_l.shape[0], \"Dimension of means should be K\"\n",
    "\n",
    "    O = np.zeros([N,2], float)\n",
    "    S = np.zeros(N, int)\n",
    "    for n in range(N):\n",
    "        if n == 0:\n",
    "            i = np.random.choice(np.arange(K), p=pi)\n",
    "        else:\n",
    "            i = np.random.choice(np.arange(K), p=T[i, :])\n",
    "        l = np.random.lognormal(mu_l[i], sigma_l[i])\n",
    "        if i == 0:\n",
    "            alpha = np.random.uniform(-np.pi, np.pi)\n",
    "        else:\n",
    "            alpha = np.random.normal(0, sigma_alpha_2)\n",
    "            \n",
    "        S[n] = i\n",
    "        O[n] = np.array([l, alpha])\n",
    "        if details:\n",
    "            print('n = %d, S[%d] = %d, O[%d] = %d' % (n, n, S[n], n, O[n]))\n",
    "    return O, S"
   ]
  },
  {
   "cell_type": "code",
   "execution_count": 3,
   "metadata": {},
   "outputs": [],
   "source": [
    "from numba import jit\n",
    "import scipy.stats as sstats\n",
    "\n",
    "@jit(nopython=True)\n",
    "def lognorm_pdf(x, mu, sigma):\n",
    "    ''' PDF of the log-normal distribution.'''\n",
    "    out = 1.0/(x*sigma*np.sqrt(2*np.pi))*np.exp(-(np.log(x)-mu)**2/(sigma**2))\n",
    "    \n",
    "    return out"
   ]
  },
  {
   "cell_type": "code",
   "execution_count": 4,
   "metadata": {},
   "outputs": [],
   "source": [
    "@jit(nopython=True)\n",
    "def norm_pdf(x, mu, sigma):\n",
    "    #print(x)\n",
    "    #print(mu)\n",
    "    #print(sigma)\n",
    "    out = 1.0/(sigma*np.sqrt(2*np.pi))*np.exp(-((x-mu)**2)/(sigma**2))\n",
    "    #if out < 10**(-25):\n",
    "    #    out < 10**(-25)\n",
    "    #print(out)\n",
    "    return out"
   ]
  },
  {
   "cell_type": "code",
   "execution_count": 5,
   "metadata": {},
   "outputs": [],
   "source": [
    "@jit(nopython=True)\n",
    "def p_o_G_s(o, s, mu_l, sigma_l, sigma_alpha_2):\n",
    "    p_l = lognorm_pdf(o[0], mu_l[s], sigma_l[s]) \n",
    "    if s == 0:\n",
    "        p_alpha = 1/(2*np.pi)\n",
    "    else:\n",
    "        p_alpha = norm_pdf(o[1], 0.0, sigma_alpha_2)\n",
    "    #print(p_l)\n",
    "    #print(p_alpha)\n",
    "    p_o_G_s = p_l*p_alpha\n",
    "    \n",
    "    if p_o_G_s < 10**(-20):\n",
    "        p_o_G_s = 10**(-20)\n",
    "    \n",
    "    return p_o_G_s\n",
    "    "
   ]
  },
  {
   "cell_type": "code",
   "execution_count": 6,
   "metadata": {},
   "outputs": [],
   "source": [
    "@jit(nopython=True)\n",
    "def p_olog_G_s(o, s, mu_l, sigma_l, sigma_alpha_2):\n",
    "    p_l = norm_pdf(o[0], mu_l[s], sigma_l[s]) \n",
    "    #print(o[0])\n",
    "    #\n",
    "    if s == 0:\n",
    "        p_alpha = 1/(2*np.pi)\n",
    "    else:\n",
    "        p_alpha = norm_pdf(o[1], 0.0, sigma_alpha_2)\n",
    "    #print(p_l)\n",
    "    #print(p_alpha)\n",
    "    p_o_G_s = p_l*p_alpha\n",
    "    if p_o_G_s < 10**(-20):\n",
    "        p_o_G_s = 10**(-20)\n",
    "    #print(p_o_G_s)\n",
    "    return p_o_G_s"
   ]
  },
  {
   "cell_type": "code",
   "execution_count": 7,
   "metadata": {},
   "outputs": [],
   "source": [
    "@jit(nopython=True)\n",
    "def viterbi(T, pi, mu_l, sigma_l, sigma_alpha_2, O):\n",
    "    \"\"\"Viterbi algorithm for solving the uncovering problem\n",
    "\n",
    "    Notebook: C5/C5S3_Viterbi.ipynb\n",
    "\n",
    "    Args:\n",
    "        T (np.ndarray): State transition probability matrix of dimension K x K\n",
    "        pi (np.ndarray): Initial state distribution  of dimension K\n",
    "        O (np.ndarray): Observation sequence of length N\n",
    "\n",
    "    Returns:\n",
    "        S_opt (np.ndarray): Optimal state sequence of length N\n",
    "        D (np.ndarray): Accumulated probability matrix\n",
    "        E (np.ndarray): Backtracking matrix\n",
    "    \"\"\"\n",
    "    K = T.shape[0]    # Number of states\n",
    "    N = len(O)  # Length of observation sequence\n",
    "\n",
    "    # Initialize D and E matrices\n",
    "    D = np.zeros((K, N)).astype(np.float64)\n",
    "    E = np.zeros((K, N-1)).astype(np.int32)\n",
    "    D[:, 0] = pi #np.multiply(C, B[:, O[0]])\n",
    "\n",
    "    # Compute D and E in a nested loop\n",
    "    for n in range(1, N):\n",
    "        #if abs(O[n,1])<0.2:\n",
    "        #    print(O[n])\n",
    "        for i in range(K):\n",
    "            temp_product = np.multiply(T[:, i], D[:, n-1])\n",
    "            D[i, n] = np.max(temp_product) * p_o_G_s(O[n], i, mu_l, sigma_l, sigma_alpha_2)\n",
    "            E[i, n-1] = np.argmax(temp_product)\n",
    "            #if abs(O[n,1])<0.2:\n",
    "            #    print(p_o_G_s(O[n], i, mu_l, sigma_l, sigma_alpha_2))\n",
    "\n",
    "    # Backtracking\n",
    "    S_opt = np.zeros(N).astype(np.int32)\n",
    "    S_opt[-1] = np.argmax(D[:, -1])\n",
    "    for n in range(N-2, -1, -1):\n",
    "        S_opt[n] = E[int(S_opt[n+1]), n]\n",
    "\n",
    "    return S_opt, D, E"
   ]
  },
  {
   "cell_type": "code",
   "execution_count": 8,
   "metadata": {},
   "outputs": [],
   "source": [
    "@jit(nopython=True)\n",
    "def Baum_Welch(O, T0, pi0, mu_l0, sigma_l0, sigma_alpha_2_0, fit_mu=True, fit_sigma=True, fit_pi=True, fit_T=True, fit_sigma_alpha=False):\n",
    "    O = O[np.isfinite(O[:,0])]\n",
    "    K = T0.shape[0]    # Number of states\n",
    "    N = len(O)  # Length of observation sequence\n",
    "    \n",
    "    alpha = np.zeros((K, N)).astype(np.float64)\n",
    "    alpha_hat = np.zeros((K, N)).astype(np.float64)\n",
    "    beta = np.ones((K, N)).astype(np.float64)\n",
    "    pi_new = np.ones((K)).astype(np.float64)\n",
    "    \n",
    "    #print(O[0])\n",
    "    alpha[:, 0] = pi0*np.array([p_olog_G_s(O[0], 0, mu_l0, sigma_l0, sigma_alpha_2_0), p_olog_G_s(O[0], 1, mu_l0, sigma_l0, sigma_alpha_2_0)])\n",
    "    #print(alpha[:, 0])\n",
    "    alpha_hat_denom = np.sum(alpha[:, 0])\n",
    "    #print(alpha_hat_denom)\n",
    "    for k in range(K):\n",
    "        alpha_hat[k, 0] = alpha[k, 0]/alpha_hat_denom\n",
    "    #print(alpha_hat[:,0])\n",
    "    for n in range(1, N):\n",
    "        for k in range(K):\n",
    "            alpha_hat[k, n] = p_olog_G_s(O[n], k, mu_l0, sigma_l0, sigma_alpha_2_0)*np.sum(alpha_hat[:, n-1]*T0[k,:])\n",
    "            #print(O[n])\n",
    "            #print(p_olog_G_s(O[n], k, mu_l0, sigma_l0, sigma_alpha_2_0))\n",
    "        alpha_hat_denom = np.sum(alpha_hat[:, n])\n",
    "        #print(p_olog_G_s(O[n], 0, mu_l0, sigma_l0, sigma_alpha_2_0))\n",
    "        for k in range(K):\n",
    "            alpha_hat[k, n] = alpha_hat[k, n]/alpha_hat_denom\n",
    "            \n",
    "    #print(alpha_hat)\n",
    "    for n in range(N-2, -1, -1):\n",
    "        d_t = 0.0\n",
    "        for k in range(K):\n",
    "            beta[k, n] = np.sum(beta[:, n+1]*T0[k,:]*np.array([p_olog_G_s(O[n+1], 0, mu_l0, sigma_l0, sigma_alpha_2_0), p_olog_G_s(O[n+1], 1, mu_l0, sigma_l0, sigma_alpha_2_0)]))\n",
    "            d_t = d_t + beta[k, n]\n",
    "        d_t = 1.0/d_t\n",
    "        beta[:,n] = d_t\n",
    "         \n",
    "    #print(beta)   \n",
    "    gamma_denom = np.sum(alpha_hat*beta, axis=0) \n",
    "    gamma = alpha_hat*beta\n",
    "    #print(gamma)\n",
    "    for k in range(K):\n",
    "        gamma[k] = gamma[k]/gamma_denom\n",
    "    \n",
    "    #print(gamma)\n",
    "    epsilon = np.zeros((K, K, N-1)).astype(np.float64)\n",
    "    for n in range(N-1):\n",
    "        for k in range(K):\n",
    "            for k2 in range(K):\n",
    "                epsilon[k, k2, n] = alpha_hat[k, n]*T0[k,k2]*beta[k2,n+1]*p_olog_G_s(O[n+1], k2, mu_l0, sigma_l0, sigma_alpha_2_0)\n",
    "    #print(epsilon)   \n",
    "    epsilon_denom = np.zeros((N-1)).astype(np.float64)\n",
    "    for k in range(K):\n",
    "        for k2 in range(K):\n",
    "             epsilon_denom += epsilon[k,k2]\n",
    "    \n",
    "    for k in range(K):\n",
    "        for l in range(K):\n",
    "            epsilon[k,l] = epsilon[k,l]/epsilon_denom\n",
    "    \n",
    "    \n",
    "    \n",
    "    for k in range(K):\n",
    "        pi_new[k] = np.mean(gamma[k])\n",
    "    #print(pi_new)\n",
    "    mu_l_new = np.zeros(K).astype(np.float64)\n",
    "    sigma_l_new = np.zeros(K).astype(np.float64)\n",
    "    if fit_sigma_alpha:\n",
    "        sigma_alpha2_new = np.sqrt(np.sum((O[:,1])**2*gamma[1])/np.sum(gamma[1]))\n",
    "    else:\n",
    "        sigma_alpha2_new = sigma_alpha_2_0\n",
    "    T_new = np.zeros((K,K)).astype(np.float64)\n",
    "    for k in range(K):\n",
    "        mu_l_new[k] = np.sum(O[:,0]*gamma[k])/np.sum(gamma[k])\n",
    "        sigma_l_new[k] = np.sqrt(np.sum((O[:,0]-mu_l0[k])**2*gamma[k])/np.sum(gamma[k]))\n",
    "        T_denom = np.sum(gamma[k,:-1])\n",
    "        for k2 in range(K):\n",
    "            T_new[k,k2] = np.sum(epsilon[k,k2])/T_denom\n",
    "    for k in range(K):\n",
    "        T_new[k] = T_new[k]/np.sum(T_new[k])\n",
    "    if np.isnan(T_new).any():\n",
    "        #print('T has NaN')\n",
    "        T_new = 0.5*np.ones((2,2))\n",
    "    sigma_l_new = sigma_l_new + 0.0000001\n",
    "    \n",
    "    if not fit_mu:\n",
    "        mu_l_new = mu_l0\n",
    "    if not fit_sigma:\n",
    "        sigma_l_new = sigma_l0\n",
    "    if not fit_pi:\n",
    "        pi_new = pi0\n",
    "    if not fit_T:\n",
    "        T_new = T0\n",
    "    \n",
    "    #if np.isnan(gamma).any():\n",
    "    #if not np.isfinite(mu_l_new[0]):\n",
    "    #    print(O[:,0])\n",
    "    #    print(gamma)\n",
    "        #print(norm_pdf(O[10,0], mu_l0[0], sigma_l0[0]) )\n",
    "    #print(mu_l_new)\n",
    "    #print(sigma_l_new)\n",
    "    #print(sigma_alpha2_new)\n",
    "    #print(T_new)\n",
    "                  \n",
    "    return mu_l_new, sigma_l_new, sigma_alpha2_new, T_new, pi_new\n",
    "    "
   ]
  },
  {
   "cell_type": "code",
   "execution_count": 9,
   "metadata": {},
   "outputs": [],
   "source": [
    "def convert_to_cartesian(o):\n",
    "    X = np.zeros(o.shape, dtype=float)\n",
    "    X[:,1] = np.cumsum(o[:,1])\n",
    "    X[:,0] = np.cumsum(o[:,0]*np.cos(X[:,1]))\n",
    "    X[:,1] = np.cumsum(o[:,0]*np.sin(X[:,1]))\n",
    "    \n",
    "    return X"
   ]
  },
  {
   "cell_type": "code",
   "execution_count": 499,
   "metadata": {},
   "outputs": [],
   "source": [
    "mu_l = np.array([-0.2, 0.5])\n",
    "sigma_l = np.array([0.25, 0.25])\n",
    "sigma_alpha_2 = 0.45\n",
    "T = np.array([[0.9, 0.1],[0.2, 0.8]])\n",
    "o, s = generate_sequence_hmm(100, T, pi, mu_l, sigma_l, sigma_alpha_2)"
   ]
  },
  {
   "cell_type": "code",
   "execution_count": 500,
   "metadata": {},
   "outputs": [
    {
     "data": {
      "text/plain": [
       "(100, 2)"
      ]
     },
     "execution_count": 500,
     "metadata": {},
     "output_type": "execute_result"
    }
   ],
   "source": [
    "o.shape"
   ]
  },
  {
   "cell_type": "code",
   "execution_count": 501,
   "metadata": {},
   "outputs": [
    {
     "data": {
      "text/plain": [
       "[<matplotlib.lines.Line2D at 0x7fdbd3e68e90>]"
      ]
     },
     "execution_count": 501,
     "metadata": {},
     "output_type": "execute_result"
    },
    {
     "data": {
      "image/png": "[encoded data removed]",
      "text/plain": [
       "<Figure size 432x288 with 1 Axes>"
      ]
     },
     "metadata": {
      "needs_background": "light"
     },
     "output_type": "display_data"
    }
   ],
   "source": [
    "import pylab as plt\n",
    "plt.plot(o[:,1])"
   ]
  },
  {
   "cell_type": "code",
   "execution_count": 502,
   "metadata": {},
   "outputs": [],
   "source": [
    "X = convert_to_cartesian(o)"
   ]
  },
  {
   "cell_type": "code",
   "execution_count": 539,
   "metadata": {},
   "outputs": [
    {
     "name": "stdout",
     "output_type": "stream",
     "text": [
      "35\n"
     ]
    },
    {
     "data": {
      "image/png": "[encoded data removed]",
      "text/plain": [
       "<Figure size 432x288 with 1 Axes>"
      ]
     },
     "metadata": {},
     "output_type": "display_data"
    }
   ],
   "source": [
    "import seaborn as sns\n",
    "c1 ='#1f77b4'\n",
    "c2 = '#ff7f0e'\n",
    "s_1_idx = (s==0)\n",
    "s_2_idx = (s==1)\n",
    "print(np.sum(s_2_idx))\n",
    "for ii in range(X.shape[0]-1):\n",
    "    if s[ii+1] == 0:\n",
    "        plt.plot(X[ii:ii+2,0], X[ii:ii+2,1], c=c1)\n",
    "    else:\n",
    "        plt.plot(X[ii:ii+2,0], X[ii:ii+2,1], c=c2)\n",
    "plt.xticks([])\n",
    "plt.yticks([])\n",
    "plt.savefig('/home/svensson/Dropbox/Projects/Perioxomes/Plots/example_track2_GT.svg')"
   ]
  },
  {
   "cell_type": "code",
   "execution_count": 504,
   "metadata": {},
   "outputs": [],
   "source": [
    "s_est, D, E = viterbi(T, pi, mu_l, sigma_l, sigma_alpha_2, o)"
   ]
  },
  {
   "cell_type": "code",
   "execution_count": 505,
   "metadata": {},
   "outputs": [],
   "source": [
    "o_log = np.copy(o[:])\n",
    "o_log[:,0] = np.log(o[:,0])"
   ]
  },
  {
   "cell_type": "code",
   "execution_count": 506,
   "metadata": {},
   "outputs": [
    {
     "data": {
      "image/png": "[encoded data removed]",
      "text/plain": [
       "<Figure size 432x288 with 1 Axes>"
      ]
     },
     "metadata": {},
     "output_type": "display_data"
    }
   ],
   "source": [
    "s_1_idx = (s_est==0)\n",
    "s_2_idx = (s_est==1)\n",
    "for ii in range(X.shape[0]-1):\n",
    "    if s_est[ii+1] == 0:\n",
    "        plt.plot(X[ii:ii+2,0], X[ii:ii+2,1], c=c1)\n",
    "    else:\n",
    "        plt.plot(X[ii:ii+2,0], X[ii:ii+2,1], c=c2)\n",
    "plt.xticks([])\n",
    "plt.yticks([])\n",
    "plt.savefig('/home/svensson/Dropbox/Projects/Perioxomes/Plots/example_track2_Viterbi_fitted_all.svg')"
   ]
  },
  {
   "cell_type": "code",
   "execution_count": 507,
   "metadata": {},
   "outputs": [
    {
     "data": {
      "text/plain": [
       "0.98"
      ]
     },
     "execution_count": 507,
     "metadata": {},
     "output_type": "execute_result"
    }
   ],
   "source": [
    "1-sum(abs(s-s_est))/s.shape[0]"
   ]
  },
  {
   "cell_type": "code",
   "execution_count": 510,
   "metadata": {},
   "outputs": [],
   "source": [
    "mu_l_new, sigma_l_new, sigma_alpha2_new, T_new, pi_new = Baum_Welch(o_log, T, pi, mu_l, sigma_l, sigma_alpha_2)\n",
    "for ii in range(10):\n",
    "    mu_l_new, sigma_l_new, sigma_alpha2_new, T_new, pi_new = Baum_Welch(o_log, T_new, pi_new, mu_l_new, sigma_l_new, sigma_alpha2_new)"
   ]
  },
  {
   "cell_type": "code",
   "execution_count": 511,
   "metadata": {},
   "outputs": [],
   "source": [
    "res_directory = {}"
   ]
  },
  {
   "cell_type": "code",
   "execution_count": 517,
   "metadata": {},
   "outputs": [
    {
     "name": "stdout",
     "output_type": "stream",
     "text": [
      "mu: [-0.2672704   0.43253189]\n",
      "sigma: [0.21203754 0.24426602]\n",
      "pi: [0.5964698 0.4035302]\n",
      "T: [[0.83221615 0.16778385]\n",
      " [0.28419902 0.71580098]]\n"
     ]
    }
   ],
   "source": [
    "print('mu: %s'%mu_l_new)\n",
    "print('sigma: %s'%sigma_l_new)\n",
    "print('pi: %s'%pi_new)\n",
    "print('T: %s'%T_new)"
   ]
  },
  {
   "cell_type": "code",
   "execution_count": 512,
   "metadata": {},
   "outputs": [],
   "source": [
    "s_est, D, E = viterbi(T, pi_new, mu_l_new, sigma_l_new, sigma_alpha2_new, o)"
   ]
  },
  {
   "cell_type": "code",
   "execution_count": 513,
   "metadata": {},
   "outputs": [
    {
     "name": "stdout",
     "output_type": "stream",
     "text": [
      "[1.39013734 0.58296746]\n",
      "[4.04064084 1.32582615]\n"
     ]
    }
   ],
   "source": [
    "\n",
    "T0 = np.copy(T[:])\n",
    "mu_l0 = np.copy(mu_l[:])+np.random.uniform(0,4,size=2)\n",
    "sigma_l0 = np.copy(sigma_l[:])+np.random.uniform(0,3,size=2)\n",
    "sigma_alpha2_0 = sigma_alpha_2+1.5\n",
    "pi0 = np.copy(pi[:])\n",
    "#pi0 =np.array([0.5, 0.5])\n",
    "print(sigma_l0)\n",
    "mu_l_new, sigma_l_new, sigma_alpha2_new, T_new, pi_new = Baum_Welch(o_log, T0, pi0, mu_l0, sigma_l0, sigma_alpha2_0)\n",
    "print(sigma_l_new)\n",
    "for ii in range(10):\n",
    "    mu_l_new, sigma_l_new, sigma_alpha2_new, T_new, pi_new = Baum_Welch(o_log, T_new, pi_new, mu_l_new, sigma_l_new, sigma_alpha2_new)\n",
    "    #print(sigma_l_new)\n",
    "\n"
   ]
  },
  {
   "cell_type": "code",
   "execution_count": 516,
   "metadata": {},
   "outputs": [
    {
     "data": {
      "image/png": "[encoded data removed]",
      "text/plain": [
       "<Figure size 432x288 with 1 Axes>"
      ]
     },
     "metadata": {
      "needs_background": "light"
     },
     "output_type": "display_data"
    }
   ],
   "source": [
    "import seaborn as sns\n",
    "\n",
    "angle_x = np.linspace(-np.pi,np.pi, 100)\n",
    "p_alpha_2_true = norm_pdf(angle_x, 0.0, 0.45)\n",
    "p_alpha_2_fitted = norm_pdf(angle_x, 0.0, sigma_alpha2_new)\n",
    "p_alpha_2_initial = norm_pdf(angle_x, 0.0, sigma_alpha2_0)\n",
    "fig, ax = plt.subplots(subplot_kw={'projection': 'polar'})\n",
    "ax.plot(angle_x, 1/(2*np.pi)*np.ones(angle_x.shape), label=r'$p(\\alpha_t|s_1)$')\n",
    "ax.plot(angle_x, p_alpha_2_true, label=r'$p(\\alpha_t|s_2)$')\n",
    "\n",
    "ax.legend(prop={'size': 18},bbox_to_anchor=(1.65, 1.15))\n",
    "ax.plot(angle_x, p_alpha_2_fitted)\n",
    "ax.plot(angle_x, p_alpha_2_initial)\n",
    "plt.yticks([0.25,0.75])\n",
    "ax.set_rlabel_position(135)\n",
    "plt.xticks(fontsize=16)\n",
    "plt.yticks(fontsize=16)\n",
    "plt.savefig('/home/svensson/Dropbox/Projects/Perioxomes/Plots/alpha_fitted.svg')"
   ]
  },
  {
   "cell_type": "code",
   "execution_count": 561,
   "metadata": {},
   "outputs": [
    {
     "data": {
      "image/png": "[encoded data removed]",
      "text/plain": [
       "<Figure size 576x432 with 2 Axes>"
      ]
     },
     "metadata": {
      "needs_background": "light"
     },
     "output_type": "display_data"
    }
   ],
   "source": [
    "l_x = np.linspace(0,3,1000)\n",
    "p_l_x_s1_true = lognorm_pdf(l_x, mu_l[0], sigma_l[0])\n",
    "p_l_x_s1_fitted = lognorm_pdf(l_x, mu_l_new[0], sigma_l_new[0])\n",
    "#p_l_x_s1_initial = lognorm_pdf(l_x, mu_l0[0], sigma_l0[0])\n",
    "fig = plt.figure(figsize=(8,6))\n",
    "plt.subplot(2,1,1)\n",
    "plt.plot(l_x, p_l_x_s1_true, color=c1, label='GT')\n",
    "p1 = plt.plot(l_x, p_l_x_s1_fitted, '--', color=c1, label=r'Fitted')\n",
    "#plt.plot(l_x, p_l_x_s1_initial, label='Initial guess')\n",
    "plt.ylabel(r'$p(\\iota_t|s_1)$',size=18)\n",
    "plt.legend(prop={'size': 14})\n",
    "plt.xticks(fontsize=12)\n",
    "plt.yticks(fontsize=12)\n",
    "\n",
    "p_l_x_s2_true = lognorm_pdf(l_x, mu_l[1], sigma_l[1])\n",
    "p_l_x_s2_fitted = lognorm_pdf(l_x, mu_l_new[1], sigma_l_new[1])\n",
    "#p_l_x_s2_initial = lognorm_pdf(l_x, mu_l0[1], sigma_l0[1])\n",
    "plt.subplot(2,1,2)\n",
    "plt.plot(l_x, p_l_x_s2_true, color=c2, label='True distribution')\n",
    "p2 = plt.plot(l_x, p_l_x_s2_fitted, '--', color=c2, label=r'Fitted distribution')\n",
    "\n",
    "#plt.plot(l_x, p_l_x_s2_initial)\n",
    "plt.ylabel(r'$p(\\iota_t|s_2)$',size=18)\n",
    "plt.xlabel(r'$\\iota_t$ ($\\mu$m/s)',size=18)\n",
    "plt.xticks(fontsize=12)\n",
    "plt.yticks(fontsize=12)\n",
    "fig.tight_layout()\n",
    "plt.savefig('/home/svensson/Dropbox/Projects/Perioxomes/Plots/l_fitted.svg')\n",
    "#c1 = p1[0].get_color()\n",
    "#c2 = p2[0].get_color()"
   ]
  },
  {
   "cell_type": "code",
   "execution_count": 270,
   "metadata": {},
   "outputs": [
    {
     "data": {
      "text/plain": [
       "'#1f77b4'"
      ]
     },
     "execution_count": 270,
     "metadata": {},
     "output_type": "execute_result"
    }
   ],
   "source": [
    "c1"
   ]
  },
  {
   "cell_type": "code",
   "execution_count": 556,
   "metadata": {},
   "outputs": [
    {
     "data": {
      "image/png": "[encoded data removed]",
      "text/plain": [
       "<Figure size 432x288 with 1 Axes>"
      ]
     },
     "metadata": {
      "needs_background": "light"
     },
     "output_type": "display_data"
    }
   ],
   "source": [
    "pos = np.array([1, 2])\n",
    "width = 0.2\n",
    "plt.bar(pos-width/2, pi, width, color=[c1, c2], label=r'GT')\n",
    "plt.bar(pos+width/2, pi_new, width, color=[c1, c2], hatch='///', label=r'Fitted')\n",
    "plt.ylabel(r'$\\pi$',size=18)\n",
    "plt.xticks([1,2], [r'$s_1$', r'$s_2$'])\n",
    "plt.legend(prop={'size': 14})\n",
    "plt.xticks(fontsize=14)\n",
    "plt.yticks(fontsize=12)\n",
    "    \n",
    "plt.savefig('/home/svensson/Dropbox/Projects/Perioxomes/Plots/pi_fitted.svg')"
   ]
  },
  {
   "cell_type": "code",
   "execution_count": 557,
   "metadata": {},
   "outputs": [
    {
     "data": {
      "image/png": "[encoded data removed]",
      "text/plain": [
       "<Figure size 432x288 with 1 Axes>"
      ]
     },
     "metadata": {
      "needs_background": "light"
     },
     "output_type": "display_data"
    }
   ],
   "source": [
    "pos = np.array([1, 2, 3, 4])\n",
    "width = 0.2\n",
    "plt.bar(pos-width/2, T.flatten(), width, color=[c1, c1, c2, c2], label=r'GT')\n",
    "plt.bar(pos+width/2, T_new.flatten(), width, color=[c1, c1, c2, c2], hatch='///', label=r'Fitted')\n",
    "plt.ylabel(r'$T_{i,j}}$',size=18)\n",
    "plt.xticks([1,2,3,4], [r'$s_1$->$s_1$', r'$s_1$->$s_2$', r'$s_2$->$s_1$', r'$s_2$->$s_2$'])\n",
    "plt.legend(prop={'size': 14})\n",
    "plt.xticks(fontsize=14)\n",
    "plt.yticks(fontsize=12)\n",
    "plt.savefig('/home/svensson/Dropbox/Projects/Perioxomes/Plots/T_fitted.svg')"
   ]
  },
  {
   "cell_type": "code",
   "execution_count": 29,
   "metadata": {},
   "outputs": [],
   "source": [
    "#def convert_to_cartesian(o):\n",
    "#    X = np.zeros(o.shape, dtype=float)\n",
    "#    X[:,1] = np.cumsum(o[:,1])\n",
    "#    X[:,0] = np.cumsum(o[:,0]*np.cos(X[:,1]))\n",
    "#    X[:,1] = np.cumsum(o[:,0]*np.sin(X[:,1]))\n",
    "    \n",
    "#    return X\n",
    "\n",
    "def convert_to_planar(X, dt=1.0):\n",
    "    #o = np.zeros([X.shape[0]-1 X.shape[1]])\n",
    "    X_diff = np.diff(X, axis=0)\n",
    "    l = np.sqrt(X_diff[:,0]**2+X_diff[:,1]**2)/dt + np.random. uniform(0.0, 0.000001)\n",
    "    correct_idx = (l>0.0).nonzero()\n",
    "    gamma = np.arctan2(X_diff[:,1],X_diff[:,0])\n",
    "    alpha = np.diff(gamma)\n",
    "    #X_r = np.roll(X, -1, axis=0)\n",
    "    #X_r2 = np.roll(X_r, -1, axis=0)\n",
    "    #u = X_r - X\n",
    "    #v = X_r2 - X\n",
    "    #alpha_nominator = [np.inner(x,y) for x, y in zip(u, v)] \n",
    "    #alpha_denom = np.sqrt(u[:,0]**2+u[:,1]**2)*np.sqrt(v[:,0]**2+v[:,1]**2)\n",
    "    #alpha = np.sign((v-u)[:,1])*np.arccos(alpha_nominator/alpha_denom)\n",
    "    alpha[alpha>np.pi] = alpha[alpha>np.pi] - 2*np.pi\n",
    "    alpha[alpha<-np.pi] = alpha[alpha<-np.pi] + 2*np.pi\n",
    "    #print(np.max(alpha))\n",
    "    #print(np.min(alpha))\n",
    "    #print(np.mean(alpha))\n",
    "    #print((v-u)[:,1])\n",
    "    \n",
    "    return l[1:], alpha\n",
    "    "
   ]
  },
  {
   "cell_type": "code",
   "execution_count": 30,
   "metadata": {},
   "outputs": [],
   "source": [
    "import pandas as pd\n",
    "\n",
    "norm_data = pd.read_csv('/data/parralelcomputed_trackdata/norm/20180809_HEK_pJK26_GFP90ms_Triggered_2.7 cell1.xls_Ordner/Track_Data.xls', sep='\\t')\n",
    "#norm_data = pd.read_csv('/home/svensson/asbdata_mount/publidata/JEmmert_data_BT/BachelorThesisData/norm/20180803_HEK_pJK26_GFP90ms_Triggered_2.6 cell2.xls_Ordner/Track_Data.xls', sep='\\t')\n",
    "noc_data = pd.read_csv('/data/parralelcomputed_trackdata/noc/20180802_HEK _pJK26_Noc_GFP90ms_Triggered_1_2 cell2.xls_Ordner/Track_Data_Elongated_Truncated.csv', sep=',')\n",
    "#noc_data = pd.read_csv('/home/svensson/asbdata_mount/publidata/JEmmert_data_BT/BachelorThesisData/noc/20180802_HEK _pJK26_Noc_GFP90ms_Triggered_1_3 cell1.xls_Ordner/Track_Data.xls', sep='\\t')"
   ]
  },
  {
   "cell_type": "code",
   "execution_count": 31,
   "metadata": {},
   "outputs": [
    {
     "name": "stdout",
     "output_type": "stream",
     "text": [
      "[   0    1    2 ... 8097 8098 8099]\n"
     ]
    }
   ],
   "source": [
    "print(np.unique(norm_data['TRACK_ID']))"
   ]
  },
  {
   "cell_type": "code",
   "execution_count": 32,
   "metadata": {},
   "outputs": [],
   "source": [
    "track0 = norm_data.loc[norm_data['TRACK_ID']==7290]"
   ]
  },
  {
   "cell_type": "code",
   "execution_count": 33,
   "metadata": {},
   "outputs": [
    {
     "data": {
      "text/html": [
       "<div>\n",
       "<style scoped>\n",
       "    .dataframe tbody tr th:only-of-type {\n",
       "        vertical-align: middle;\n",
       "    }\n",
       "\n",
       "    .dataframe tbody tr th {\n",
       "        vertical-align: top;\n",
       "    }\n",
       "\n",
       "    .dataframe thead th {\n",
       "        text-align: right;\n",
       "    }\n",
       "</style>\n",
       "<table border=\"1\" class=\"dataframe\">\n",
       "  <thead>\n",
       "    <tr style=\"text-align: right;\">\n",
       "      <th></th>\n",
       "      <th></th>\n",
       "      <th>Label</th>\n",
       "      <th>ID</th>\n",
       "      <th>TRACK_ID</th>\n",
       "      <th>QUALITY</th>\n",
       "      <th>POSITION_X</th>\n",
       "      <th>POSITION_Y</th>\n",
       "      <th>POSITION_Z</th>\n",
       "      <th>POSITION_T</th>\n",
       "      <th>FRAME</th>\n",
       "      <th>...</th>\n",
       "      <th>MANUAL_COLOR</th>\n",
       "      <th>MEAN_INTENSITY</th>\n",
       "      <th>MEDIAN_INTENSITY</th>\n",
       "      <th>MIN_INTENSITY</th>\n",
       "      <th>MAX_INTENSITY</th>\n",
       "      <th>TOTAL_INTENSITY</th>\n",
       "      <th>STANDARD_DEVIATION</th>\n",
       "      <th>ESTIMATED_DIAMETER</th>\n",
       "      <th>CONTRAST</th>\n",
       "      <th>SNR</th>\n",
       "    </tr>\n",
       "  </thead>\n",
       "  <tbody>\n",
       "    <tr>\n",
       "      <th>0</th>\n",
       "      <td>1</td>\n",
       "      <td>ID5225964</td>\n",
       "      <td>5225964</td>\n",
       "      <td>0</td>\n",
       "      <td>10.878</td>\n",
       "      <td>22.480</td>\n",
       "      <td>31.655</td>\n",
       "      <td>0</td>\n",
       "      <td>0.000</td>\n",
       "      <td>0</td>\n",
       "      <td>...</td>\n",
       "      <td>-10921639</td>\n",
       "      <td>155.514</td>\n",
       "      <td>154</td>\n",
       "      <td>122</td>\n",
       "      <td>190</td>\n",
       "      <td>5754</td>\n",
       "      <td>15.504</td>\n",
       "      <td>0.907</td>\n",
       "      <td>0.134</td>\n",
       "      <td>2.368</td>\n",
       "    </tr>\n",
       "    <tr>\n",
       "      <th>1</th>\n",
       "      <td>2</td>\n",
       "      <td>ID5225372</td>\n",
       "      <td>5225372</td>\n",
       "      <td>0</td>\n",
       "      <td>8.752</td>\n",
       "      <td>22.484</td>\n",
       "      <td>31.585</td>\n",
       "      <td>0</td>\n",
       "      <td>0.101</td>\n",
       "      <td>1</td>\n",
       "      <td>...</td>\n",
       "      <td>-10921639</td>\n",
       "      <td>149.730</td>\n",
       "      <td>151</td>\n",
       "      <td>120</td>\n",
       "      <td>181</td>\n",
       "      <td>5540</td>\n",
       "      <td>13.312</td>\n",
       "      <td>0.411</td>\n",
       "      <td>0.110</td>\n",
       "      <td>2.234</td>\n",
       "    </tr>\n",
       "    <tr>\n",
       "      <th>2</th>\n",
       "      <td>3</td>\n",
       "      <td>ID5224584</td>\n",
       "      <td>5224584</td>\n",
       "      <td>0</td>\n",
       "      <td>7.290</td>\n",
       "      <td>22.448</td>\n",
       "      <td>31.614</td>\n",
       "      <td>0</td>\n",
       "      <td>0.202</td>\n",
       "      <td>2</td>\n",
       "      <td>...</td>\n",
       "      <td>-10921639</td>\n",
       "      <td>145.973</td>\n",
       "      <td>145</td>\n",
       "      <td>117</td>\n",
       "      <td>171</td>\n",
       "      <td>5401</td>\n",
       "      <td>10.748</td>\n",
       "      <td>1.140</td>\n",
       "      <td>0.107</td>\n",
       "      <td>2.621</td>\n",
       "    </tr>\n",
       "    <tr>\n",
       "      <th>3</th>\n",
       "      <td>4</td>\n",
       "      <td>ID5225177</td>\n",
       "      <td>5225177</td>\n",
       "      <td>0</td>\n",
       "      <td>7.750</td>\n",
       "      <td>22.409</td>\n",
       "      <td>31.609</td>\n",
       "      <td>0</td>\n",
       "      <td>0.303</td>\n",
       "      <td>3</td>\n",
       "      <td>...</td>\n",
       "      <td>-10921639</td>\n",
       "      <td>145.135</td>\n",
       "      <td>144</td>\n",
       "      <td>125</td>\n",
       "      <td>167</td>\n",
       "      <td>5370</td>\n",
       "      <td>9.964</td>\n",
       "      <td>0.903</td>\n",
       "      <td>0.103</td>\n",
       "      <td>2.721</td>\n",
       "    </tr>\n",
       "    <tr>\n",
       "      <th>4</th>\n",
       "      <td>5</td>\n",
       "      <td>ID5225767</td>\n",
       "      <td>5225767</td>\n",
       "      <td>0</td>\n",
       "      <td>7.854</td>\n",
       "      <td>22.411</td>\n",
       "      <td>31.627</td>\n",
       "      <td>0</td>\n",
       "      <td>0.404</td>\n",
       "      <td>4</td>\n",
       "      <td>...</td>\n",
       "      <td>-10921639</td>\n",
       "      <td>147.811</td>\n",
       "      <td>147</td>\n",
       "      <td>122</td>\n",
       "      <td>177</td>\n",
       "      <td>5469</td>\n",
       "      <td>11.414</td>\n",
       "      <td>0.900</td>\n",
       "      <td>0.109</td>\n",
       "      <td>2.554</td>\n",
       "    </tr>\n",
       "  </tbody>\n",
       "</table>\n",
       "<p>5 rows × 22 columns</p>\n",
       "</div>"
      ],
      "text/plain": [
       "          Label       ID  TRACK_ID  QUALITY  POSITION_X  POSITION_Y  \\\n",
       "0  1  ID5225964  5225964         0   10.878      22.480      31.655   \n",
       "1  2  ID5225372  5225372         0    8.752      22.484      31.585   \n",
       "2  3  ID5224584  5224584         0    7.290      22.448      31.614   \n",
       "3  4  ID5225177  5225177         0    7.750      22.409      31.609   \n",
       "4  5  ID5225767  5225767         0    7.854      22.411      31.627   \n",
       "\n",
       "   POSITION_Z  POSITION_T  FRAME  ...  MANUAL_COLOR  MEAN_INTENSITY  \\\n",
       "0           0       0.000      0  ...     -10921639         155.514   \n",
       "1           0       0.101      1  ...     -10921639         149.730   \n",
       "2           0       0.202      2  ...     -10921639         145.973   \n",
       "3           0       0.303      3  ...     -10921639         145.135   \n",
       "4           0       0.404      4  ...     -10921639         147.811   \n",
       "\n",
       "   MEDIAN_INTENSITY  MIN_INTENSITY  MAX_INTENSITY  TOTAL_INTENSITY  \\\n",
       "0               154            122            190             5754   \n",
       "1               151            120            181             5540   \n",
       "2               145            117            171             5401   \n",
       "3               144            125            167             5370   \n",
       "4               147            122            177             5469   \n",
       "\n",
       "   STANDARD_DEVIATION  ESTIMATED_DIAMETER  CONTRAST    SNR  \n",
       "0              15.504               0.907     0.134  2.368  \n",
       "1              13.312               0.411     0.110  2.234  \n",
       "2              10.748               1.140     0.107  2.621  \n",
       "3               9.964               0.903     0.103  2.721  \n",
       "4              11.414               0.900     0.109  2.554  \n",
       "\n",
       "[5 rows x 22 columns]"
      ]
     },
     "execution_count": 33,
     "metadata": {},
     "output_type": "execute_result"
    }
   ],
   "source": [
    "norm_data.head()"
   ]
  },
  {
   "cell_type": "code",
   "execution_count": 34,
   "metadata": {},
   "outputs": [],
   "source": [
    "@jit(nopython=True)\n",
    "def flatten_list(ll):\n",
    "    N_out = 0\n",
    "    for l0 in ll:\n",
    "        N_out += len(l0)\n",
    "    l_out = np.zeros(shape=N_out).astype(np.float64)\n",
    "    counter = 0\n",
    "    for l0 in ll:\n",
    "        for l1 in l0:\n",
    "            l_out[counter] = l1\n",
    "            counter += 1\n",
    "    return l_out"
   ]
  },
  {
   "cell_type": "code",
   "execution_count": 35,
   "metadata": {},
   "outputs": [
    {
     "name": "stdout",
     "output_type": "stream",
     "text": [
      "(58053,)\n"
     ]
    }
   ],
   "source": [
    "all_l = List()\n",
    "all_alpha = List()\n",
    "for ii in np.unique(norm_data['TRACK_ID'])[:100]:\n",
    "    tr = norm_data.loc[norm_data['TRACK_ID']==ii]\n",
    "    X = np.array([tr['POSITION_X'], tr['POSITION_Y']]).T\n",
    "    dt = tr['POSITION_T'].iloc[1]-tr['POSITION_T'].iloc[0]\n",
    "    l_tmp, alpha_tmp = convert_to_planar(X,dt)\n",
    "    all_l.append(l_tmp)\n",
    "    all_alpha.append(alpha_tmp)\n",
    "\n",
    "all_l = flatten_list(all_l)\n",
    "all_alpha = flatten_list(all_alpha)\n",
    "print(all_l.shape)"
   ]
  },
  {
   "cell_type": "code",
   "execution_count": 36,
   "metadata": {},
   "outputs": [
    {
     "name": "stdout",
     "output_type": "stream",
     "text": [
      "-1.140266659957235\n"
     ]
    },
    {
     "data": {
      "image/png": "[encoded data removed]",
      "text/plain": [
       "<Figure size 432x288 with 1 Axes>"
      ]
     },
     "metadata": {
      "needs_background": "light"
     },
     "output_type": "display_data"
    }
   ],
   "source": [
    "mu = np.mean(np.log(all_l))\n",
    "sigma = np.std(np.log(all_l))\n",
    "x = np.linspace(0, 3, 500)\n",
    "plt.hist(all_l, bins=50,density=True, label='Data histogram')\n",
    "plt.plot(x, lognorm_pdf(x,-0.93365661,0.75), label = 'Fitted lognormal distribution')\n",
    "plt.legend()\n",
    "plt.axis(xmax=2,xmin=0)\n",
    "plt.xlabel(r'$l$')\n",
    "plt.ylabel(r'$p(l)$')\n",
    "plt.savefig('p_l.png')\n",
    "print(mu)"
   ]
  },
  {
   "cell_type": "code",
   "execution_count": 37,
   "metadata": {},
   "outputs": [
    {
     "data": {
      "text/plain": [
       "Text(0, 0.5, '$p(\\\\alpha)$')"
      ]
     },
     "execution_count": 37,
     "metadata": {},
     "output_type": "execute_result"
    },
    {
     "data": {
      "image/png": "[encoded data removed]",
      "text/plain": [
       "<Figure size 432x288 with 1 Axes>"
      ]
     },
     "metadata": {
      "needs_background": "light"
     },
     "output_type": "display_data"
    }
   ],
   "source": [
    "plt.hist(all_alpha, bins=50,density=True, label='Data histogram')\n",
    "#plt.plot(x, lognorm_pdf(x,mu,sigma), label = 'Fitted lognormal distribution')\n",
    "plt.legend()\n",
    "#plt.axis(xmax=0.25)\n",
    "plt.xlabel(r'$\\alpha$')\n",
    "plt.ylabel(r'$p(\\alpha)$')\n",
    "#plt.savefig('p_l.png')"
   ]
  },
  {
   "cell_type": "code",
   "execution_count": 38,
   "metadata": {},
   "outputs": [
    {
     "name": "stdout",
     "output_type": "stream",
     "text": [
      "      alpha         l\n",
      "0 -2.305996  0.457701\n",
      "1  0.805629  0.389300\n",
      "2 -1.808963  0.179315\n",
      "3  1.639811  0.713490\n",
      "4  1.736794  0.478947\n"
     ]
    },
    {
     "data": {
      "image/png": "[encoded data removed]",
      "text/plain": [
       "<Figure size 432x288 with 1 Axes>"
      ]
     },
     "metadata": {
      "needs_background": "light"
     },
     "output_type": "display_data"
    }
   ],
   "source": [
    "dic = {'alpha': all_alpha, 'l':all_l}\n",
    "alpha_l = pd.DataFrame(dic)\n",
    "print(alpha_l.head())\n",
    "sns.histplot(alpha_l, x = all_alpha, y = all_l)\n",
    "plt.axis(ymax=0.25)\n",
    "alpha_l.to_csv('/home/svensson/Dropbox/Projects/HMM/alpha_l.csv', sep=';')"
   ]
  },
  {
   "cell_type": "code",
   "execution_count": 39,
   "metadata": {},
   "outputs": [
    {
     "name": "stdout",
     "output_type": "stream",
     "text": [
      "[1.00000022 1.00000022 1.00000022 1.00000022 1.00000022 1.41421378]\n",
      "[-0.78539816  0.         -1.57079633  0.          1.57079633 -2.35619449]\n",
      "[1.00000089 1.00000089 1.00000089 1.00000089 1.00000089 1.41421445]\n",
      "[-0.78539816  0.         -1.57079633  0.          1.57079633 -2.35619449]\n"
     ]
    }
   ],
   "source": [
    "X_test = np.array([[0,0],[1,1], [2,1], [3,1], [3,0], [3,-1], [4,-1], [3,-2]])\n",
    "#print(np.flipud(X_test))\n",
    "l_tmp, alpha_tmp = convert_to_planar(X_test)\n",
    "print(l_tmp)\n",
    "print(alpha_tmp)\n",
    "X = np.array([track0['POSITION_X'], track0['POSITION_Y']]).T\n",
    "l_tmp, alpha_tmp = convert_to_planar(X_test)\n",
    "print(l_tmp)\n",
    "print(alpha_tmp)"
   ]
  },
  {
   "cell_type": "code",
   "execution_count": 40,
   "metadata": {},
   "outputs": [],
   "source": [
    "norm_data = pd.read_csv('/data/Peroxisome tracks/HEK WT/20180601_HEK293_pJK26_GFP90ms_Triggered_1_3_cell2/20180601_HEK293_pJK26_GFP90ms_Triggered_1_3_cell2.xls', sep='\\t')"
   ]
  },
  {
   "cell_type": "code",
   "execution_count": 591,
   "metadata": {},
   "outputs": [
    {
     "data": {
      "image/png": "[encoded data removed]",
      "text/plain": [
       "<Figure size 432x288 with 1 Axes>"
      ]
     },
     "metadata": {},
     "output_type": "display_data"
    }
   ],
   "source": [
    "track0 = norm_data.loc[norm_data['TRACK_ID']==491]\n",
    "plt.plot(track0['POSITION_X'].iloc[0:], track0['POSITION_Y'].iloc[0:])\n",
    "plt.xticks([])\n",
    "plt.yticks([])\n",
    "plt.savefig('/home/svensson/Dropbox/Projects/Perioxomes/Plots/example_track_2.svg')"
   ]
  },
  {
   "cell_type": "code",
   "execution_count": 592,
   "metadata": {},
   "outputs": [],
   "source": [
    "T = np.array([[0.9, 0.1],[0.1, 0.9]]) # assuming that Brownian motion is dominating\n",
    "pi = np.array([0.95, 0.05]) # The prior probability of being in a s_1 and s_2 respectively\n",
    "mu_l = np.array([-0.5, 0.1])\n",
    "sigma_l = np.array([0.75, 0.5])\n",
    "sigma_alpha_2 = 0.45"
   ]
  },
  {
   "cell_type": "code",
   "execution_count": 593,
   "metadata": {},
   "outputs": [
    {
     "name": "stdout",
     "output_type": "stream",
     "text": [
      "0.10099999999999999\n",
      "[0.58449395 0.58950399 0.47935519 0.84536136 0.72703207 0.33721557\n",
      " 0.23782995 0.18256524 0.19826717 0.26732673]\n",
      "[-1.17245005  0.85498502]\n"
     ]
    }
   ],
   "source": [
    "X = np.array([track0['POSITION_X'], track0['POSITION_Y']]).T\n",
    "dt = track0['POSITION_T'].iloc[1]-track0['POSITION_T'].iloc[0]\n",
    "print(dt)\n",
    "l, alpha = convert_to_planar(X,dt)\n",
    "print(l[:10])\n",
    "#print(alpha.shape)\n",
    "o = np.array([l[:], alpha]).T\n",
    "o_log = np.copy(o[:])\n",
    "o_log[:,0] = np.log(o[:,0])\n",
    "sigma_alpha_2 = 0.45\n",
    "mu_l_new, sigma_l_new, sigma_alpha2_new, T_new, pi_new = Baum_Welch(o_log[:], T, pi, mu_l, sigma_l, sigma_alpha_2, fit_mu=True, fit_sigma=True, fit_T=True)\n",
    "for ii in range(10):\n",
    "    mu_l_new, sigma_l_new, sigma_alpha2_new, T_new, pi_new = Baum_Welch(o_log[:], T_new, pi_new, mu_l_new, sigma_l_new, sigma_alpha2_new, fit_mu=True, fit_sigma=True, fit_T=True)\n",
    "    \n",
    "print(mu_l_new)"
   ]
  },
  {
   "cell_type": "code",
   "execution_count": 594,
   "metadata": {},
   "outputs": [
    {
     "name": "stdout",
     "output_type": "stream",
     "text": [
      "mu: [-1.17245005  0.85498502]\n",
      "sigma: [0.67320763 0.47472395]\n",
      "pi: [0.96413551 0.03586449]\n",
      "T: [[9.70609614e-01 2.93903856e-02]\n",
      " [3.46985217e-13 1.00000000e+00]]\n"
     ]
    }
   ],
   "source": [
    "print('mu: %s'%mu_l_new)\n",
    "print('sigma: %s'%sigma_l_new)\n",
    "print('pi: %s'%pi_new)\n",
    "print('T: %s'%T_new)"
   ]
  },
  {
   "cell_type": "code",
   "execution_count": 595,
   "metadata": {},
   "outputs": [
    {
     "name": "stdout",
     "output_type": "stream",
     "text": [
      "[0 1]\n"
     ]
    }
   ],
   "source": [
    "s_est, D, E = viterbi(T_new, pi_new, mu_l_new, sigma_l_new, 0.45, o)\n",
    "print(np.unique(s_est))"
   ]
  },
  {
   "cell_type": "code",
   "execution_count": 596,
   "metadata": {},
   "outputs": [
    {
     "name": "stdout",
     "output_type": "stream",
     "text": [
      "138\n"
     ]
    },
    {
     "data": {
      "image/png": "[encoded data removed]",
      "text/plain": [
       "<Figure size 432x288 with 1 Axes>"
      ]
     },
     "metadata": {},
     "output_type": "display_data"
    }
   ],
   "source": [
    "s_1_idx = (s_est==0)\n",
    "s_2_idx = (s_est==1)\n",
    "print(o.shape[0])\n",
    "lab1=True\n",
    "lab2=True\n",
    "#fig, ax = plt.subplots(1,1)\n",
    "for ii in range(o.shape[0]-1):\n",
    "    if s_est[ii+1] == 0:\n",
    "        if lab1:\n",
    "            plt.plot(track0['POSITION_X'].iloc[ii+1:ii+3], track0['POSITION_Y'].iloc[ii+2:ii+4], c=c1, label=r'$s_1$')\n",
    "            lab1=False\n",
    "        else:\n",
    "            plt.plot(track0['POSITION_X'].iloc[ii+1:ii+3], track0['POSITION_Y'].iloc[ii+2:ii+4], c=c1)\n",
    "    else:\n",
    "        if lab2:\n",
    "            plt.plot(track0['POSITION_X'].iloc[ii+1:ii+3], track0['POSITION_Y'].iloc[ii+2:ii+4], c=c2, label=r'$s_2$')\n",
    "            lab2=False\n",
    "        else:\n",
    "            plt.plot(track0['POSITION_X'].iloc[ii+1:ii+3], track0['POSITION_Y'].iloc[ii+2:ii+4], c=c2)\n",
    "        #print(o[ii])\n",
    "plt.legend()\n",
    "plt.xticks([])\n",
    "plt.yticks([])\n",
    "#plt.gca().set_aspect('equal')\n",
    "plt.savefig('/home/svensson/Dropbox/Projects/Perioxomes/Plots/example_track_3.svg')"
   ]
  },
  {
   "cell_type": "code",
   "execution_count": 199,
   "metadata": {},
   "outputs": [
    {
     "name": "stdout",
     "output_type": "stream",
     "text": [
      "[[20.774 45.928]\n",
      " [20.796 45.966]\n",
      " [20.779 45.969]\n",
      " [20.76  45.971]\n",
      " [20.751 45.953]\n",
      " [20.758 45.963]\n",
      " [20.732 45.989]\n",
      " [20.732 46.008]\n",
      " [20.733 46.005]\n",
      " [20.688 45.994]]\n",
      "(176,)\n",
      "(176,)\n",
      "(176, 2)\n",
      "0.10099999999999999\n"
     ]
    }
   ],
   "source": [
    "X = np.array([track0['POSITION_X'], track0['POSITION_Y']]).T\n",
    "print(X[:10])\n",
    "dt = track0['POSITION_T'].iloc[1]-track0['POSITION_T'].iloc[0]\n",
    "l, alpha = convert_to_planar(X, dt)\n",
    "print(l.shape)\n",
    "print(alpha.shape)\n",
    "o = np.array([l, alpha]).T\n",
    "print(o.shape)\n",
    "o_log = np.copy(o[:])\n",
    "o_log[:,0] = np.log(o[:,0])\n",
    "print(dt)"
   ]
  },
  {
   "cell_type": "code",
   "execution_count": 46,
   "metadata": {},
   "outputs": [
    {
     "data": {
      "text/plain": [
       "(array([61., 24.,  6.,  8.,  5., 11.,  3.,  1.,  0.,  1.]),\n",
       " array([0.02800506, 0.44073611, 0.85346716, 1.26619821, 1.67892926,\n",
       "        2.09166031, 2.50439136, 2.91712241, 3.32985346, 3.74258451,\n",
       "        4.15531556]),\n",
       " <BarContainer object of 10 artists>)"
      ]
     },
     "execution_count": 46,
     "metadata": {},
     "output_type": "execute_result"
    },
    {
     "data": {
      "image/png": "[encoded data removed]",
      "text/plain": [
       "<Figure size 432x288 with 1 Axes>"
      ]
     },
     "metadata": {
      "needs_background": "light"
     },
     "output_type": "display_data"
    }
   ],
   "source": [
    "plt.hist(l)"
   ]
  },
  {
   "cell_type": "code",
   "execution_count": 47,
   "metadata": {},
   "outputs": [],
   "source": [
    "mu_fitted = np.array([[-0.97057501,  0.1883878 ],[-1.03262467, -0.52197921],[-1.07322514,  0.06578003],[-1.14330284, -0.36379151],[-0.78364653,  0.09833345],[-1.06322479,  0.45178767],[-0.69142024,  0.07513808],[-0.94723282,  0.00487366],[-1.32947121, -0.5757101 ],[-0.79697475,  0.16129948],[-0.94723282,  0.00487366],[-1.42534533, -0.55606301],[-1.56049912, -0.74028544],[-0.30043147,  0.21234405],[-0.58427254,  1.15471892],[-0.77818833 , 0.33759624],[-0.85799187, -0.01707892],[-0.7640799,  -0.00130128],[-0.66966337,  0.48151458],[-0.59712096,  0.13390862],[-1.4148481,  -0.65316043],[-1.61739727, -0.83120655],[-0.2822638,   0.49283444],[-0.31065779,  0.93931439],[-0.61336624,  0.13125852],[-0.76239269,  0.62356318],[-0.50187364,  1.23472541],[-0.89477787,  0.10024699],[-1.58325277, -0.24889731],[-1.03021716, -0.8862402 ],[-0.74852224,  0.07408701],[-1.09619545, -0.33206466],[-0.75113582,  0.38806173],[-0.80320748,  0.39836689],[-0.90528563,  0.15696422],[-1.1517104,  -0.81896122],[-0.88028662, -0.08422862],[-0.55187692,  0.92606314],[-1.37986652, -0.5506899 ],[-1.02891745, -0.25137136],[-0.69937725,  1.28063612],[-1.30705359, -0.43219531],[-0.96834692, -0.14978888],[-0.69641074, 0.1130865 ],[-0.49983452,  0.0357062 ],[-1.25947733, -0.39393485],[-1.17268844,  0.8545791 ],[-1.2412065,  -0.11907525],[-0.74956689,  0.31464856],[-1.1671662,  -0.37329593],[-0.90248366, -0.22359125],[-1.26195595,  0.7117567 ]])"
   ]
  },
  {
   "cell_type": "code",
   "execution_count": 48,
   "metadata": {},
   "outputs": [],
   "source": [
    "sigma_fitted = np.array([[0.73771139, 0.31931611],[0.88904663, 0.40990944],[0.7745061,  0.66077366],[0.73914304, 0.57232286],[0.73899077, 0.52584327],[0.78093198, 0.43144097],[0.70789138, 0.36047107],[0.63678784, 0.41226663],[0.7272777,  0.54801588],[0.76806467, 0.60904451],[0.63678784, 0.41226663],[0.70846806, 0.51398748],[0.70235967, 0.62563223],[0.67564202, 0.53578654],[1.10348609, 0.29870145],[0.64234832, 0.81654501],[0.69449884, 0.37894116],[0.76009375, 0.43066548],[0.744741,   0.61931088],[0.68781928, 0.3819489],[0.73197559, 0.5809963 ],[0.70917667, 0.56823225],[0.52842274, 0.29381992],[0.61314943, 0.41051379],[0.71499043, 0.33832894],[0.67561865, 0.48175087],[0.70273993, 0.45030242],[0.70323073, 0.28335771],[0.7179635,  0.50716616],[0.73446297, 0.9734217 ],[0.66285587, 0.25457742],[0.71297806, 0.41463388],[0.83164493, 0.42343138],[0.73718119, 0.38496359],[0.74711378, 0.33406839],[0.52438945, 0.93096708],[0.7877847,  0.52633391],[0.71441265, 0.68247533],[0.71933149, 0.5738272 ],[0.67470366, 0.41809542],[0.7609466,  0.28634687],[0.67863426, 0.61530195],[0.68666761, 0.32587028],[0.66994714, 0.391815],[0.70587087, 0.49129695],[0.76320296, 0.48876329],[0.67290502, 0.47419663],[0.6532961,  0.35433947],[0.69246464, 0.59812489],[0.68842988, 0.38602993],[0.72756422, 0.51916042],[0.79551958, 0.29740276]])"
   ]
  },
  {
   "cell_type": "code",
   "execution_count": 49,
   "metadata": {},
   "outputs": [
    {
     "data": {
      "text/plain": [
       "array([-0.93365661,  0.05810662])"
      ]
     },
     "execution_count": 49,
     "metadata": {},
     "output_type": "execute_result"
    }
   ],
   "source": [
    "np.mean(mu_fitted, axis=0)"
   ]
  },
  {
   "cell_type": "code",
   "execution_count": 50,
   "metadata": {},
   "outputs": [
    {
     "data": {
      "text/plain": [
       "array([0.72188224, 0.5028742 ])"
      ]
     },
     "execution_count": 50,
     "metadata": {},
     "output_type": "execute_result"
    }
   ],
   "source": [
    "np.sqrt(1/(52)*np.sum(sigma_fitted**2,axis=0))"
   ]
  },
  {
   "cell_type": "code",
   "execution_count": 51,
   "metadata": {},
   "outputs": [
    {
     "name": "stdout",
     "output_type": "stream",
     "text": [
      "(<matplotlib.lines.Line2D object at 0x7f8ef968f610>, <matplotlib.lines.Line2D object at 0x7f8ef96db4d0>)\n"
     ]
    },
    {
     "data": {
      "image/png": "[encoded data removed]",
      "text/plain": [
       "<Figure size 864x576 with 1 Axes>"
      ]
     },
     "metadata": {
      "needs_background": "light"
     },
     "output_type": "display_data"
    }
   ],
   "source": [
    "import pylab as plt\n",
    "fig = plt.figure(figsize=(12,8))\n",
    "pos = np.array([1, 2])\n",
    "width = 0.2\n",
    "box1 = plt.boxplot(mu_fitted[:,0], positions=[pos[0]], widths=width, patch_artist=True, notch=True)\n",
    "box2 = plt.boxplot(mu_fitted[:,1], positions=[pos[1]], widths=width, patch_artist=True, notch=True)\n",
    "\n",
    "#plt.axis(ymax=0.3)\n",
    "plt.ylabel(r'$\\mu_\\iota$', size=18)\n",
    "plt.xticks([1,2], [r'$s_1$', r'$s_2$'], size=18)\n",
    "plt.yticks(size=16)\n",
    "\n",
    "for p1, p2 in zip(box1['boxes'], box2['boxes']):\n",
    "    p1.set_facecolor(c1)\n",
    "    p2.set_facecolor(c2)\n",
    "for median in zip(box1['medians'], box2['medians']):\n",
    "    print(median)\n",
    "    median[0].set_color('black')\n",
    "    median[1].set_color('black')\n",
    "\n",
    "    #p3.set_facecolor('green')\n",
    "    #p4.set_facecolor('orange')\n",
    "    #p5.set_facecolor('cyan')\n",
    "    #p6.set_facecolor('purple')\n",
    "    #p7.set_facecolor('black')\n",
    "\n",
    "plt.savefig('/home/svensson/Dropbox/Projects/Perioxomes/Manuscript/mu_fit.svg')"
   ]
  },
  {
   "cell_type": "code",
   "execution_count": 52,
   "metadata": {},
   "outputs": [
    {
     "name": "stdout",
     "output_type": "stream",
     "text": [
      "(<matplotlib.lines.Line2D object at 0x7f8ef986c310>, <matplotlib.lines.Line2D object at 0x7f8efa5dc9d0>)\n"
     ]
    },
    {
     "data": {
      "image/png": "[encoded data removed]",
      "text/plain": [
       "<Figure size 864x576 with 1 Axes>"
      ]
     },
     "metadata": {
      "needs_background": "light"
     },
     "output_type": "display_data"
    }
   ],
   "source": [
    "\n",
    "fig = plt.figure(figsize=(12,8))\n",
    "pos = np.array([1, 2])\n",
    "width = 0.2\n",
    "box1 = plt.boxplot(sigma_fitted[:,0], positions=[pos[0]], widths=width, patch_artist=True, notch=True)\n",
    "box2 = plt.boxplot(sigma_fitted[:,1], positions=[pos[1]], widths=width, patch_artist=True, notch=True)\n",
    "\n",
    "#plt.axis(ymax=0.3)\n",
    "plt.ylabel(r'$\\sigma_\\iota$', size=18)\n",
    "plt.xticks([1,2], [r'$s_1$', r'$s_2$'], size=18)\n",
    "plt.yticks(size=16)\n",
    "\n",
    "for p1, p2 in zip(box1['boxes'], box2['boxes']):\n",
    "    p1.set_facecolor(c1)\n",
    "    p2.set_facecolor(c2)\n",
    "for median in zip(box1['medians'], box2['medians']):\n",
    "    print(median)\n",
    "    median[0].set_color('black')\n",
    "    median[1].set_color('black')\n",
    "\n",
    "    #p3.set_facecolor('green')\n",
    "    #p4.set_facecolor('orange')\n",
    "    #p5.set_facecolor('cyan')\n",
    "    #p6.set_facecolor('purple')\n",
    "    #p7.set_facecolor('black')\n",
    "\n",
    "plt.savefig('/home/svensson/Dropbox/Projects/Perioxomes/Manuscript/sigma_fit.svg')"
   ]
  },
  {
   "cell_type": "code",
   "execution_count": 53,
   "metadata": {},
   "outputs": [],
   "source": [
    "T_new = np.array([[0.95, 0.05],[0.3, 0.7]]) # assuming that Brownian motion is dominating\n",
    "pi = np.array([0.95, 0.05]) # The prior probability of being in a s_1 and s_2 respectively\n",
    "mu_l = np.array([-2.9, -2.9])\n",
    "sigma_l = np.array([0.95, 0.95])\n",
    "sigma_alpha_2 = 0.5\n",
    "#print(abs(o[:,1])<0.05)"
   ]
  },
  {
   "cell_type": "code",
   "execution_count": 131,
   "metadata": {},
   "outputs": [],
   "source": [
    "mu_l_new = np.array([-0.93365661, 0.05810662])\n",
    "sigma_l_new = np.array([0.72, 0.50])\n",
    "sigma_alpha_2 = 0.45"
   ]
  },
  {
   "cell_type": "code",
   "execution_count": null,
   "metadata": {},
   "outputs": [],
   "source": []
  },
  {
   "cell_type": "code",
   "execution_count": 55,
   "metadata": {},
   "outputs": [
    {
     "name": "stdout",
     "output_type": "stream",
     "text": [
      "mu: [-0.93365661  0.05810662]\n",
      "sigma: [0.72 0.5 ]\n",
      "pi: [0.75035685 0.24964315]\n",
      "T: [[0.95 0.05]\n",
      " [0.3  0.7 ]]\n"
     ]
    }
   ],
   "source": [
    "print('mu: %s'%mu_l_new)\n",
    "print('sigma: %s'%sigma_l_new)\n",
    "print('pi: %s'%pi_new)\n",
    "print('T: %s'%T_new)\n"
   ]
  },
  {
   "cell_type": "code",
   "execution_count": null,
   "metadata": {},
   "outputs": [],
   "source": []
  },
  {
   "cell_type": "code",
   "execution_count": 56,
   "metadata": {},
   "outputs": [
    {
     "name": "stdout",
     "output_type": "stream",
     "text": [
      "-3.10985\n",
      "0.7410526315789474\n"
     ]
    }
   ],
   "source": [
    "mu1 = [-2.997, -3.07, -3.02, -2.60, -2.85, -3.6, -3.9, -3.66, -2.6, -2.61, -2.89, -3.29, -3.01, -3.38, -2.97, -3.08, -3.15, -3.47, -3.25, -2.8]\n",
    "sigma1 = [0.66, 0.73, 0.66, 1.1, 0.77, 0.71, 0.85, 0.75, 0.60, 0.72, 0.72, 0.67, 0.73, 0.83, 0.78, 0.75, 0.63, 0.72, 0.7]\n",
    "print(np.mean(mu1))\n",
    "print(np.mean(sigma1))"
   ]
  },
  {
   "cell_type": "code",
   "execution_count": 57,
   "metadata": {},
   "outputs": [
    {
     "name": "stdout",
     "output_type": "stream",
     "text": [
      "-2.3167\n",
      "0.7411891863755163\n"
     ]
    }
   ],
   "source": [
    "mu2 = [-2.209, -2.975, -1.8, -1.96, -1.17, -3.51, -3.12, -3.7, -1.79, -1.35, -2.18, -3.29, -2.35, -2.73, -1.87, -2.3, -2.12, -2.94, -1.98, -0.99]\n",
    "print(np.mean(mu2))\n",
    "print(np.std(mu2))"
   ]
  },
  {
   "cell_type": "code",
   "execution_count": 58,
   "metadata": {},
   "outputs": [
    {
     "data": {
      "text/plain": [
       "-2.715"
      ]
     },
     "execution_count": 58,
     "metadata": {},
     "output_type": "execute_result"
    }
   ],
   "source": [
    "(-3.11-2.32)/2"
   ]
  },
  {
   "cell_type": "code",
   "execution_count": 59,
   "metadata": {},
   "outputs": [
    {
     "data": {
      "text/plain": [
       "0.13019134839429464"
      ]
     },
     "execution_count": 59,
     "metadata": {},
     "output_type": "execute_result"
    }
   ],
   "source": [
    "import numpy as np\n",
    "np.exp(-2.32+(0.75**2)/2)"
   ]
  },
  {
   "cell_type": "code",
   "execution_count": 60,
   "metadata": {},
   "outputs": [],
   "source": [
    "from tqdm import tqdm\n",
    "import json\n",
    "import os\n",
    "from json import JSONEncoder\n",
    "class NumpyArrayEncoder(JSONEncoder):\n",
    "    def default(self, obj):\n",
    "        if isinstance(obj, np.ndarray):\n",
    "            return obj.tolist()\n",
    "        return JSONEncoder.default(self, obj)"
   ]
  },
  {
   "cell_type": "code",
   "execution_count": 61,
   "metadata": {},
   "outputs": [],
   "source": [
    "def fit_with_BW(X, T, pi, mu_l, sigma_l, sigma_alpha_2, fit_mu=False, fit_sigma=False, fit_pi=True, fit_T=True,fit_sigma_alpha=False, dt = 1.0):\n",
    "    #run_dic = {\"track_id\" : track}\n",
    "    #track0 = norm_data.loc[norm_data['TRACK_ID']==track]\n",
    "    #X = np.array([track0['POSITION_X'], track0['POSITION_Y']]).T\n",
    "    l, alpha = convert_to_planar(X, dt)\n",
    "    #print(l.shape)\n",
    "    #print(alpha.shape)\n",
    "    o = np.array([l[:], alpha]).T\n",
    "    o_log = np.copy(o[:])\n",
    "    o_log[:,0] = np.log(o[:,0])\n",
    "    if o_log.shape[0]>49:\n",
    "        run_dic = {\"track_id\" : str(track)}\n",
    "        mu_l_new, sigma_l_new, sigma_alpha2_new, T_new, pi_new = Baum_Welch(o_log[:], T, pi, mu_l, sigma_l, sigma_alpha_2, fit_mu=False, fit_sigma=False)\n",
    "        converged = False\n",
    "        iters = 0\n",
    "        while not converged and iters < 1000:\n",
    "            iters += 1\n",
    "            mu_l_old = np.copy(mu_l_new)\n",
    "            sigma_l_old = np.copy(sigma_l_new)\n",
    "            pi_old = np.copy(pi_new)\n",
    "            T_old = np.copy(T_new)\n",
    "            mu_l_new, sigma_l_new, sigma_alpha2_new, T_new, pi_new = Baum_Welch(o_log[:], T_new, pi_new, mu_l_new, sigma_l_new, sigma_alpha2_new, fit_mu=False, fit_sigma=False)\n",
    "            diff_m = mu_l_new - mu_l_old\n",
    "            diff_s = sigma_l_new - sigma_l_old\n",
    "            diff_p = pi_old - pi_new\n",
    "            diff_T = T_old - T_new\n",
    "            d_vector = [np.sqrt(diff_m.dot(diff_m)), \n",
    "                        np.sqrt(diff_s.dot(diff_s)), \n",
    "                        np.sqrt(diff_p.dot(diff_p)), \n",
    "                        np.linalg.norm(diff_T)]\n",
    "            #print(np.max(d_vector))\n",
    "            if np.max(d_vector) < 0.001:\n",
    "                converged = True\n",
    "\n",
    "        run_dic[\"mu_l\"] = np.copy(mu_l_new[:]).tolist()\n",
    "        run_dic[\"sigma_l\"] = np.copy(sigma_l_new[:]).tolist()\n",
    "        run_dic[\"sigma_alpha_2\"] = np.copy(sigma_alpha2_new)\n",
    "        run_dic[\"T\"] = np.copy(T_new[:]).tolist()\n",
    "        run_dic[\"pi\"] = np.copy(pi_new[:]).tolist()\n",
    "        #res_dic[counter] = run_dic\n",
    "        #counter += 1 \n",
    "\n",
    "    return run_dic"
   ]
  },
  {
   "cell_type": "code",
   "execution_count": 62,
   "metadata": {},
   "outputs": [
    {
     "name": "stderr",
     "output_type": "stream",
     "text": [
      "100%|██████████| 194/194 [48:43<00:00, 15.07s/it] \n"
     ]
    }
   ],
   "source": [
    "with open('/data/Peroxisome tracks/HEK WT/cell_list.txt') as f_kop:\n",
    "    kop_tables = f_kop.read().splitlines()\n",
    "\n",
    "for table in tqdm(kop_tables[:]):\n",
    "    #for d in tqdm(dirs[1:]):\n",
    "    d = table[:]\n",
    "    res_dic = {}\n",
    "    counter = 0\n",
    "    #print(d)\n",
    "    try:\n",
    "        if len(glob.glob(d + '/*.xls'))>0:\n",
    "            norm_data = pd.read_csv(d + '/' + d[d.rfind('/')+1:] + '.xls', sep='\\t')\n",
    "        elif len(glob.glob(d + '/*.xlsx'))>0: \n",
    "            norm_data = pd.read_csv(d + '/' + d[d.rfind('/')+1:] + '.xlsx', sep='\\t')\n",
    "        else:\n",
    "            norm_data = pd.read_csv(d + '/' + d[d.rfind('/')+1:] + '.csv', sep=',')\n",
    "        for track in np.unique(norm_data['TRACK_ID'])[:]:\n",
    "            T = np.array([[0.8, 0.2],[0.3, 0.7]]) # assuming that Brownian motion is dominating\n",
    "            pi = np.array([0.9, 0.1]) # The prior probability of being in a s_1 and s_2 respectively\n",
    "            mu_l = np.array([-0.93365661, 0.05810662])\n",
    "            sigma_l = np.array([0.72, 0.5])\n",
    "            sigma_alpha_2 = 0.45\n",
    "            try:\n",
    "                #run_dic = {\"track_id\" : track}\n",
    "                track0 = norm_data.loc[norm_data['TRACK_ID']==track]\n",
    "                X = np.array([track0['POSITION_X'], track0['POSITION_Y']]).T\n",
    "                dt = track0['POSITION_T'].iloc[1]-track0['POSITION_T'].iloc[0]\n",
    "                res_dic[counter] = fit_with_BW(X, T, pi, mu_l, sigma_l, sigma_alpha_2, fit_mu=False, fit_sigma=False, dt=dt)\n",
    "                counter += 1 \n",
    "            except:\n",
    "                  continue\n",
    "\n",
    "        with open(d+\"/params_rerun.json\", \"w\") as write_file:\n",
    "            json.dump(res_dic, write_file, cls=NumpyArrayEncoder)\n",
    "    except:\n",
    "        continue"
   ]
  },
  {
   "cell_type": "code",
   "execution_count": null,
   "metadata": {},
   "outputs": [],
   "source": []
  },
  {
   "cell_type": "code",
   "execution_count": 63,
   "metadata": {},
   "outputs": [
    {
     "name": "stderr",
     "output_type": "stream",
     "text": [
      "100%|██████████| 130/130 [00:00<00:00, 511.27it/s]\n"
     ]
    }
   ],
   "source": [
    "with open('/data/Peroxisome tracks/noc/cell_list.txt') as f_kop:\n",
    "    kop_tables = f_kop.read().splitlines()\n",
    "\n",
    "for table in tqdm(kop_tables[:]):\n",
    "    #for d in tqdm(dirs[1:]):\n",
    "    d = table[:]\n",
    "    res_dic = {}\n",
    "    counter = 0\n",
    "    #print(d)\n",
    "    try:\n",
    "        if len(glob.glob(d + '/*.xls'))>0:\n",
    "            norm_data = pd.read_csv(d + '/' + d[d.rfind('/')+1:] + '.xls', sep='\\t')\n",
    "        elif len(glob.glob(d + '/*.xlsx'))>0: \n",
    "            norm_data = pd.read_csv(d + '/' + d[d.rfind('/')+1:] + '.xlsx', sep='\\t')\n",
    "        else:\n",
    "            norm_data = pd.read_csv(d + '/' + d[d.rfind('/')+1:] + '.csv', sep=',')\n",
    "        for track in np.unique(norm_data['TRACK_ID'])[:]:\n",
    "            T = np.array([[0.8, 0.2],[0.3, 0.7]]) # assuming that Brownian motion is dominating\n",
    "            pi = np.array([0.95, 0.05]) # The prior probability of being in a s_1 and s_2 respectively\n",
    "            mu_l = np.array([-0.93365661, 0.05810662])\n",
    "            sigma_l = np.array([0.72, 0.5])\n",
    "            sigma_alpha_2 = 0.45\n",
    "            try:\n",
    "                #run_dic = {\"track_id\" : track}\n",
    "                track0 = norm_data.loc[norm_data['TRACK_ID']==track]\n",
    "                X = np.array([track0['POSITION_X'], track0['POSITION_Y']]).T\n",
    "                dt = track0['POSITION_T'].iloc[1]-track0['POSITION_T'].iloc[0]\n",
    "                res_dic[counter] = fit_with_BW(X, T, pi, mu_l, sigma_l, sigma_alpha_2, fit_mu=False, fit_sigma=False, dt=dt)\n",
    "                counter += 1 \n",
    "          #      l, alpha = convert_to_planar(X)\n",
    "          #      #print(l.shape)\n",
    "                #print(alpha.shape)\n",
    "          #      o = np.array([l[:], alpha]).T\n",
    "          #      o_log = np.copy(o[:])\n",
    "          #      o_log[:,0] = np.log(o[:,0])\n",
    "          #      if o_log.shape[0]>49:\n",
    "          #          run_dic = {\"track_id\" : str(track)}\n",
    "          #          mu_l_new, sigma_l_new, sigma_alpha2_new, T_new, pi_new = Baum_Welch(o_log[:], T, pi, mu_l, sigma_l, sigma_alpha_2, fit_mu=True, fit_sigma=True)\n",
    "          #          converged = False\n",
    "          #          iters = 0\n",
    "          #          while not converged and iters < 1000:\n",
    "          #              iters += 1\n",
    "          #              mu_l_old = np.copy(mu_l_new)\n",
    "          #              sigma_l_old = np.copy(sigma_l_new)\n",
    "          #              pi_old = np.copy(pi_new)\n",
    "          #              T_old = np.copy(T_new)\n",
    "          #              mu_l_new, sigma_l_new, sigma_alpha2_new, T_new, pi_new = Baum_Welch(o_log[:], T_new, pi_new, mu_l_new, sigma_l_new, sigma_alpha2_new, fit_mu=True, fit_sigma=True)\n",
    "          #              diff_m = mu_l_new - mu_l_old\n",
    "          #              diff_s = sigma_l_new - sigma_l_old\n",
    "          #              diff_p = pi_old - pi_new\n",
    "          #              diff_T = T_old - T_new\n",
    "          #              d_vector = [np.sqrt(diff_m.dot(diff_m)), \n",
    "          #                          np.sqrt(diff_s.dot(diff_s)), \n",
    "         #                           np.sqrt(diff_p.dot(diff_p)), \n",
    "         #                           np.linalg.norm(diff_T)]\n",
    "         #               #print(np.max(d_vector))\n",
    "         #               if np.max(d_vector) < 0.001:\n",
    "         #                   converged = True\n",
    "         #                 \n",
    "         #       run_dic[\"mu_l\"] = np.copy(mu_l_new[:]).tolist()\n",
    "         #       run_dic[\"sigma_l\"] = np.copy(sigma_l_new[:]).tolist()\n",
    "         #       run_dic[\"sigma_alpha_2\"] = np.copy(sigma_alpha2_new)\n",
    "         #       run_dic[\"T\"] = np.copy(T_new[:]).tolist()\n",
    "         #       run_dic[\"pi\"] = np.copy(pi_new[:]).tolist()\n",
    "         #       res_dic[counter] = run_dic\n",
    "         #       counter += 1 \n",
    "         #       \n",
    "            except:\n",
    "                  continue\n",
    "\n",
    "        with open(d+\"/params_rerun.json\", \"w\") as write_file:\n",
    "            json.dump(res_dic, write_file, cls=NumpyArrayEncoder)\n",
    "    except:\n",
    "        continue    "
   ]
  },
  {
   "cell_type": "code",
   "execution_count": 64,
   "metadata": {},
   "outputs": [
    {
     "name": "stderr",
     "output_type": "stream",
     "text": [
      "100%|██████████| 134/134 [17:07<00:00,  7.67s/it]\n"
     ]
    }
   ],
   "source": [
    "#dirs = []\n",
    "#[dirs.append(d[0]) for d in os.walk('/data/Peroxisome tracks/ko pex14/cell_list.txt')]\n",
    "#print(dirs)\n",
    "with open('/data/Peroxisome tracks/ko pex14/cell_list.txt') as f_kop:\n",
    "    kop_tables = f_kop.read().splitlines()\n",
    "\n",
    "for table in tqdm(kop_tables[:]):\n",
    "    #for d in tqdm(dirs[1:]):\n",
    "    d = table[:]\n",
    "    res_dic = {}\n",
    "    counter = 0\n",
    "    #print(d)\n",
    "    #try:\n",
    "    if len(glob.glob(d + '/*.xls'))>0:\n",
    "        norm_data = pd.read_csv(d + '/Track_Data.xls', sep='\\t')\n",
    "    elif len(glob.glob(d + '/*.xlsx'))>0: \n",
    "        norm_data = pd.read_csv(d + '/Track_Data.xlsx', sep='\\t')\n",
    "    else:\n",
    "        norm_data = pd.read_csv(d + '/Track_Data.csv', sep=',')\n",
    "    for track in np.unique(norm_data['TRACK_ID'])[:]:\n",
    "        T = np.array([[0.8, 0.2],[0.3, 0.7]]) # assuming that Brownian motion is dominating\n",
    "        pi = np.array([0.95, 0.05]) # The prior probability of being in a s_1 and s_2 respectively\n",
    "        mu_l = np.array([-0.93365661, 0.05810662])\n",
    "        sigma_l = np.array([0.72, 0.5])\n",
    "        sigma_alpha_2 = 0.45\n",
    "        try:\n",
    "            #run_dic = {\"track_id\" : track}\n",
    "            track0 = norm_data.loc[norm_data['TRACK_ID']==track]\n",
    "            X = np.array([track0['POSITION_X'], track0['POSITION_Y']]).T\n",
    "            dt = track0['POSITION_T'].iloc[1]-track0['POSITION_T'].iloc[0]\n",
    "            res_dic[counter] = fit_with_BW(X, T, pi, mu_l, sigma_l, sigma_alpha_2, fit_mu=False, fit_sigma=False, dt=dt)\n",
    "            counter += 1 \n",
    "\n",
    "            #except:\n",
    "            #    continue\n",
    "\n",
    "            with open(d+\"/params_rerun.json\", \"w\") as write_file:\n",
    "                json.dump(res_dic, write_file, cls=NumpyArrayEncoder)\n",
    "        except:\n",
    "            continue    \n",
    "    "
   ]
  },
  {
   "cell_type": "code",
   "execution_count": 488,
   "metadata": {},
   "outputs": [],
   "source": [
    "norm_data = pd.read_csv(d + '/Track_Data.csv', sep=',')\n",
    "\n"
   ]
  },
  {
   "cell_type": "code",
   "execution_count": 475,
   "metadata": {},
   "outputs": [
    {
     "name": "stderr",
     "output_type": "stream",
     "text": [
      "  0%|          | 0/37 [00:00<?, ?it/s]\n"
     ]
    },
    {
     "ename": "FileNotFoundError",
     "evalue": "[Errno 2] No such file or directory: '/data/Peroxisome tracks/S44A/20171130_KOPEX14_pJK54_S44A_GFP90ms_Triggered_6-cell1/Track_data.xls'",
     "output_type": "error",
     "traceback": [
      "\u001b[0;31m---------------------------------------------------------------------------\u001b[0m",
      "\u001b[0;31mFileNotFoundError\u001b[0m                         Traceback (most recent call last)",
      "\u001b[0;32m<ipython-input-475-78a8a8f77b7c>\u001b[0m in \u001b[0;36m<module>\u001b[0;34m\u001b[0m\n\u001b[1;32m     12\u001b[0m     \u001b[0;31m#print(d)\u001b[0m\u001b[0;34m\u001b[0m\u001b[0;34m\u001b[0m\u001b[0;34m\u001b[0m\u001b[0m\n\u001b[1;32m     13\u001b[0m     \u001b[0;32mif\u001b[0m \u001b[0mlen\u001b[0m\u001b[0;34m(\u001b[0m\u001b[0mglob\u001b[0m\u001b[0;34m.\u001b[0m\u001b[0mglob\u001b[0m\u001b[0;34m(\u001b[0m\u001b[0md\u001b[0m \u001b[0;34m+\u001b[0m \u001b[0;34m'/*.xls'\u001b[0m\u001b[0;34m)\u001b[0m\u001b[0;34m)\u001b[0m\u001b[0;34m>\u001b[0m\u001b[0;36m0\u001b[0m\u001b[0;34m:\u001b[0m\u001b[0;34m\u001b[0m\u001b[0;34m\u001b[0m\u001b[0m\n\u001b[0;32m---> 14\u001b[0;31m         \u001b[0mnorm_data\u001b[0m \u001b[0;34m=\u001b[0m \u001b[0mpd\u001b[0m\u001b[0;34m.\u001b[0m\u001b[0mread_csv\u001b[0m\u001b[0;34m(\u001b[0m\u001b[0md\u001b[0m \u001b[0;34m+\u001b[0m \u001b[0;34m'/Track_data.xls'\u001b[0m\u001b[0;34m,\u001b[0m \u001b[0msep\u001b[0m\u001b[0;34m=\u001b[0m\u001b[0;34m'\\t'\u001b[0m\u001b[0;34m)\u001b[0m\u001b[0;34m\u001b[0m\u001b[0;34m\u001b[0m\u001b[0m\n\u001b[0m\u001b[1;32m     15\u001b[0m     \u001b[0;32melif\u001b[0m \u001b[0mlen\u001b[0m\u001b[0;34m(\u001b[0m\u001b[0mglob\u001b[0m\u001b[0;34m.\u001b[0m\u001b[0mglob\u001b[0m\u001b[0;34m(\u001b[0m\u001b[0md\u001b[0m \u001b[0;34m+\u001b[0m \u001b[0;34m'/*.xlsx'\u001b[0m\u001b[0;34m)\u001b[0m\u001b[0;34m)\u001b[0m\u001b[0;34m>\u001b[0m\u001b[0;36m0\u001b[0m\u001b[0;34m:\u001b[0m\u001b[0;34m\u001b[0m\u001b[0;34m\u001b[0m\u001b[0m\n\u001b[1;32m     16\u001b[0m         \u001b[0mnorm_data\u001b[0m \u001b[0;34m=\u001b[0m \u001b[0mpd\u001b[0m\u001b[0;34m.\u001b[0m\u001b[0mread_csv\u001b[0m\u001b[0;34m(\u001b[0m\u001b[0md\u001b[0m \u001b[0;34m+\u001b[0m \u001b[0;34m'/Track_data.xlsx'\u001b[0m\u001b[0;34m,\u001b[0m \u001b[0msep\u001b[0m\u001b[0;34m=\u001b[0m\u001b[0;34m'\\t'\u001b[0m\u001b[0;34m)\u001b[0m\u001b[0;34m\u001b[0m\u001b[0;34m\u001b[0m\u001b[0m\n",
      "\u001b[0;32m~/anaconda3/lib/python3.7/site-packages/pandas/io/parsers.py\u001b[0m in \u001b[0;36mread_csv\u001b[0;34m(filepath_or_buffer, sep, delimiter, header, names, index_col, usecols, squeeze, prefix, mangle_dupe_cols, dtype, engine, converters, true_values, false_values, skipinitialspace, skiprows, skipfooter, nrows, na_values, keep_default_na, na_filter, verbose, skip_blank_lines, parse_dates, infer_datetime_format, keep_date_col, date_parser, dayfirst, cache_dates, iterator, chunksize, compression, thousands, decimal, lineterminator, quotechar, quoting, doublequote, escapechar, comment, encoding, dialect, error_bad_lines, warn_bad_lines, delim_whitespace, low_memory, memory_map, float_precision)\u001b[0m\n\u001b[1;32m    684\u001b[0m     )\n\u001b[1;32m    685\u001b[0m \u001b[0;34m\u001b[0m\u001b[0m\n\u001b[0;32m--> 686\u001b[0;31m     \u001b[0;32mreturn\u001b[0m \u001b[0m_read\u001b[0m\u001b[0;34m(\u001b[0m\u001b[0mfilepath_or_buffer\u001b[0m\u001b[0;34m,\u001b[0m \u001b[0mkwds\u001b[0m\u001b[0;34m)\u001b[0m\u001b[0;34m\u001b[0m\u001b[0;34m\u001b[0m\u001b[0m\n\u001b[0m\u001b[1;32m    687\u001b[0m \u001b[0;34m\u001b[0m\u001b[0m\n\u001b[1;32m    688\u001b[0m \u001b[0;34m\u001b[0m\u001b[0m\n",
      "\u001b[0;32m~/anaconda3/lib/python3.7/site-packages/pandas/io/parsers.py\u001b[0m in \u001b[0;36m_read\u001b[0;34m(filepath_or_buffer, kwds)\u001b[0m\n\u001b[1;32m    450\u001b[0m \u001b[0;34m\u001b[0m\u001b[0m\n\u001b[1;32m    451\u001b[0m     \u001b[0;31m# Create the parser.\u001b[0m\u001b[0;34m\u001b[0m\u001b[0;34m\u001b[0m\u001b[0;34m\u001b[0m\u001b[0m\n\u001b[0;32m--> 452\u001b[0;31m     \u001b[0mparser\u001b[0m \u001b[0;34m=\u001b[0m \u001b[0mTextFileReader\u001b[0m\u001b[0;34m(\u001b[0m\u001b[0mfp_or_buf\u001b[0m\u001b[0;34m,\u001b[0m \u001b[0;34m**\u001b[0m\u001b[0mkwds\u001b[0m\u001b[0;34m)\u001b[0m\u001b[0;34m\u001b[0m\u001b[0;34m\u001b[0m\u001b[0m\n\u001b[0m\u001b[1;32m    453\u001b[0m \u001b[0;34m\u001b[0m\u001b[0m\n\u001b[1;32m    454\u001b[0m     \u001b[0;32mif\u001b[0m \u001b[0mchunksize\u001b[0m \u001b[0;32mor\u001b[0m \u001b[0miterator\u001b[0m\u001b[0;34m:\u001b[0m\u001b[0;34m\u001b[0m\u001b[0;34m\u001b[0m\u001b[0m\n",
      "\u001b[0;32m~/anaconda3/lib/python3.7/site-packages/pandas/io/parsers.py\u001b[0m in \u001b[0;36m__init__\u001b[0;34m(self, f, engine, **kwds)\u001b[0m\n\u001b[1;32m    944\u001b[0m             \u001b[0mself\u001b[0m\u001b[0;34m.\u001b[0m\u001b[0moptions\u001b[0m\u001b[0;34m[\u001b[0m\u001b[0;34m\"has_index_names\"\u001b[0m\u001b[0;34m]\u001b[0m \u001b[0;34m=\u001b[0m \u001b[0mkwds\u001b[0m\u001b[0;34m[\u001b[0m\u001b[0;34m\"has_index_names\"\u001b[0m\u001b[0;34m]\u001b[0m\u001b[0;34m\u001b[0m\u001b[0;34m\u001b[0m\u001b[0m\n\u001b[1;32m    945\u001b[0m \u001b[0;34m\u001b[0m\u001b[0m\n\u001b[0;32m--> 946\u001b[0;31m         \u001b[0mself\u001b[0m\u001b[0;34m.\u001b[0m\u001b[0m_make_engine\u001b[0m\u001b[0;34m(\u001b[0m\u001b[0mself\u001b[0m\u001b[0;34m.\u001b[0m\u001b[0mengine\u001b[0m\u001b[0;34m)\u001b[0m\u001b[0;34m\u001b[0m\u001b[0;34m\u001b[0m\u001b[0m\n\u001b[0m\u001b[1;32m    947\u001b[0m \u001b[0;34m\u001b[0m\u001b[0m\n\u001b[1;32m    948\u001b[0m     \u001b[0;32mdef\u001b[0m \u001b[0mclose\u001b[0m\u001b[0;34m(\u001b[0m\u001b[0mself\u001b[0m\u001b[0;34m)\u001b[0m\u001b[0;34m:\u001b[0m\u001b[0;34m\u001b[0m\u001b[0;34m\u001b[0m\u001b[0m\n",
      "\u001b[0;32m~/anaconda3/lib/python3.7/site-packages/pandas/io/parsers.py\u001b[0m in \u001b[0;36m_make_engine\u001b[0;34m(self, engine)\u001b[0m\n\u001b[1;32m   1176\u001b[0m     \u001b[0;32mdef\u001b[0m \u001b[0m_make_engine\u001b[0m\u001b[0;34m(\u001b[0m\u001b[0mself\u001b[0m\u001b[0;34m,\u001b[0m \u001b[0mengine\u001b[0m\u001b[0;34m=\u001b[0m\u001b[0;34m\"c\"\u001b[0m\u001b[0;34m)\u001b[0m\u001b[0;34m:\u001b[0m\u001b[0;34m\u001b[0m\u001b[0;34m\u001b[0m\u001b[0m\n\u001b[1;32m   1177\u001b[0m         \u001b[0;32mif\u001b[0m \u001b[0mengine\u001b[0m \u001b[0;34m==\u001b[0m \u001b[0;34m\"c\"\u001b[0m\u001b[0;34m:\u001b[0m\u001b[0;34m\u001b[0m\u001b[0;34m\u001b[0m\u001b[0m\n\u001b[0;32m-> 1178\u001b[0;31m             \u001b[0mself\u001b[0m\u001b[0;34m.\u001b[0m\u001b[0m_engine\u001b[0m \u001b[0;34m=\u001b[0m \u001b[0mCParserWrapper\u001b[0m\u001b[0;34m(\u001b[0m\u001b[0mself\u001b[0m\u001b[0;34m.\u001b[0m\u001b[0mf\u001b[0m\u001b[0;34m,\u001b[0m \u001b[0;34m**\u001b[0m\u001b[0mself\u001b[0m\u001b[0;34m.\u001b[0m\u001b[0moptions\u001b[0m\u001b[0;34m)\u001b[0m\u001b[0;34m\u001b[0m\u001b[0;34m\u001b[0m\u001b[0m\n\u001b[0m\u001b[1;32m   1179\u001b[0m         \u001b[0;32melse\u001b[0m\u001b[0;34m:\u001b[0m\u001b[0;34m\u001b[0m\u001b[0;34m\u001b[0m\u001b[0m\n\u001b[1;32m   1180\u001b[0m             \u001b[0;32mif\u001b[0m \u001b[0mengine\u001b[0m \u001b[0;34m==\u001b[0m \u001b[0;34m\"python\"\u001b[0m\u001b[0;34m:\u001b[0m\u001b[0;34m\u001b[0m\u001b[0;34m\u001b[0m\u001b[0m\n",
      "\u001b[0;32m~/anaconda3/lib/python3.7/site-packages/pandas/io/parsers.py\u001b[0m in \u001b[0;36m__init__\u001b[0;34m(self, src, **kwds)\u001b[0m\n\u001b[1;32m   2006\u001b[0m         \u001b[0mkwds\u001b[0m\u001b[0;34m[\u001b[0m\u001b[0;34m\"usecols\"\u001b[0m\u001b[0;34m]\u001b[0m \u001b[0;34m=\u001b[0m \u001b[0mself\u001b[0m\u001b[0;34m.\u001b[0m\u001b[0musecols\u001b[0m\u001b[0;34m\u001b[0m\u001b[0;34m\u001b[0m\u001b[0m\n\u001b[1;32m   2007\u001b[0m \u001b[0;34m\u001b[0m\u001b[0m\n\u001b[0;32m-> 2008\u001b[0;31m         \u001b[0mself\u001b[0m\u001b[0;34m.\u001b[0m\u001b[0m_reader\u001b[0m \u001b[0;34m=\u001b[0m \u001b[0mparsers\u001b[0m\u001b[0;34m.\u001b[0m\u001b[0mTextReader\u001b[0m\u001b[0;34m(\u001b[0m\u001b[0msrc\u001b[0m\u001b[0;34m,\u001b[0m \u001b[0;34m**\u001b[0m\u001b[0mkwds\u001b[0m\u001b[0;34m)\u001b[0m\u001b[0;34m\u001b[0m\u001b[0;34m\u001b[0m\u001b[0m\n\u001b[0m\u001b[1;32m   2009\u001b[0m         \u001b[0mself\u001b[0m\u001b[0;34m.\u001b[0m\u001b[0munnamed_cols\u001b[0m \u001b[0;34m=\u001b[0m \u001b[0mself\u001b[0m\u001b[0;34m.\u001b[0m\u001b[0m_reader\u001b[0m\u001b[0;34m.\u001b[0m\u001b[0munnamed_cols\u001b[0m\u001b[0;34m\u001b[0m\u001b[0;34m\u001b[0m\u001b[0m\n\u001b[1;32m   2010\u001b[0m \u001b[0;34m\u001b[0m\u001b[0m\n",
      "\u001b[0;32mpandas/_libs/parsers.pyx\u001b[0m in \u001b[0;36mpandas._libs.parsers.TextReader.__cinit__\u001b[0;34m()\u001b[0m\n",
      "\u001b[0;32mpandas/_libs/parsers.pyx\u001b[0m in \u001b[0;36mpandas._libs.parsers.TextReader._setup_parser_source\u001b[0;34m()\u001b[0m\n",
      "\u001b[0;31mFileNotFoundError\u001b[0m: [Errno 2] No such file or directory: '/data/Peroxisome tracks/S44A/20171130_KOPEX14_pJK54_S44A_GFP90ms_Triggered_6-cell1/Track_data.xls'"
     ]
    }
   ],
   "source": [
    "with open('/data/Peroxisome tracks/S44A/cell_list.txt') as f_kop:\n",
    "    S44A_tables = f_kop.read().splitlines()\n",
    "\n",
    "#print(kop_tables)\n",
    "for table in tqdm(S44A_tables[13:50]):\n",
    "    #for d in tqdm(dirs[1:]):\n",
    "    d = table\n",
    "    res_dic = {}\n",
    "    counter = 0\n",
    "    #print(d)\n",
    "   # try:\n",
    "    #print(d)\n",
    "    if len(glob.glob(d + '/*.xls'))>0:\n",
    "        norm_data = pd.read_csv(d + '/' + d[d.rfind('/')+1:] + '.xls', sep='\\t')\n",
    "    elif len(glob.glob(d + '/*.xlsx'))>0: \n",
    "        norm_data = pd.read_csv(d + '/' + d[d.rfind('/')+1:] + '.xlsx', sep='\\t')\n",
    "    else:\n",
    "        norm_data = pd.read_csv(d + '/' + d[d.rfind('/')+1:] + '.csv', sep=',')\n",
    "    #                        '/Track_Data_Elongated_Truncated.csv', sep=',')\n",
    "    #print(norm_data.head())\n",
    "    for track in np.unique(norm_data['TRACK_ID'])[:]:\n",
    "        T = np.array([[0.8, 0.2],[0.3, 0.7]]) # assuming that Brownian motion is dominating\n",
    "        pi = np.array([0.95, 0.05]) # The prior probability of being in a s_1 and s_2 respectively\n",
    "        mu_l = np.array([-3.11, -2.32])\n",
    "        sigma_l = np.array([0.75, 0.75])\n",
    "        sigma_alpha_2 = 0.45\n",
    "        try:\n",
    "            #run_dic = {\"track_id\" : track}\n",
    "            track0 = norm_data.loc[norm_data['TRACK_ID']==track]\n",
    "            X = np.array([track0['POSITION_X'], track0['POSITION_Y']]).T\n",
    "            l, alpha = convert_to_planar(X)\n",
    "            #print(l.shape)\n",
    "            #print(alpha.shape)\n",
    "            #prin\n",
    "            o = np.array([l, alpha]).T\n",
    "            o_log = np.copy(o[:])\n",
    "            if o_log.shape[0]>49:\n",
    "                o_log[:,0] = np.log(o[:,0])\n",
    "                run_dic = {\"track_id\" : str(track)}\n",
    "                mu_l_new, sigma_l_new, sigma_alpha2_new, T_new, pi_new = Baum_Welch(o_log[:], T, pi, mu_l, sigma_l, sigma_alpha_2, fit_mu=True, fit_sigma=True)\n",
    "                converged = False\n",
    "                iters = 0\n",
    "                while not converged and iters < 1000:\n",
    "                    iters += 1\n",
    "                    mu_l_old = np.copy(mu_l_new)\n",
    "                    sigma_l_old = np.copy(sigma_l_new)\n",
    "                    pi_old = np.copy(pi_new)\n",
    "                    T_old = np.copy(T_new)\n",
    "                    mu_l_new, sigma_l_new, sigma_alpha2_new, T_new, pi_new = Baum_Welch(o_log[:], T_new, pi_new, mu_l_new, sigma_l_new, sigma_alpha2_new, fit_mu=True, fit_sigma=True)\n",
    "                    diff_m = mu_l_new - mu_l_old\n",
    "                    diff_s = sigma_l_new - sigma_l_old\n",
    "                    diff_p = pi_old - pi_new\n",
    "                    diff_T = T_old - T_new\n",
    "                    d_vector = [np.sqrt(diff_m.dot(diff_m)), \n",
    "                                np.sqrt(diff_s.dot(diff_s)), \n",
    "                                np.sqrt(diff_p.dot(diff_p)), \n",
    "                                np.linalg.norm(diff_T)]\n",
    "                    #print(np.max(d_vector))\n",
    "                    if np.max(d_vector) < 0.001:\n",
    "                        converged = True\n",
    "\n",
    "                run_dic[\"mu_l\"] = np.copy(mu_l_new[:]).tolist()\n",
    "                run_dic[\"sigma_l\"] = np.copy(sigma_l_new[:]).tolist()\n",
    "                run_dic[\"sigma_alpha_2\"] = np.copy(sigma_alpha2_new)\n",
    "                run_dic[\"T\"] = np.copy(T_new[:]).tolist()\n",
    "                run_dic[\"pi\"] = np.copy(pi_new[:]).tolist()\n",
    "                res_dic[counter] = run_dic\n",
    "                counter += 1 \n",
    "        except:\n",
    "              continue\n",
    "\n",
    "        with open(d+\"/fitted_params_all.json\", \"w\") as write_file:\n",
    "            json.dump(res_dic, write_file, cls=NumpyArrayEncoder)\n",
    "    #except:\n",
    "    #    continue    "
   ]
  },
  {
   "cell_type": "code",
   "execution_count": 39,
   "metadata": {},
   "outputs": [
    {
     "name": "stderr",
     "output_type": "stream",
     "text": [
      "100%|██████████| 50/50 [6:37:34<00:00, 477.10s/it]   \n"
     ]
    }
   ],
   "source": [
    "with open('/data/Peroxisome tracks/S44D/cell_list.txt') as f_kop:\n",
    "    S44A_tables = f_kop.read().splitlines()\n",
    "\n",
    "#print(kop_tables)\n",
    "for table in tqdm(S44A_tables[:50]):\n",
    "    #for d in tqdm(dirs[1:]):\n",
    "    d = table\n",
    "    res_dic = {}\n",
    "    counter = 0\n",
    "    #print(d)\n",
    "   # try:\n",
    "    #print(d)\n",
    "    if len(glob.glob(d + '/*.xls'))>0:\n",
    "        norm_data = pd.read_csv(d + '/' + d[d.rfind('/')+1:] + '.xls', sep='\\t')\n",
    "    elif len(glob.glob(d + '/*.xlsx'))>0: \n",
    "        norm_data = pd.read_csv(d + '/' + d[d.rfind('/')+1:] + '.xlsx', sep='\\t')\n",
    "    else:\n",
    "        norm_data = pd.read_csv(d + '/' + d[d.rfind('/')+1:] + '.csv', sep=',')\n",
    "    #                        '/Track_Data_Elongated_Truncated.csv', sep=',')\n",
    "    #print(norm_data.head())\n",
    "    for track in np.unique(norm_data['TRACK_ID'])[:]:\n",
    "        T = np.array([[0.8, 0.2],[0.3, 0.7]]) # assuming that Brownian motion is dominating\n",
    "        pi = np.array([0.95, 0.05]) # The prior probability of being in a s_1 and s_2 respectively\n",
    "        mu_l = np.array([-3.11, -2.32])\n",
    "        sigma_l = np.array([0.75, 0.75])\n",
    "        sigma_alpha_2 = 0.45\n",
    "        try:\n",
    "            #run_dic = {\"track_id\" : track}\n",
    "            track0 = norm_data.loc[norm_data['TRACK_ID']==track]\n",
    "            X = np.array([track0['POSITION_X'], track0['POSITION_Y']]).T\n",
    "            l, alpha = convert_to_planar(X)\n",
    "            #print(l.shape)\n",
    "            #print(alpha.shape)\n",
    "            #prin\n",
    "            o = np.array([l, alpha]).T\n",
    "            o_log = np.copy(o[:])\n",
    "            if o_log.shape[0]>9:\n",
    "                o_log[:,0] = np.log(o[:,0])\n",
    "                run_dic = {\"track_id\" : str(track)}\n",
    "                mu_l_new, sigma_l_new, sigma_alpha2_new, T_new, pi_new = Baum_Welch(o_log[:], T, pi, mu_l, sigma_l, sigma_alpha_2, fit_mu=True, fit_sigma=True)\n",
    "                converged = False\n",
    "                iters = 0\n",
    "                while not converged and iters < 1000:\n",
    "                    iters += 1\n",
    "                    mu_l_old = np.copy(mu_l_new)\n",
    "                    sigma_l_old = np.copy(sigma_l_new)\n",
    "                    pi_old = np.copy(pi_new)\n",
    "                    T_old = np.copy(T_new)\n",
    "                    mu_l_new, sigma_l_new, sigma_alpha2_new, T_new, pi_new = Baum_Welch(o_log[:], T_new, pi_new, mu_l_new, sigma_l_new, sigma_alpha2_new, fit_mu=True, fit_sigma=True)\n",
    "                    diff_m = mu_l_new - mu_l_old\n",
    "                    diff_s = sigma_l_new - sigma_l_old\n",
    "                    diff_p = pi_old - pi_new\n",
    "                    diff_T = T_old - T_new\n",
    "                    d_vector = [np.sqrt(diff_m.dot(diff_m)), \n",
    "                                np.sqrt(diff_s.dot(diff_s)), \n",
    "                                np.sqrt(diff_p.dot(diff_p)), \n",
    "                                np.linalg.norm(diff_T)]\n",
    "                    #print(np.max(d_vector))\n",
    "                    if np.max(d_vector) < 0.001:\n",
    "                        converged = True\n",
    "\n",
    "                run_dic[\"mu_l\"] = np.copy(mu_l_new[:]).tolist()\n",
    "                run_dic[\"sigma_l\"] = np.copy(sigma_l_new[:]).tolist()\n",
    "                run_dic[\"sigma_alpha_2\"] = np.copy(sigma_alpha2_new)\n",
    "                run_dic[\"T\"] = np.copy(T_new[:]).tolist()\n",
    "                run_dic[\"pi\"] = np.copy(pi_new[:]).tolist()\n",
    "                res_dic[counter] = run_dic\n",
    "                counter += 1 \n",
    "        except:\n",
    "              continue\n",
    "\n",
    "        with open(d+\"/fitted_params_all.json\", \"w\") as write_file:\n",
    "            json.dump(res_dic, write_file, cls=NumpyArrayEncoder)\n",
    "    #except:\n",
    "    #    continue    "
   ]
  },
  {
   "cell_type": "code",
   "execution_count": 40,
   "metadata": {},
   "outputs": [
    {
     "name": "stderr",
     "output_type": "stream",
     "text": [
      "100%|██████████| 50/50 [2:51:34<00:00, 205.90s/it]  \n"
     ]
    }
   ],
   "source": [
    "with open('/data/Peroxisome tracks/S44E/cell_list.txt') as f_kop:\n",
    "    S44A_tables = f_kop.read().splitlines()\n",
    "\n",
    "#print(kop_tables)\n",
    "for table in tqdm(S44A_tables[:50]):\n",
    "    #for d in tqdm(dirs[1:]):\n",
    "    d = table\n",
    "    res_dic = {}\n",
    "    counter = 0\n",
    "    #print(d)\n",
    "   # try:\n",
    "    #print(d)\n",
    "    if len(glob.glob(d + '/*.xls'))>0:\n",
    "        norm_data = pd.read_csv(d + '/' + d[d.rfind('/')+1:] + '.xls', sep='\\t')\n",
    "    elif len(glob.glob(d + '/*.xlsx'))>0: \n",
    "        norm_data = pd.read_csv(d + '/' + d[d.rfind('/')+1:] + '.xlsx', sep='\\t')\n",
    "    else:\n",
    "        norm_data = pd.read_csv(d + '/' + d[d.rfind('/')+1:] + '.csv', sep=',')\n",
    "    #                        '/Track_Data_Elongated_Truncated.csv', sep=',')\n",
    "    #print(norm_data.head())\n",
    "    for track in np.unique(norm_data['TRACK_ID'])[:]:\n",
    "        T = np.array([[0.8, 0.2],[0.3, 0.7]]) # assuming that Brownian motion is dominating\n",
    "        pi = np.array([0.95, 0.05]) # The prior probability of being in a s_1 and s_2 respectively\n",
    "        mu_l = np.array([-3.11, -2.32])\n",
    "        sigma_l = np.array([0.75, 0.75])\n",
    "        sigma_alpha_2 = 0.45\n",
    "        try:\n",
    "            #run_dic = {\"track_id\" : track}\n",
    "            track0 = norm_data.loc[norm_data['TRACK_ID']==track]\n",
    "            X = np.array([track0['POSITION_X'], track0['POSITION_Y']]).T\n",
    "            l, alpha = convert_to_planar(X)\n",
    "            #print(l.shape)\n",
    "            #print(alpha.shape)\n",
    "            #prin\n",
    "            o = np.array([l, alpha]).T\n",
    "            o_log = np.copy(o[:])\n",
    "            if o_log.shape[0]>9:\n",
    "                o_log[:,0] = np.log(o[:,0])\n",
    "                run_dic = {\"track_id\" : str(track)}\n",
    "                mu_l_new, sigma_l_new, sigma_alpha2_new, T_new, pi_new = Baum_Welch(o_log[:], T, pi, mu_l, sigma_l, sigma_alpha_2, fit_mu=True, fit_sigma=True)\n",
    "                converged = False\n",
    "                iters = 0\n",
    "                while not converged and iters < 1000:\n",
    "                    iters += 1\n",
    "                    mu_l_old = np.copy(mu_l_new)\n",
    "                    sigma_l_old = np.copy(sigma_l_new)\n",
    "                    pi_old = np.copy(pi_new)\n",
    "                    T_old = np.copy(T_new)\n",
    "                    mu_l_new, sigma_l_new, sigma_alpha2_new, T_new, pi_new = Baum_Welch(o_log[:], T_new, pi_new, mu_l_new, sigma_l_new, sigma_alpha2_new, fit_mu=True, fit_sigma=True)\n",
    "                    diff_m = mu_l_new - mu_l_old\n",
    "                    diff_s = sigma_l_new - sigma_l_old\n",
    "                    diff_p = pi_old - pi_new\n",
    "                    diff_T = T_old - T_new\n",
    "                    d_vector = [np.sqrt(diff_m.dot(diff_m)), \n",
    "                                np.sqrt(diff_s.dot(diff_s)), \n",
    "                                np.sqrt(diff_p.dot(diff_p)), \n",
    "                                np.linalg.norm(diff_T)]\n",
    "                    #print(np.max(d_vector))\n",
    "                    if np.max(d_vector) < 0.001:\n",
    "                        converged = True\n",
    "\n",
    "                run_dic[\"mu_l\"] = np.copy(mu_l_new[:]).tolist()\n",
    "                run_dic[\"sigma_l\"] = np.copy(sigma_l_new[:]).tolist()\n",
    "                run_dic[\"sigma_alpha_2\"] = np.copy(sigma_alpha2_new)\n",
    "                run_dic[\"T\"] = np.copy(T_new[:]).tolist()\n",
    "                run_dic[\"pi\"] = np.copy(pi_new[:]).tolist()\n",
    "                res_dic[counter] = run_dic\n",
    "                counter += 1 \n",
    "        except:\n",
    "              continue\n",
    "\n",
    "        with open(d+\"/fitted_params_all.json\", \"w\") as write_file:\n",
    "            json.dump(res_dic, write_file, cls=NumpyArrayEncoder)\n",
    "    #except:\n",
    "    #    continue    "
   ]
  },
  {
   "cell_type": "code",
   "execution_count": 41,
   "metadata": {},
   "outputs": [
    {
     "name": "stderr",
     "output_type": "stream",
     "text": [
      "100%|██████████| 50/50 [45:01<00:00, 54.02s/it]   \n"
     ]
    }
   ],
   "source": [
    "with open('/data/Peroxisome tracks/KO PEX5/cell_list.txt') as f_kop:\n",
    "    S44A_tables = f_kop.read().splitlines()\n",
    "\n",
    "#print(kop_tables)\n",
    "for table in tqdm(S44A_tables[:50]):\n",
    "    #for d in tqdm(dirs[1:]):\n",
    "    d = table\n",
    "    res_dic = {}\n",
    "    counter = 0\n",
    "    #print(d)\n",
    "    # try:\n",
    "    #print(d)\n",
    "    if len(glob.glob(d + '/*.xls'))>0:\n",
    "        norm_data = pd.read_csv(d + '/' + d[d.rfind('/')+1:] + '.xls', sep='\\t')\n",
    "    elif len(glob.glob(d + '/*.xlsx'))>0: \n",
    "        norm_data = pd.read_csv(d + '/' + d[d.rfind('/')+1:] + '.xlsx', sep='\\t')\n",
    "    else:\n",
    "        norm_data = pd.read_csv(d + '/' + d[d.rfind('/')+1:] + '.csv', sep=',')\n",
    "    #                        '/Track_Data_Elongated_Truncated.csv', sep=',')\n",
    "    #print(norm_data.head())\n",
    "    for track in np.unique(norm_data['TRACK_ID'])[:]:\n",
    "        T = np.array([[0.8, 0.2],[0.3, 0.7]]) # assuming that Brownian motion is dominating\n",
    "        pi = np.array([0.95, 0.05]) # The prior probability of being in a s_1 and s_2 respectively\n",
    "        mu_l = np.array([-3.11, -2.32])\n",
    "        sigma_l = np.array([0.75, 0.75])\n",
    "        sigma_alpha_2 = 0.45\n",
    "        try:\n",
    "            #run_dic = {\"track_id\" : track}\n",
    "            track0 = norm_data.loc[norm_data['TRACK_ID']==track]\n",
    "            X = np.array([track0['POSITION_X'], track0['POSITION_Y']]).T\n",
    "            l, alpha = convert_to_planar(X)\n",
    "            #print(l.shape)\n",
    "            #print(alpha.shape)\n",
    "            #prin\n",
    "            o = np.array([l, alpha]).T\n",
    "            o_log = np.copy(o[:])\n",
    "            if o_log.shape[0]>49:\n",
    "                o_log[:,0] = np.log(o[:,0])\n",
    "                run_dic = {\"track_id\" : str(track)}\n",
    "                mu_l_new, sigma_l_new, sigma_alpha2_new, T_new, pi_new = Baum_Welch(o_log[:], T, pi, mu_l, sigma_l, sigma_alpha_2, fit_mu=True, fit_sigma=True)\n",
    "                converged = False\n",
    "                iters = 0\n",
    "                while not converged and iters < 1000:\n",
    "                    iters += 1\n",
    "                    mu_l_old = np.copy(mu_l_new)\n",
    "                    sigma_l_old = np.copy(sigma_l_new)\n",
    "                    pi_old = np.copy(pi_new)\n",
    "                    T_old = np.copy(T_new)\n",
    "                    mu_l_new, sigma_l_new, sigma_alpha2_new, T_new, pi_new = Baum_Welch(o_log[:], T_new, pi_new, mu_l_new, sigma_l_new, sigma_alpha2_new, fit_mu=True, fit_sigma=True)\n",
    "                    diff_m = mu_l_new - mu_l_old\n",
    "                    diff_s = sigma_l_new - sigma_l_old\n",
    "                    diff_p = pi_old - pi_new\n",
    "                    diff_T = T_old - T_new\n",
    "                    d_vector = [np.sqrt(diff_m.dot(diff_m)), \n",
    "                                np.sqrt(diff_s.dot(diff_s)), \n",
    "                                np.sqrt(diff_p.dot(diff_p)), \n",
    "                                np.linalg.norm(diff_T)]\n",
    "                    #print(np.max(d_vector))\n",
    "                    if np.max(d_vector) < 0.001:\n",
    "                        converged = True\n",
    "\n",
    "                run_dic[\"mu_l\"] = np.copy(mu_l_new[:]).tolist()\n",
    "                run_dic[\"sigma_l\"] = np.copy(sigma_l_new[:]).tolist()\n",
    "                run_dic[\"sigma_alpha_2\"] = np.copy(sigma_alpha2_new)\n",
    "                run_dic[\"T\"] = np.copy(T_new[:]).tolist()\n",
    "                run_dic[\"pi\"] = np.copy(pi_new[:]).tolist()\n",
    "                res_dic[counter] = run_dic\n",
    "                counter += 1 \n",
    "        except:\n",
    "              continue\n",
    "\n",
    "        with open(d+\"/fitted_params_all.json\", \"w\") as write_file:\n",
    "            json.dump(res_dic, write_file, cls=NumpyArrayEncoder)\n",
    "    #except:\n",
    "    #    continue    "
   ]
  },
  {
   "cell_type": "code",
   "execution_count": 262,
   "metadata": {
    "collapsed": true,
    "jupyter": {
     "outputs_hidden": true
    }
   },
   "outputs": [
    {
     "name": "stdout",
     "output_type": "stream",
     "text": [
      "27\n",
      "[0.86066546 0.13933454]\n",
      "[-3.15402748 -1.94613138]\n",
      "[0.74234052 0.46378546]\n",
      "[[0.97589017 0.02410983]\n",
      " [0.3013096  0.6986904 ]]\n"
     ]
    }
   ],
   "source": [
    "\n",
    "N = 0\n",
    "pi_tot = np.zeros(2)\n",
    "T_tot = np.zeros((2,2))\n",
    "mu_tot = np.zeros(2)\n",
    "sigma_tot = np.zeros(2)\n",
    "for key in res_dic_norm.keys():\n",
    "    if not np.isnan(res_dic_norm[key]['pi']).any():\n",
    "        if res_dic_norm[key]['T'][1,1]>0.5:\n",
    "            N += 1\n",
    "            pi_tot += res_dic_norm[key]['pi']\n",
    "            mu_tot += res_dic_norm[key]['mu_l']\n",
    "            sigma_tot += res_dic_norm[key]['sigma_l']\n",
    "            T_tot[0] += res_dic_norm[key]['pi'][0]*res_dic_norm[key]['T'][0]\n",
    "            T_tot[1] += res_dic_norm[key]['pi'][1]*res_dic_norm[key]['T'][1]\n",
    "            #T_tot += res_dic_norm[key]['T']\n",
    "    #\n",
    "    #    print(res_dic[key])\n",
    "T_tot[0] = T_tot[0]/np.sum(T_tot[0])\n",
    "T_tot[1] = T_tot[1]/np.sum(T_tot[1])\n",
    "\n",
    "print(N)\n",
    "print(pi_tot/N)\n",
    "print(mu_tot/N)\n",
    "print(sigma_tot/N)\n",
    "print(T_tot)"
   ]
  },
  {
   "cell_type": "code",
   "execution_count": 263,
   "metadata": {
    "collapsed": true,
    "jupyter": {
     "outputs_hidden": true
    }
   },
   "outputs": [
    {
     "name": "stdout",
     "output_type": "stream",
     "text": [
      "5\n",
      "[0.89959474 0.10040526]\n",
      "[-3.01552113 -2.58535408]\n",
      "[0.687168   0.51106688]\n",
      "[[0.98415671 0.01584329]\n",
      " [0.46099823 0.53900177]]\n"
     ]
    }
   ],
   "source": [
    "N = 0\n",
    "pi_tot = np.zeros(2)\n",
    "T_tot = np.zeros((2,2))\n",
    "mu_tot = np.zeros(2)\n",
    "sigma_tot = np.zeros(2)\n",
    "for key in res_dic_noc.keys():\n",
    "    #if not np.isnan(res_dic_noc[key]['pi']).any():\n",
    "    if res_dic_noc[key]['T'][1,1]>0.5:\n",
    "        N += 1\n",
    "        pi_tot += res_dic_noc[key]['pi']\n",
    "        mu_tot += res_dic_noc[key]['mu_l']\n",
    "        sigma_tot += res_dic_norm[key]['sigma_l']\n",
    "        T_tot[0] += res_dic_noc[key]['pi'][0]*res_dic_noc[key]['T'][0]\n",
    "        T_tot[1] += res_dic_noc[key]['pi'][1]*res_dic_noc[key]['T'][1]\n",
    "        #T_tot += res_dic_noc[key]['T']\n",
    "    #\n",
    "    #    print(res_dic[key])\n",
    "T_tot[0] = T_tot[0]/np.sum(T_tot[0])\n",
    "T_tot[1] = T_tot[1]/np.sum(T_tot[1])\n",
    "\n",
    "print(N)\n",
    "print(pi_tot/N)\n",
    "print(mu_tot/N)\n",
    "print(sigma_tot/N)\n",
    "print(T_tot)"
   ]
  },
  {
   "cell_type": "code",
   "execution_count": 47,
   "metadata": {},
   "outputs": [
    {
     "data": {
      "image/png": "[encoded data removed]",
      "text/plain": [
       "<Figure size 432x288 with 1 Axes>"
      ]
     },
     "metadata": {
      "needs_background": "light"
     },
     "output_type": "display_data"
    }
   ],
   "source": [
    "angle_x = np.linspace(-np.pi,np.pi, 100)\n",
    "\n",
    "p_alpha_2_fitted = norm_pdf(angle_x, 0.0, 0.55)\n",
    "p_alpha_2_uniform = 1/(2*np.pi)*np.ones(100)#norm_pdf(angle_x, 0.0, sigma_alpha2_0)\n",
    "fig, ax = plt.subplots(subplot_kw={'projection': 'polar'})\n",
    "#ax.plot(angle_x, 1/(2*np.pi)*np.ones(angle_x.shape))\n",
    "ax.plot(angle_x, p_alpha_2_fitted)\n",
    "ax.plot(angle_x, p_alpha_2_uniform)\n",
    "plt.savefig('/home/svensson/VMshared/HMM stuff/sigma_alpha_025.png')"
   ]
  },
  {
   "cell_type": "code",
   "execution_count": 54,
   "metadata": {
    "collapsed": true,
    "jupyter": {
     "outputs_hidden": true
    }
   },
   "outputs": [
    {
     "name": "stdout",
     "output_type": "stream",
     "text": [
      "45\n",
      "{'track_id': '13.0', 'mu_l': array([-4.13217756, -2.26285993]), 'sigma_l': array([0.68689514, 0.39559011]), 'sigma_alpha_2': array(0.25), 'T': array([[0.98814885, 0.01185115],\n",
      "       [0.11477099, 0.88522901]]), 'pi': array([0.86143201, 0.13856799])}\n",
      "106\n",
      "{'track_id': '41.1', 'mu_l': array([-4.46024834, -3.29090607]), 'sigma_l': array([0.75526512, 0.39010622]), 'sigma_alpha_2': array(0.25), 'T': array([[0.97581629, 0.02418371],\n",
      "       [0.47375529, 0.52624471]]), 'pi': array([0.91253093, 0.08746907])}\n",
      "161\n",
      "{'track_id': '65.0', 'mu_l': array([-2.64136053, -2.44844592]), 'sigma_l': array([0.58694771, 0.16342796]), 'sigma_alpha_2': array(0.25), 'T': array([[9.99999975e-01, 2.51219642e-08],\n",
      "       [4.98979335e-01, 5.01020665e-01]]), 'pi': array([0.95396323, 0.04603677])}\n",
      "397\n",
      "{'track_id': '204.0', 'mu_l': array([-2.94049119, -2.28972463]), 'sigma_l': array([0.6054994 , 0.07044559]), 'sigma_alpha_2': array(0.25), 'T': array([[0.98102384, 0.01897616],\n",
      "       [0.45694291, 0.54305709]]), 'pi': array([0.9472099, 0.0527901])}\n",
      "777\n",
      "{'track_id': '676.1', 'mu_l': array([-2.68192264, -1.46052213]), 'sigma_l': array([0.90531922, 0.30099899]), 'sigma_alpha_2': array(0.25), 'T': array([[0.98668644, 0.01331356],\n",
      "       [0.35051063, 0.64948937]]), 'pi': array([0.85348742, 0.14651258])}\n",
      "779\n",
      "{'track_id': '676.3', 'mu_l': array([-2.87074401, -1.34496347]), 'sigma_l': array([0.86923935, 0.47569906]), 'sigma_alpha_2': array(0.25), 'T': array([[0.97098965, 0.02901035],\n",
      "       [0.29592307, 0.70407693]]), 'pi': array([0.84710872, 0.15289128])}\n",
      "780\n",
      "{'track_id': '676.4', 'mu_l': array([-3.48349715, -1.71308523]), 'sigma_l': array([0.72638192, 0.53167169]), 'sigma_alpha_2': array(0.25), 'T': array([[0.98270583, 0.01729417],\n",
      "       [0.3404753 , 0.6595247 ]]), 'pi': array([0.87060691, 0.12939309])}\n",
      "1041\n",
      "{'track_id': '1723.1', 'mu_l': array([-3.25040947, -2.36721023]), 'sigma_l': array([0.55419046, 0.2025311 ]), 'sigma_alpha_2': array(0.25), 'T': array([[0.99008904, 0.00991096],\n",
      "       [0.40275618, 0.59724382]]), 'pi': array([0.95127913, 0.04872087])}\n",
      "1166\n",
      "{'track_id': '2185.0', 'mu_l': array([-2.84829743, -2.30475833]), 'sigma_l': array([0.84830417, 0.59429484]), 'sigma_alpha_2': array(0.25), 'T': array([[0.99304044, 0.00695956],\n",
      "       [0.48179076, 0.51820924]]), 'pi': array([0.8310923, 0.1689077])}\n",
      "1255\n",
      "{'track_id': '2649.0', 'mu_l': array([-3.08269967, -1.67044271]), 'sigma_l': array([0.63321052, 0.41665066]), 'sigma_alpha_2': array(0.25), 'T': array([[9.99949153e-01, 5.08467882e-05],\n",
      "       [1.88380371e-01, 8.11619629e-01]]), 'pi': array([0.80780698, 0.19219302])}\n",
      "1275\n",
      "{'track_id': '2737.0', 'mu_l': array([-3.10411012, -1.89259194]), 'sigma_l': array([0.6896682, 0.4013476]), 'sigma_alpha_2': array(0.25), 'T': array([[0.95592544, 0.04407456],\n",
      "       [0.29647259, 0.70352741]]), 'pi': array([0.7571981, 0.2428019])}\n",
      "1381\n",
      "{'track_id': '3170.0', 'mu_l': array([-3.30230272, -1.927561  ]), 'sigma_l': array([0.69985318, 0.2193768 ]), 'sigma_alpha_2': array(0.25), 'T': array([[0.98231178, 0.01768822],\n",
      "       [0.36445787, 0.63554213]]), 'pi': array([0.92318219, 0.07681781])}\n"
     ]
    },
    {
     "ename": "ZeroDivisionError",
     "evalue": "division by zero",
     "output_type": "error",
     "traceback": [
      "\u001b[0;31m---------------------------------------------------------------------------\u001b[0m",
      "\u001b[0;31mZeroDivisionError\u001b[0m                         Traceback (most recent call last)",
      "\u001b[0;32m<ipython-input-54-537c311044e9>\u001b[0m in \u001b[0;36m<module>\u001b[0;34m\u001b[0m\n\u001b[1;32m     13\u001b[0m             \u001b[0ml\u001b[0m\u001b[0;34m,\u001b[0m \u001b[0malpha\u001b[0m \u001b[0;34m=\u001b[0m \u001b[0mconvert_to_planar\u001b[0m\u001b[0;34m(\u001b[0m\u001b[0mX\u001b[0m\u001b[0;34m)\u001b[0m\u001b[0;34m\u001b[0m\u001b[0;34m\u001b[0m\u001b[0m\n\u001b[1;32m     14\u001b[0m             \u001b[0mo\u001b[0m \u001b[0;34m=\u001b[0m \u001b[0mnp\u001b[0m\u001b[0;34m.\u001b[0m\u001b[0marray\u001b[0m\u001b[0;34m(\u001b[0m\u001b[0;34m[\u001b[0m\u001b[0ml\u001b[0m\u001b[0;34m[\u001b[0m\u001b[0;36m1\u001b[0m\u001b[0;34m:\u001b[0m\u001b[0;34m-\u001b[0m\u001b[0;36m1\u001b[0m\u001b[0;34m]\u001b[0m\u001b[0;34m,\u001b[0m \u001b[0malpha\u001b[0m\u001b[0;34m]\u001b[0m\u001b[0;34m)\u001b[0m\u001b[0;34m.\u001b[0m\u001b[0mT\u001b[0m\u001b[0;34m\u001b[0m\u001b[0;34m\u001b[0m\u001b[0m\n\u001b[0;32m---> 15\u001b[0;31m             \u001b[0ms_est\u001b[0m\u001b[0;34m,\u001b[0m \u001b[0mD\u001b[0m\u001b[0;34m,\u001b[0m \u001b[0mE\u001b[0m \u001b[0;34m=\u001b[0m \u001b[0mviterbi\u001b[0m\u001b[0;34m(\u001b[0m\u001b[0mres_dic_norm\u001b[0m\u001b[0;34m[\u001b[0m\u001b[0mkey\u001b[0m\u001b[0;34m]\u001b[0m\u001b[0;34m[\u001b[0m\u001b[0;34m'T'\u001b[0m\u001b[0;34m]\u001b[0m\u001b[0;34m,\u001b[0m \u001b[0mres_dic_norm\u001b[0m\u001b[0;34m[\u001b[0m\u001b[0mkey\u001b[0m\u001b[0;34m]\u001b[0m\u001b[0;34m[\u001b[0m\u001b[0;34m'pi'\u001b[0m\u001b[0;34m]\u001b[0m\u001b[0;34m,\u001b[0m \u001b[0mres_dic_norm\u001b[0m\u001b[0;34m[\u001b[0m\u001b[0mkey\u001b[0m\u001b[0;34m]\u001b[0m\u001b[0;34m[\u001b[0m\u001b[0;34m'mu_l'\u001b[0m\u001b[0;34m]\u001b[0m\u001b[0;34m,\u001b[0m \u001b[0mres_dic_norm\u001b[0m\u001b[0;34m[\u001b[0m\u001b[0mkey\u001b[0m\u001b[0;34m]\u001b[0m\u001b[0;34m[\u001b[0m\u001b[0;34m'sigma_l'\u001b[0m\u001b[0;34m]\u001b[0m\u001b[0;34m,\u001b[0m \u001b[0mres_dic_norm\u001b[0m\u001b[0;34m[\u001b[0m\u001b[0mkey\u001b[0m\u001b[0;34m]\u001b[0m\u001b[0;34m[\u001b[0m\u001b[0;34m'sigma_alpha_2'\u001b[0m\u001b[0;34m]\u001b[0m\u001b[0;34m,\u001b[0m \u001b[0mo\u001b[0m\u001b[0;34m)\u001b[0m\u001b[0;34m\u001b[0m\u001b[0;34m\u001b[0m\u001b[0m\n\u001b[0m\u001b[1;32m     16\u001b[0m             \u001b[0ms_1_idx\u001b[0m \u001b[0;34m=\u001b[0m \u001b[0;34m(\u001b[0m\u001b[0ms_est\u001b[0m\u001b[0;34m==\u001b[0m\u001b[0;36m0\u001b[0m\u001b[0;34m)\u001b[0m\u001b[0;34m\u001b[0m\u001b[0;34m\u001b[0m\u001b[0m\n\u001b[1;32m     17\u001b[0m             \u001b[0ms_2_idx\u001b[0m \u001b[0;34m=\u001b[0m \u001b[0;34m(\u001b[0m\u001b[0ms_est\u001b[0m\u001b[0;34m==\u001b[0m\u001b[0;36m1\u001b[0m\u001b[0;34m)\u001b[0m\u001b[0;34m\u001b[0m\u001b[0;34m\u001b[0m\u001b[0m\n",
      "\u001b[0;31mZeroDivisionError\u001b[0m: division by zero"
     ]
    }
   ],
   "source": [
    "N_straight = 0\n",
    "for key in res_dic_norm.keys():\n",
    "    if not np.isnan(res_dic_norm[key]['pi']).any():\n",
    "        if res_dic_norm[key]['T'][1,1]>0.5:\n",
    "            N_straight += 1\n",
    "            print(key)\n",
    "            print(res_dic_norm[key])\n",
    "            try:\n",
    "                track0 = norm_data.loc[norm_data['TRACK_ID']==int(res_dic_norm[key]['track_id'][:res_dic_norm[key]['track_id'].rfind('.')])]\n",
    "            except:\n",
    "                track0 = norm_data.loc[norm_data['TRACK_ID']== res_dic_norm[key]['track_id']]\n",
    "            X = np.array([track0['POSITION_X'], track0['POSITION_Y']]).T\n",
    "            l, alpha = convert_to_planar(X)\n",
    "            o = np.array([l[1:-1], alpha]).T\n",
    "            s_est, D, E = viterbi(res_dic_norm[key]['T'], res_dic_norm[key]['pi'], res_dic_norm[key]['mu_l'], res_dic_norm[key]['sigma_l'], res_dic_norm[key]['sigma_alpha_2'], o)\n",
    "            s_1_idx = (s_est==0)\n",
    "            s_2_idx = (s_est==1)\n",
    "            #print(X.shape)\n",
    "            for ii in range(X.shape[0]-5):\n",
    "                if s_est[ii+1] == 0:\n",
    "                    plt.plot(X[ii+1:ii+3,0], X[ii+1:ii+3,1], c='blue')\n",
    "                else:\n",
    "                    plt.plot(X[ii+1:ii+3,0], X[ii+1:ii+3,1], c='red')\n",
    "            plt.savefig('norm_Triggered_2.3cell1_track%s.png'%res_dic_norm[key]['track_id'])\n",
    "            plt.close('all')\n",
    "print(N_straight)"
   ]
  },
  {
   "cell_type": "code",
   "execution_count": 21,
   "metadata": {
    "collapsed": true,
    "jupyter": {
     "outputs_hidden": true
    }
   },
   "outputs": [
    {
     "ename": "NameError",
     "evalue": "name 'norm_data' is not defined",
     "output_type": "error",
     "traceback": [
      "\u001b[0;31m---------------------------------------------------------------------------\u001b[0m",
      "\u001b[0;31mNameError\u001b[0m                                 Traceback (most recent call last)",
      "\u001b[0;32m<ipython-input-21-be2e5ba5894b>\u001b[0m in \u001b[0;36m<module>\u001b[0;34m\u001b[0m\n\u001b[0;32m----> 1\u001b[0;31m \u001b[0mtrack0\u001b[0m \u001b[0;34m=\u001b[0m \u001b[0mnorm_data\u001b[0m\u001b[0;34m.\u001b[0m\u001b[0mloc\u001b[0m\u001b[0;34m[\u001b[0m\u001b[0mnorm_data\u001b[0m\u001b[0;34m[\u001b[0m\u001b[0;34m'TRACK_ID'\u001b[0m\u001b[0;34m]\u001b[0m\u001b[0;34m==\u001b[0m\u001b[0;36m2366\u001b[0m\u001b[0;34m]\u001b[0m\u001b[0;34m\u001b[0m\u001b[0;34m\u001b[0m\u001b[0m\n\u001b[0m\u001b[1;32m      2\u001b[0m \u001b[0mX\u001b[0m \u001b[0;34m=\u001b[0m \u001b[0mnp\u001b[0m\u001b[0;34m.\u001b[0m\u001b[0marray\u001b[0m\u001b[0;34m(\u001b[0m\u001b[0;34m[\u001b[0m\u001b[0mtrack0\u001b[0m\u001b[0;34m[\u001b[0m\u001b[0;34m'POSITION_X'\u001b[0m\u001b[0;34m]\u001b[0m\u001b[0;34m,\u001b[0m \u001b[0mtrack0\u001b[0m\u001b[0;34m[\u001b[0m\u001b[0;34m'POSITION_Y'\u001b[0m\u001b[0;34m]\u001b[0m\u001b[0;34m]\u001b[0m\u001b[0;34m)\u001b[0m\u001b[0;34m.\u001b[0m\u001b[0mT\u001b[0m\u001b[0;34m\u001b[0m\u001b[0;34m\u001b[0m\u001b[0m\n\u001b[1;32m      3\u001b[0m \u001b[0ml\u001b[0m\u001b[0;34m,\u001b[0m \u001b[0malpha\u001b[0m \u001b[0;34m=\u001b[0m \u001b[0mconvert_to_planar\u001b[0m\u001b[0;34m(\u001b[0m\u001b[0mX\u001b[0m\u001b[0;34m)\u001b[0m\u001b[0;34m\u001b[0m\u001b[0;34m\u001b[0m\u001b[0m\n\u001b[1;32m      4\u001b[0m \u001b[0mo\u001b[0m \u001b[0;34m=\u001b[0m \u001b[0mnp\u001b[0m\u001b[0;34m.\u001b[0m\u001b[0marray\u001b[0m\u001b[0;34m(\u001b[0m\u001b[0;34m[\u001b[0m\u001b[0ml\u001b[0m\u001b[0;34m[\u001b[0m\u001b[0;36m1\u001b[0m\u001b[0;34m:\u001b[0m\u001b[0;34m-\u001b[0m\u001b[0;36m1\u001b[0m\u001b[0;34m]\u001b[0m\u001b[0;34m,\u001b[0m \u001b[0malpha\u001b[0m\u001b[0;34m]\u001b[0m\u001b[0;34m)\u001b[0m\u001b[0;34m.\u001b[0m\u001b[0mT\u001b[0m\u001b[0;34m\u001b[0m\u001b[0;34m\u001b[0m\u001b[0m\n\u001b[1;32m      5\u001b[0m \u001b[0ms_est\u001b[0m\u001b[0;34m,\u001b[0m \u001b[0mD\u001b[0m\u001b[0;34m,\u001b[0m \u001b[0mE\u001b[0m \u001b[0;34m=\u001b[0m \u001b[0mviterbi\u001b[0m\u001b[0;34m(\u001b[0m\u001b[0mres_dic_norm\u001b[0m\u001b[0;34m[\u001b[0m\u001b[0;36m1538\u001b[0m\u001b[0;34m]\u001b[0m\u001b[0;34m[\u001b[0m\u001b[0;34m'T'\u001b[0m\u001b[0;34m]\u001b[0m\u001b[0;34m,\u001b[0m \u001b[0mres_dic_norm\u001b[0m\u001b[0;34m[\u001b[0m\u001b[0;36m1538\u001b[0m\u001b[0;34m]\u001b[0m\u001b[0;34m[\u001b[0m\u001b[0;34m'pi'\u001b[0m\u001b[0;34m]\u001b[0m\u001b[0;34m,\u001b[0m \u001b[0mres_dic_norm\u001b[0m\u001b[0;34m[\u001b[0m\u001b[0;36m1538\u001b[0m\u001b[0;34m]\u001b[0m\u001b[0;34m[\u001b[0m\u001b[0;34m'mu_l'\u001b[0m\u001b[0;34m]\u001b[0m\u001b[0;34m,\u001b[0m \u001b[0mres_dic_norm\u001b[0m\u001b[0;34m[\u001b[0m\u001b[0;36m1538\u001b[0m\u001b[0;34m]\u001b[0m\u001b[0;34m[\u001b[0m\u001b[0;34m'sigma_l'\u001b[0m\u001b[0;34m]\u001b[0m\u001b[0;34m,\u001b[0m \u001b[0mres_dic_norm\u001b[0m\u001b[0;34m[\u001b[0m\u001b[0;36m1538\u001b[0m\u001b[0;34m]\u001b[0m\u001b[0;34m[\u001b[0m\u001b[0;34m'sigma_alpha_2'\u001b[0m\u001b[0;34m]\u001b[0m\u001b[0;34m,\u001b[0m \u001b[0mo\u001b[0m\u001b[0;34m)\u001b[0m\u001b[0;34m\u001b[0m\u001b[0;34m\u001b[0m\u001b[0m\n",
      "\u001b[0;31mNameError\u001b[0m: name 'norm_data' is not defined"
     ]
    }
   ],
   "source": [
    "track0 = norm_data.loc[norm_data['TRACK_ID']==2366]\n",
    "X = np.array([track0['POSITION_X'], track0['POSITION_Y']]).T\n",
    "l, alpha = convert_to_planar(X)\n",
    "o = np.array([l[1:-1], alpha]).T\n",
    "s_est, D, E = viterbi(res_dic_norm[1538]['T'], res_dic_norm[1538]['pi'], res_dic_norm[1538]['mu_l'], res_dic_norm[1538]['sigma_l'], res_dic_norm[1538]['sigma_alpha_2'], o)\n"
   ]
  },
  {
   "cell_type": "code",
   "execution_count": 355,
   "metadata": {
    "collapsed": true,
    "jupyter": {
     "outputs_hidden": true
    }
   },
   "outputs": [
    {
     "name": "stdout",
     "output_type": "stream",
     "text": [
      "(100, 2)\n"
     ]
    },
    {
     "data": {
      "image/png": "[encoded data removed]",
      "text/plain": [
       "<Figure size 432x288 with 1 Axes>"
      ]
     },
     "metadata": {
      "needs_background": "light"
     },
     "output_type": "display_data"
    }
   ],
   "source": [
    "s_1_idx = (s_est==0)\n",
    "s_2_idx = (s_est==1)\n",
    "print(X.shape)\n",
    "for ii in range(X.shape[0]-5):\n",
    "    if s_est[ii+1] == 0:\n",
    "        plt.plot(X[ii+1:ii+3,0], X[ii+1:ii+3,1], c='blue')\n",
    "    else:\n",
    "        plt.plot(X[ii+1:ii+3,0], X[ii+1:ii+3,1], c='red')"
   ]
  },
  {
   "cell_type": "code",
   "execution_count": 654,
   "metadata": {
    "collapsed": true,
    "jupyter": {
     "outputs_hidden": true
    }
   },
   "outputs": [
    {
     "name": "stdout",
     "output_type": "stream",
     "text": [
      "175\n",
      "{'track_id': '99.0', 'mu_l': array([-3.7394956 , -3.08975579]), 'sigma_l': array([0.76915309, 0.30573864]), 'sigma_alpha_2': array(0.45), 'T': array([[0.95516974, 0.04483026],\n",
      "       [0.49453692, 0.50546308]]), 'pi': array([0.77944938, 0.22055062])}\n",
      "2067\n",
      "{'track_id': '10739.0', 'mu_l': array([-2.59717831, -1.8968118 ]), 'sigma_l': array([0.62325179, 0.1189931 ]), 'sigma_alpha_2': array(0.45), 'T': array([[0.98109757, 0.01890243],\n",
      "       [0.46355266, 0.53644734]]), 'pi': array([0.87186657, 0.12813343])}\n"
     ]
    }
   ],
   "source": [
    "for key in res_dic_noc.keys():\n",
    "    if not np.isnan(res_dic_noc[key]['pi']).any():\n",
    "        if res_dic_noc[key]['T'][1,1]>0.5:\n",
    "            print(key)\n",
    "            print(res_dic_noc[key])\n",
    "            try:\n",
    "                track0 = noc_data.loc[noc_data['TRACK_ID']==int(res_dic_noc[key]['track_id'][:res_dic_noc[key]['track_id'].rfind('.')])]\n",
    "                X = np.array([track0['POSITION_X'], track0['POSITION_Y']]).T\n",
    "                l, alpha = convert_to_planar(X)\n",
    "                o = np.array([l[1:-1], alpha]).T\n",
    "                s_est, D, E = viterbi(res_dic_noc[key]['T'], res_dic_noc[key]['pi'], res_dic_noc[key]['mu_l'], res_dic_noc[key]['sigma_l'], res_dic_noc[key]['sigma_alpha_2'], o)\n",
    "                s_1_idx = (s_est==0)\n",
    "                s_2_idx = (s_est==1)\n",
    "                #print(X.shape)\n",
    "                for ii in range(X.shape[0]-5):\n",
    "                    if s_est[ii+1] == 0:\n",
    "                        plt.plot(X[ii+1:ii+3,0], X[ii+1:ii+3,1], c='blue')\n",
    "                    else:\n",
    "                        plt.plot(X[ii+1:ii+3,0], X[ii+1:ii+3,1], c='red')\n",
    "            except:\n",
    "                continue\n",
    "            plt.savefig('noc_Triggered_1.2cell2_track%s.png'%res_dic_noc[key]['track_id'])\n",
    "            plt.close('all')\n",
    "#plt.savefig('noc_tracks_s2_Triggered_2_4.png')\n",
    "            #plt.close('all')"
   ]
  },
  {
   "cell_type": "code",
   "execution_count": 339,
   "metadata": {
    "collapsed": true,
    "jupyter": {
     "outputs_hidden": true
    }
   },
   "outputs": [],
   "source": [
    "track0 = noc_data.loc[noc_data['TRACK_ID']==12100]\n",
    "X = np.array([track0['POSITION_X'], track0['POSITION_Y']]).T\n",
    "l, alpha = convert_to_planar(X)\n",
    "o = np.array([l[1:-1], alpha]).T\n",
    "s_est, D, E = viterbi(res_dic_noc[3289]['T'], res_dic_noc[3289]['pi'], res_dic_noc[3289]['mu_l'], res_dic_noc[3289]['sigma_l'], res_dic_noc[3289]['sigma_alpha_2'], o)\n"
   ]
  },
  {
   "cell_type": "code",
   "execution_count": 340,
   "metadata": {
    "collapsed": true,
    "jupyter": {
     "outputs_hidden": true
    }
   },
   "outputs": [
    {
     "name": "stdout",
     "output_type": "stream",
     "text": [
      "(100, 2)\n"
     ]
    },
    {
     "data": {
      "image/png": "[encoded data removed]",
      "text/plain": [
       "<Figure size 432x288 with 1 Axes>"
      ]
     },
     "metadata": {
      "needs_background": "light"
     },
     "output_type": "display_data"
    }
   ],
   "source": [
    "s_1_idx = (s_est==0)\n",
    "s_2_idx = (s_est==1)\n",
    "print(X.shape)\n",
    "for ii in range(X.shape[0]-5):\n",
    "    if s_est[ii+1] == 0:\n",
    "        plt.plot(X[ii+2:ii+4,0], X[ii:ii+2,1], c='blue')\n",
    "    else:\n",
    "        plt.plot(X[ii+2:ii+4,0], X[ii:ii+2,1], c='red')"
   ]
  },
  {
   "cell_type": "code",
   "execution_count": 263,
   "metadata": {
    "collapsed": true,
    "jupyter": {
     "outputs_hidden": true
    }
   },
   "outputs": [
    {
     "data": {
      "text/plain": [
       "array(0.2231802)"
      ]
     },
     "execution_count": 263,
     "metadata": {},
     "output_type": "execute_result"
    }
   ],
   "source": [
    "res_dic_norm[767]['sigma_alpha_2']"
   ]
  },
  {
   "cell_type": "code",
   "execution_count": 445,
   "metadata": {
    "collapsed": true,
    "jupyter": {
     "outputs_hidden": true
    }
   },
   "outputs": [
    {
     "data": {
      "image/png": "[encoded data removed]",
      "text/plain": [
       "<Figure size 432x288 with 1 Axes>"
      ]
     },
     "metadata": {
      "needs_background": "light"
     },
     "output_type": "display_data"
    }
   ],
   "source": [
    "angle_x = np.linspace(-np.pi,np.pi, 100)\n",
    "p_alpha_2_fitted = norm_pdf(angle_x, 0.0, res_dic_norm[33]['sigma_alpha_2'])\n",
    "#p_alpha_2_initial = norm_pdf(angle_x, 0.0, sigma_alpha_2)\n",
    "fig, ax = plt.subplots(subplot_kw={'projection': 'polar'})\n",
    "ax.plot(angle_x, 1/(2*np.pi)*np.ones(angle_x.shape))\n",
    "\n",
    "#ax.plot(angle_x, p_alpha_2_fitted)\n",
    "#ax.plot(angle_x, p_alpha_2_initial)\n",
    "plt.axis(ymax=0.5)\n",
    "plt.title(r'$p(\\alpha|s_1)$')\n",
    "plt.savefig('/home/svensson/VMshared/HMM stuff/p_alpha_1_ex.png')"
   ]
  },
  {
   "cell_type": "code",
   "execution_count": 451,
   "metadata": {
    "collapsed": true,
    "jupyter": {
     "outputs_hidden": true
    }
   },
   "outputs": [
    {
     "data": {
      "image/png": "[encoded data removed]",
      "text/plain": [
       "<Figure size 432x288 with 2 Axes>"
      ]
     },
     "metadata": {
      "needs_background": "light"
     },
     "output_type": "display_data"
    }
   ],
   "source": [
    "l_x = np.linspace(0,0.5,500)\n",
    "p_l_x_s1_fitted = lognorm_pdf(l_x, res_dic_norm[1082]['mu_l'][0], res_dic_norm[1082]['sigma_l'][0])\n",
    "p_l_x_s1_initial = lognorm_pdf(l_x, mu_l[0], sigma_l0[0])\n",
    "plt.subplot(2,1,1)\n",
    "plt.plot(l_x, p_l_x_s1_fitted, label='Fitted distribution')\n",
    "#plt.plot(l_x, p_l_x_s1_initial, label='Initial guess')\n",
    "plt.ylabel(r'$p(l|s_1)$')\n",
    "plt.legend()\n",
    "\n",
    "p_l_x_s2_fitted = lognorm_pdf(l_x, res_dic_norm[1082]['mu_l'][1], res_dic_norm[1082]['sigma_l'][1])\n",
    "p_l_x_s2_initial = lognorm_pdf(l_x, mu_l[1], sigma_l[1])\n",
    "plt.subplot(2,1,2)\n",
    "plt.plot(l_x, p_l_x_s2_fitted)\n",
    "#plt.plot(l_x, p_l_x_s2_initial)\n",
    "plt.ylabel(r'$p(l|s_2)$')\n",
    "plt.xlabel(r'l')\n",
    "plt.savefig('/home/svensson/VMshared/HMM stuff/p_l_ex.png')"
   ]
  },
  {
   "cell_type": "code",
   "execution_count": 349,
   "metadata": {
    "collapsed": true,
    "jupyter": {
     "outputs_hidden": true
    }
   },
   "outputs": [
    {
     "data": {
      "text/plain": [
       "([<matplotlib.axis.XTick at 0x7fda9a499ed0>,\n",
       "  <matplotlib.axis.XTick at 0x7fda9a499310>],\n",
       " [Text(1, 0, '$s_1$'), Text(2, 0, '$s_2$')])"
      ]
     },
     "execution_count": 349,
     "metadata": {},
     "output_type": "execute_result"
    },
    {
     "data": {
      "image/png": "[encoded data removed]",
      "text/plain": [
       "<Figure size 432x288 with 1 Axes>"
      ]
     },
     "metadata": {
      "needs_background": "light"
     },
     "output_type": "display_data"
    }
   ],
   "source": [
    "pos = np.array([1, 2])\n",
    "width = 0.2\n",
    "plt.bar(pos-width/2, pi, width)\n",
    "plt.bar(pos+width/2, pi_new, width)\n",
    "plt.ylabel(r'$\\pi$')\n",
    "plt.xticks([1,2], [r'$s_1$', r'$s_2$'])"
   ]
  },
  {
   "cell_type": "code",
   "execution_count": 350,
   "metadata": {
    "collapsed": true,
    "jupyter": {
     "outputs_hidden": true
    }
   },
   "outputs": [
    {
     "data": {
      "text/plain": [
       "([<matplotlib.axis.XTick at 0x7fda9ab378d0>,\n",
       "  <matplotlib.axis.XTick at 0x7fda9ab37f10>,\n",
       "  <matplotlib.axis.XTick at 0x7fda9ab37190>,\n",
       "  <matplotlib.axis.XTick at 0x7fda985d9690>],\n",
       " [Text(1, 0, '$s_1$->$s_1$'),\n",
       "  Text(2, 0, '$s_1$->$s_2$'),\n",
       "  Text(3, 0, '$s_2$->$s_1$'),\n",
       "  Text(4, 0, '$s_2$->$s_2$')])"
      ]
     },
     "execution_count": 350,
     "metadata": {},
     "output_type": "execute_result"
    },
    {
     "data": {
      "image/png": "[encoded data removed]",
      "text/plain": [
       "<Figure size 432x288 with 1 Axes>"
      ]
     },
     "metadata": {
      "needs_background": "light"
     },
     "output_type": "display_data"
    }
   ],
   "source": [
    "pos = np.array([1, 2, 3, 4])\n",
    "width = 0.2\n",
    "plt.bar(pos-width/2, T.flatten(), width)\n",
    "plt.bar(pos+width/2, T_new.flatten(), width)\n",
    "plt.ylabel(r'$T_{i,j}}$')\n",
    "plt.xticks([1,2,3,4], [r'$s_1$->$s_1$', r'$s_1$->$s_2$', r'$s_2$->$s_1$', r'$s_2$->$s_2$'])"
   ]
  },
  {
   "cell_type": "code",
   "execution_count": 213,
   "metadata": {
    "collapsed": true,
    "jupyter": {
     "outputs_hidden": true
    }
   },
   "outputs": [
    {
     "data": {
      "text/plain": [
       "[<matplotlib.lines.Line2D at 0x7fdaa05aab50>]"
      ]
     },
     "execution_count": 213,
     "metadata": {},
     "output_type": "execute_result"
    },
    {
     "data": {
      "image/png": "[encoded data removed]",
      "text/plain": [
       "<Figure size 432x288 with 1 Axes>"
      ]
     },
     "metadata": {
      "needs_background": "light"
     },
     "output_type": "display_data"
    }
   ],
   "source": [
    "plt.plot(track0['POSITION_X'].iloc[160:190], track0['POSITION_Y'].iloc[160:190], c='blue')"
   ]
  },
  {
   "cell_type": "code",
   "execution_count": 214,
   "metadata": {
    "collapsed": true,
    "jupyter": {
     "outputs_hidden": true
    }
   },
   "outputs": [
    {
     "name": "stdout",
     "output_type": "stream",
     "text": [
      "[[ 0.014 -0.02 ]\n",
      " [-0.02   0.028]\n",
      " [ 0.     0.004]\n",
      " [ 0.053  0.03 ]\n",
      " [-0.037  0.   ]\n",
      " [ 0.001  0.   ]\n",
      " [ 0.014 -0.005]\n",
      " [-0.013 -0.012]\n",
      " [-0.013  0.   ]\n",
      " [ 0.027 -0.027]\n",
      " [ 0.006  0.036]\n",
      " [ 0.052  0.   ]\n",
      " [ 0.022  0.008]\n",
      " [ 0.103 -0.049]\n",
      " [-0.027 -0.009]\n",
      " [ 0.003 -0.028]\n",
      " [-0.05  -0.013]\n",
      " [-0.002  0.007]\n",
      " [ 0.043  0.026]\n",
      " [ 0.038 -0.043]\n",
      " [-0.026  0.023]\n",
      " [ 0.039 -0.012]\n",
      " [-0.038  0.017]\n",
      " [ 0.077 -0.087]\n",
      " [ 0.1   -0.054]\n",
      " [ 0.018  0.039]\n",
      " [-0.046 -0.002]\n",
      " [ 0.034 -0.043]\n",
      " [-0.044 -0.033]]\n",
      "[-0.96007036  2.19104581  1.57079633  0.51507282  3.14159265  0.\n",
      " -0.34302394 -2.39617318  3.14159265 -0.78539816  1.40564765  0.\n",
      "  0.348771   -0.44404228 -2.8198421  -1.46406065 -2.8872246   1.84909599\n",
      "  0.54383246 -0.84704833  2.41734265 -0.29849893  2.7209293  -0.84629837\n",
      " -0.49513326  1.13838855 -3.09814176 -0.90175333 -2.49809154]\n",
      "[ 3.15111618 -0.62024949 -1.05572351  2.62651984 -3.14159265 -0.34302394\n",
      " -2.05314924  5.53776583 -3.92699082  2.19104581 -1.40564765  0.348771\n",
      " -0.79281328 -2.37579982  1.35578145 -1.42316394  4.73632058 -1.30526353\n",
      " -1.39088079  3.26439099 -2.71584158  3.01942824 -3.56722768  0.35116511\n",
      "  1.63352181 -4.23653031  2.19638843 -1.59633822]\n"
     ]
    }
   ],
   "source": [
    "X_test = np.array([track0['POSITION_X'].iloc[160:190], track0['POSITION_Y'].iloc[160:190]]).T\n",
    "X_diff = np.diff(X_test, axis=0)\n",
    "print(X_diff)\n",
    "gamma = np.arctan2((X_diff[:,1]),X_diff[:,0])\n",
    "print(gamma)\n",
    "alpha = np.diff(gamma)\n",
    "print(alpha)"
   ]
  },
  {
   "cell_type": "code",
   "execution_count": 527,
   "metadata": {},
   "outputs": [
    {
     "data": {
      "text/plain": [
       "[<matplotlib.lines.Line2D at 0x7fdbd8bb4bd0>]"
      ]
     },
     "execution_count": 527,
     "metadata": {},
     "output_type": "execute_result"
    },
    {
     "data": {
      "image/png": "[encoded data removed]",
      "text/plain": [
       "<Figure size 432x288 with 1 Axes>"
      ]
     },
     "metadata": {
      "needs_background": "light"
     },
     "output_type": "display_data"
    }
   ],
   "source": [
    "N=np.array(range(1,11))\n",
    "plt.plot(N,1-0.96**N)"
   ]
  },
  {
   "cell_type": "code",
   "execution_count": 528,
   "metadata": {},
   "outputs": [
    {
     "data": {
      "text/plain": [
       "0.1630170316301703"
      ]
     },
     "execution_count": 528,
     "metadata": {},
     "output_type": "execute_result"
    }
   ],
   "source": []
  },
  {
   "cell_type": "code",
   "execution_count": null,
   "metadata": {},
   "outputs": [],
   "source": []
  }
 ],
 "metadata": {
  "kernelspec": {
   "display_name": "Python 3",
   "language": "python",
   "name": "python3"
  },
  "language_info": {
   "codemirror_mode": {
    "name": "ipython",
    "version": 3
   },
   "file_extension": ".py",
   "mimetype": "text/x-python",
   "name": "python",
   "nbconvert_exporter": "python",
   "pygments_lexer": "ipython3",
   "version": "3.7.7"
  }
 },
 "nbformat": 4,
 "nbformat_minor": 4
}
