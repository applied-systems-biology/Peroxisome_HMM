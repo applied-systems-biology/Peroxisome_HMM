{
 "cells": [
  {
   "cell_type": "code",
   "execution_count": 33,
   "metadata": {},
   "outputs": [],
   "source": [
    "from tqdm import tqdm\n",
    "import json\n",
    "import os\n",
    "import pandas as pd\n",
    "import numpy as np\n",
    "import pylab as plt\n"
   ]
  },
  {
   "cell_type": "code",
   "execution_count": 6,
   "metadata": {},
   "outputs": [],
   "source": [
    "from numba import jit\n",
    "import scipy.stats as sstats\n",
    "\n",
    "@jit(nopython=True)\n",
    "def lognorm_pdf(x, mu, sigma):\n",
    "    ''' PDF of the log-normal distribution.'''\n",
    "    out = 1.0/(x*sigma*np.sqrt(2*np.pi))*np.exp(-(np.log(x)-mu)**2/(sigma**2))\n",
    "    \n",
    "    return out"
   ]
  },
  {
   "cell_type": "code",
   "execution_count": 7,
   "metadata": {},
   "outputs": [],
   "source": [
    "@jit(nopython=True)\n",
    "def norm_pdf(x, mu, sigma):\n",
    "\n",
    "    out = 1.0/(sigma*np.sqrt(2*np.pi))*np.exp(-((x-mu)**2)/(sigma**2))\n",
    "\n",
    "    return out"
   ]
  },
  {
   "cell_type": "code",
   "execution_count": 8,
   "metadata": {},
   "outputs": [],
   "source": [
    "@jit(nopython=True)\n",
    "def p_o_G_s(o, s, mu_l, sigma_l, sigma_alpha_2):\n",
    "    p_l = lognorm_pdf(o[0], mu_l[s], sigma_l[s]) \n",
    "    if s == 0:\n",
    "        p_alpha = 1/(2*np.pi)\n",
    "    else:\n",
    "        p_alpha = norm_pdf(o[1], 0.0, sigma_alpha_2)\n",
    "\n",
    "    p_o_G_s = p_l*p_alpha\n",
    "    \n",
    "    if p_o_G_s < 10**(-20):\n",
    "        p_o_G_s = 10**(-20)\n",
    "    \n",
    "    return p_o_G_s"
   ]
  },
  {
   "cell_type": "code",
   "execution_count": 9,
   "metadata": {},
   "outputs": [],
   "source": [
    "@jit(nopython=True)\n",
    "def p_olog_G_s(o, s, mu_l, sigma_l, sigma_alpha_2):\n",
    "    p_l = norm_pdf(o[0], mu_l[s], sigma_l[s]) \n",
    "\n",
    "    if s == 0:\n",
    "        p_alpha = 1/(2*np.pi)\n",
    "    else:\n",
    "        p_alpha = norm_pdf(o[1], 0.0, sigma_alpha_2)\n",
    "\n",
    "    p_o_G_s = p_l*p_alpha\n",
    "    if p_o_G_s < 10**(-20):\n",
    "        p_o_G_s = 10**(-20)\n",
    "    return p_o_G_s"
   ]
  },
  {
   "cell_type": "code",
   "execution_count": 10,
   "metadata": {},
   "outputs": [],
   "source": [
    "@jit(nopython=True)\n",
    "def viterbi(T, pi, mu_l, sigma_l, sigma_alpha_2, O):\n",
    "    \"\"\"Viterbi algorithm for solving the uncovering problem\n",
    "\n",
    "    Notebook: C5/C5S3_Viterbi.ipynb\n",
    "\n",
    "    Args:\n",
    "        T (np.ndarray): State transition probability matrix of dimension K x K\n",
    "        pi (np.ndarray): Initial state distribution  of dimension K\n",
    "        O (np.ndarray): Observation sequence of length N\n",
    "\n",
    "    Returns:\n",
    "        S_opt (np.ndarray): Optimal state sequence of length N\n",
    "        D (np.ndarray): Accumulated probability matrix\n",
    "        E (np.ndarray): Backtracking matrix\n",
    "    \"\"\"\n",
    "    K = T.shape[0]    # Number of states\n",
    "    N = len(O)  # Length of observation sequence\n",
    "\n",
    "    # Initialize D and E matrices\n",
    "    D = np.zeros((K, N)).astype(np.float64)\n",
    "    E = np.zeros((K, N-1)).astype(np.int32)\n",
    "    D[:, 0] = pi #np.multiply(C, B[:, O[0]])\n",
    "\n",
    "    # Compute D and E in a nested loop\n",
    "    for n in range(1, N):\n",
    "        for i in range(K):\n",
    "            temp_product = np.multiply(T[:, i], D[:, n-1])\n",
    "            D[i, n] = np.max(temp_product) * p_o_G_s(O[n], i, mu_l, sigma_l, sigma_alpha_2)\n",
    "            E[i, n-1] = np.argmax(temp_product)\n",
    "\n",
    "    # Backtracking\n",
    "    S_opt = np.zeros(N).astype(np.int32)\n",
    "    S_opt[-1] = np.argmax(D[:, -1])\n",
    "    for n in range(N-2, -1, -1):\n",
    "        S_opt[n] = E[int(S_opt[n+1]), n]\n",
    "\n",
    "    return S_opt, D, E"
   ]
  },
  {
   "cell_type": "code",
   "execution_count": 11,
   "metadata": {},
   "outputs": [],
   "source": [
    "def convert_to_cartesian(o):\n",
    "    X = np.zeros(o.shape, dtype=float)\n",
    "    X[:,1] = np.cumsum(o[:,1])\n",
    "    X[:,0] = np.cumsum(o[:,0]*np.cos(X[:,1]))\n",
    "    X[:,1] = np.cumsum(o[:,0]*np.sin(X[:,1]))\n",
    "    \n",
    "    return X"
   ]
  },
  {
   "cell_type": "code",
   "execution_count": 40,
   "metadata": {},
   "outputs": [],
   "source": [
    "def convert_to_planar(X, dt=1.0):\n",
    "    X_diff = np.diff(X, axis=0)\n",
    "    l = np.sqrt(X_diff[:,0]**2+X_diff[:,1]**2)/dt + np.random. uniform(0.0, 0.000001)\n",
    "    correct_idx = (l>0.0).nonzero()\n",
    "    gamma = np.arctan2(X_diff[:,1],X_diff[:,0])\n",
    "    alpha = np.diff(gamma)\n",
    "    alpha[alpha>np.pi] = alpha[alpha>np.pi] - 2*np.pi\n",
    "    alpha[alpha<-np.pi] = alpha[alpha<-np.pi] + 2*np.pi\n",
    "\n",
    "    return l[1:], alpha[:-2]"
   ]
  },
  {
   "cell_type": "code",
   "execution_count": 53,
   "metadata": {},
   "outputs": [
    {
     "name": "stderr",
     "output_type": "stream",
     "text": [
      "  0%|          | 0/1 [00:00<?, ?it/s]"
     ]
    },
    {
     "name": "stdout",
     "output_type": "stream",
     "text": [
      "[21]\n",
      "[93]\n",
      "[414]\n",
      "[329]\n",
      "[  6  39  61  77  91 177]\n",
      "[  7 326 374 449]\n",
      "[870 871]\n",
      "[  6   7  21  30  60  61  62  63  64  66  93 102 103 131 153 154]\n",
      "[521 522]\n",
      "[14 20 29 76 98]\n",
      "[139 188 206 363 426 644 740 877 941 966]\n",
      "[  3   4  17  41 132 133 134 159 160 226 227 249 250 364 365 439 440 441\n",
      " 447 470 471 494]\n",
      "[  7  19  31  51  68  71  80 115 119 121 123 129 132 144 147 169 203 232\n",
      " 259 272 296]\n",
      "[ 42  69  86 140 155 177 193]\n",
      "[ 122  541  687  775  795  912  963 1247 1260 1289 1543 1631 1689 2066]\n"
     ]
    },
    {
     "name": "stderr",
     "output_type": "stream",
     "text": [
      "100%|██████████| 1/1 [00:06<00:00,  6.58s/it]\n"
     ]
    },
    {
     "data": {
      "image/png": "[encoded data removed]",
      "text/plain": [
       "<Figure size 432x288 with 1 Axes>"
      ]
     },
     "metadata": {
      "needs_background": "light"
     },
     "output_type": "display_data"
    }
   ],
   "source": [
    "with open('/data/norm_list.txt') as f_norm:\n",
    "    norm_tables = f_norm.read().splitlines()\n",
    "\n",
    "key_counter = 0\n",
    "for table in tqdm(norm_tables[:1]):\n",
    "    #print(table)\n",
    "    d = table[:table.rfind('/')+1]\n",
    "    #print(d)\n",
    "    tracks = pd.read_csv(d + 'Track_Data.xls', sep='\\t')\n",
    "    with open(d + \"fitted_params.json\", \"r\") as read_file:\n",
    "        params = json.load(read_file)\n",
    "    for track in np.unique(tracks['TRACK_ID'])[:100]:\n",
    "        track0 = tracks.loc[tracks['TRACK_ID']==track]\n",
    "        key_in_track = True\n",
    "        track_keys = []\n",
    "        while key_in_track:\n",
    "            track_keys.append(key_counter)\n",
    "            next_tracklet = int(params[str(key_counter)]['track_id'][:params[str(key_counter)]['track_id'].rfind('.')])\n",
    "            if next_tracklet == track:\n",
    "                key_counter += 1\n",
    "            else:\n",
    "                key_in_track = False\n",
    "        \n",
    "        pi_tot = np.zeros(2)\n",
    "        T_tot = np.zeros((2,2))\n",
    "        mu_tot = np.zeros(2)\n",
    "        sigma_tot = np.zeros(2)\n",
    "        for k in track_keys:\n",
    "            key = str(k)\n",
    "            pi_tot += np.array(params[key]['pi'])\n",
    "            mu_tot += np.array(params[key]['mu_l'])\n",
    "            sigma_tot += params[key]['sigma_l']\n",
    "            T_tot[0] += np.array(params[key]['pi'])[0]*np.array(params[key]['T'])[0]\n",
    "            T_tot[1] += np.array(params[key]['pi'])[1]*np.array(params[key]['T'])[1]\n",
    "        \n",
    "        T_tot[0] = T_tot[0]/np.sum(T_tot[0])\n",
    "        T_tot[1] = T_tot[1]/np.sum(T_tot[1])\n",
    "        pi_tot = pi_tot / len(track_keys)\n",
    "        mu_tot = mu_tot / len(track_keys)\n",
    "        sigma_tot = sigma_tot / len(track_keys)\n",
    "        \n",
    "        X = np.array([track0['POSITION_X'], track0['POSITION_Y']]).T\n",
    "        l, alpha = convert_to_planar(X)\n",
    "        o = np.array([l[1:-1], alpha]).T\n",
    "        if o.shape[0] > 2:\n",
    "            s_est, D, E = viterbi(T_tot, pi_tot, mu_tot, sigma_tot, float(params['0']['sigma_alpha_2']), o)\n",
    "            if s_est.nonzero()[0].shape[0]>0:\n",
    "                print(s_est.nonzero()[0])\n",
    "                s_1_idx = (s_est==0)\n",
    "                s_2_idx = (s_est==1)\n",
    "                for ii in range(X.shape[0]-5):\n",
    "                    if s_est[ii+1] == 0:\n",
    "                        plt.plot(X[ii+1:ii+3,0], X[ii+1:ii+3,1], c='blue')\n",
    "                    else:\n",
    "                        plt.plot(X[ii+1:ii+3,0], X[ii+1:ii+3,1], c='red')\n",
    "    "
   ]
  },
  {
   "cell_type": "code",
   "execution_count": null,
   "metadata": {},
   "outputs": [],
   "source": []
  }
 ],
 "metadata": {
  "kernelspec": {
   "display_name": "Python 3",
   "language": "python",
   "name": "python3"
  },
  "language_info": {
   "codemirror_mode": {
    "name": "ipython",
    "version": 3
   },
   "file_extension": ".py",
   "mimetype": "text/x-python",
   "name": "python",
   "nbconvert_exporter": "python",
   "pygments_lexer": "ipython3",
   "version": "3.7.7"
  }
 },
 "nbformat": 4,
 "nbformat_minor": 4
}
