{
 "cells": [
  {
   "cell_type": "markdown",
   "metadata": {},
   "source": [
    "Copyright by Dr. Carl-Magnus Svensson\n",
    "Research Group Applied Systems Biology - Head: Prof. Dr. Marc Thilo Figge\n",
    "https://www.leibniz-hki.de/en/applied-systems-biology.html\n",
    "HKI-Center for Systems Biology of Infection\n",
    "Leibniz Institute for Natural Product Research and Infection Biology -\n",
    "Hans Knöll Insitute (HKI)\n",
    "Adolf-Reichwein-Straße 23, 07745 Jena, Germany"
   ]
  },
  {
   "cell_type": "code",
   "execution_count": 5,
   "metadata": {},
   "outputs": [],
   "source": [
    "from tqdm import tqdm\n",
    "import json\n",
    "import os\n",
    "import glob\n",
    "import pandas as pd\n",
    "import numpy as np\n",
    "import pylab as plt\n",
    "import seaborn as sns\n",
    "from pathlib import Path\n",
    "from numba import jit\n",
    "import scipy.stats as sstats\n",
    "from Peroxisome_HMM import viterbi, Baum_Welch, convert_to_cartesian, convert_to_planar, flatten_list\n",
    "import warnings\n",
    "warnings.filterwarnings(\"ignore\", category=np.VisibleDeprecationWarning) "
   ]
  },
  {
   "cell_type": "code",
   "execution_count": 2,
   "metadata": {},
   "outputs": [],
   "source": [
    "from numba import jit\n",
    "import scipy.stats as sstats\n",
    "\n",
    "@jit(nopython=True)\n",
    "def lognorm_pdf(x, mu, sigma):\n",
    "    ''' PDF of the log-normal distribution.'''\n",
    "    out = 1.0/(x*sigma*np.sqrt(2*np.pi))*np.exp(-(np.log(x)-mu)**2/(sigma**2))\n",
    "    \n",
    "    return out"
   ]
  },
  {
   "cell_type": "code",
   "execution_count": 3,
   "metadata": {},
   "outputs": [],
   "source": [
    "@jit(nopython=True)\n",
    "def norm_pdf(x, mu, sigma):\n",
    "\n",
    "    out = 1.0/(sigma*np.sqrt(2*np.pi))*np.exp(-((x-mu)**2)/(sigma**2))\n",
    "\n",
    "    return out"
   ]
  },
  {
   "cell_type": "code",
   "execution_count": 4,
   "metadata": {},
   "outputs": [],
   "source": [
    "@jit(nopython=True)\n",
    "def p_o_G_s(o, s, mu_l, sigma_l, sigma_alpha_2):\n",
    "    p_l = lognorm_pdf(o[0], mu_l[s], sigma_l[s]) \n",
    "    if s == 0:\n",
    "        p_alpha = 1/(2*np.pi)\n",
    "    else:\n",
    "        p_alpha = norm_pdf(o[1], 0.0, sigma_alpha_2)\n",
    "\n",
    "    p_o_G_s = p_l*p_alpha\n",
    "    \n",
    "    if p_o_G_s < 10**(-20):\n",
    "        p_o_G_s = 10**(-20)\n",
    "    \n",
    "    return p_o_G_s"
   ]
  },
  {
   "cell_type": "code",
   "execution_count": 5,
   "metadata": {},
   "outputs": [],
   "source": [
    "@jit(nopython=True)\n",
    "def p_olog_G_s(o, s, mu_l, sigma_l, sigma_alpha_2):\n",
    "    p_l = norm_pdf(o[0], mu_l[s], sigma_l[s]) \n",
    "\n",
    "    if s == 0:\n",
    "        p_alpha = 1/(2*np.pi)\n",
    "    else:\n",
    "        p_alpha = norm_pdf(o[1], 0.0, sigma_alpha_2)\n",
    "\n",
    "    p_o_G_s = p_l*p_alpha\n",
    "    if p_o_G_s < 10**(-20):\n",
    "        p_o_G_s = 10**(-20)\n",
    "    return p_o_G_s"
   ]
  },
  {
   "cell_type": "code",
   "execution_count": 6,
   "metadata": {},
   "outputs": [],
   "source": [
    "@jit(nopython=True)\n",
    "def viterbi(T, pi, mu_l, sigma_l, sigma_alpha_2, O):\n",
    "    \"\"\"Viterbi algorithm for solving the uncovering problem\n",
    "\n",
    "    Notebook: C5/C5S3_Viterbi.ipynb\n",
    "\n",
    "    Args:\n",
    "        T (np.ndarray): State transition probability matrix of dimension K x K\n",
    "        pi (np.ndarray): Initial state distribution  of dimension K\n",
    "        O (np.ndarray): Observation sequence of length N\n",
    "\n",
    "    Returns:\n",
    "        S_opt (np.ndarray): Optimal state sequence of length N\n",
    "        D (np.ndarray): Accumulated probability matrix\n",
    "        E (np.ndarray): Backtracking matrix\n",
    "    \"\"\"\n",
    "    K = T.shape[0]    # Number of states\n",
    "    N = len(O)  # Length of observation sequence\n",
    "\n",
    "    # Initialize D and E matrices\n",
    "    D = np.zeros((K, N)).astype(np.float64)\n",
    "    E = np.zeros((K, N-1)).astype(np.int32)\n",
    "    D[:, 0] = pi #np.multiply(C, B[:, O[0]])\n",
    "\n",
    "    # Compute D and E in a nested loop\n",
    "    for n in range(1, N):\n",
    "        for i in range(K):\n",
    "            temp_product = np.multiply(T[:, i], D[:, n-1])\n",
    "            D[i, n] = np.max(temp_product) * p_o_G_s(O[n], i, mu_l, sigma_l, sigma_alpha_2)\n",
    "            E[i, n-1] = np.argmax(temp_product)\n",
    "\n",
    "    # Backtracking\n",
    "    S_opt = np.zeros(N).astype(np.int32)\n",
    "    S_opt[-1] = np.argmax(D[:, -1])\n",
    "    for n in range(N-2, -1, -1):\n",
    "        S_opt[n] = E[int(S_opt[n+1]), n]\n",
    "\n",
    "    return S_opt, D, E"
   ]
  },
  {
   "cell_type": "code",
   "execution_count": 7,
   "metadata": {},
   "outputs": [],
   "source": [
    "def convert_to_cartesian(o):\n",
    "    X = np.zeros(o.shape, dtype=float)\n",
    "    X[:,1] = np.cumsum(o[:,1])\n",
    "    X[:,0] = np.cumsum(o[:,0]*np.cos(X[:,1]))\n",
    "    X[:,1] = np.cumsum(o[:,0]*np.sin(X[:,1]))\n",
    "    \n",
    "    return X"
   ]
  },
  {
   "cell_type": "code",
   "execution_count": 8,
   "metadata": {},
   "outputs": [],
   "source": [
    "def convert_to_planar(X, dt=1.0):\n",
    "    X_diff = np.diff(X, axis=0)\n",
    "    l = np.sqrt(X_diff[:,0]**2+X_diff[:,1]**2)/dt + np.random. uniform(0.0, 0.000001)\n",
    "    correct_idx = (l>0.0).nonzero()\n",
    "    gamma = np.arctan2(X_diff[:,1],X_diff[:,0])\n",
    "    alpha = np.diff(gamma)\n",
    "    alpha[alpha>np.pi] = alpha[alpha>np.pi] - 2*np.pi\n",
    "    alpha[alpha<-np.pi] = alpha[alpha<-np.pi] + 2*np.pi\n",
    "\n",
    "    return l[1:], alpha[:-2]"
   ]
  },
  {
   "cell_type": "code",
   "execution_count": 2,
   "metadata": {},
   "outputs": [],
   "source": [
    "@jit(nopython=True)\n",
    "def adaptable_diff(v, step=1):\n",
    "    '''Calculate the difference vector with adjustable step.\n",
    "    \n",
    "       This implementation differs from that standard implementation of numpy.diff by being able to adjust the step in the difference.\n",
    "       Numpy's implementation sets d[i]=v[i+1]-v[i], while this one takes d[i]=v[i+step]-v[i]. \n",
    "       \n",
    "       TODO: Implement recursiveness, padding and compatibility with multidimentionsal vectors.'''\n",
    "    if v.shape[0]-step > 0:\n",
    "        d = np.zeros(v.shape[0]-step).astype(v.dtype)\n",
    "        for ii in range(d.shape[0]):\n",
    "            d[ii] = v[ii+step] - v[ii]\n",
    "    else:\n",
    "        return np.array([0]).astype(v.dtype)\n",
    "         \n",
    "    return d"
   ]
  },
  {
   "cell_type": "code",
   "execution_count": 6,
   "metadata": {},
   "outputs": [],
   "source": [
    "def filter_tracks(tables, norm=False, new_data=False):\n",
    "    straight_tracks = {}\n",
    "    straight_tracks['total tracks'] = []\n",
    "    all_tracks = {}\n",
    "    all_tracks['total tracks'] = []\n",
    "    for table in tqdm(tables[:]):\n",
    "        #print(table)\n",
    "        d = table[:]\n",
    "        #if Path(d+\"/Tracks\").exists():\n",
    "        #    fileList = glob.glob(d+\"/Tracks/*.png\", recursive=False)\n",
    "        #    for im in fileList:\n",
    "        #        os.remove(im)\n",
    "        #Path(d+\"/Tracks\").mkdir(parents=True, exist_ok=True)\n",
    "        #print(d)\n",
    "        key_counter = 0\n",
    "        #tracks = pd.read_csv(d + 'Track_Data.xls', sep='\\t')\n",
    "        if norm:\n",
    "            try:\n",
    "                if len(glob.glob(d + '/*.xls'))>0:\n",
    "                    tracks = pd.read_csv(d + '/' + d[d.rfind('/')+1:] + '.xls', sep='\\t')\n",
    "                elif len(glob.glob(d + '/*.xlsx'))>0: \n",
    "                    tracks = pd.read_csv(d + '/' + d[d.rfind('/')+1:] + '.xlsx', sep='\\t')\n",
    "                else:\n",
    "                    tracks = pd.read_csv(d + '/' + d[d.rfind('/')+1:] + '.csv', sep=',')\n",
    "                with open(d + \"/fitted_params_mu_sig_fixed2.json\", \"r\") as read_file:\n",
    "                    params = json.load(read_file)\n",
    "\n",
    "            except:\n",
    "                print('Could not read params and/or track file for %s'%d)\n",
    "                continue\n",
    "        elif new_data:\n",
    "            try:\n",
    "                track_file = d + d[d.rfind('/'):]+'.xls'\n",
    "                tracks = pd.read_csv(track_file, sep='\\t')\n",
    "                with open(d + '/' +\"fitted_params_mu_sig_fixed2.json\", \"r\") as read_file:\n",
    "                    params = json.load(read_file)\n",
    "            except:\n",
    "                print('Could not read params and/or track file for %s'%track_file)\n",
    "                continue\n",
    "        else:   \n",
    "            try:\n",
    "                tracks = pd.read_csv(d + '/Track_Data.xls', sep='\\t')\n",
    "                with open(d + \"/fitted_params_mu_sig_fixed2.json\", \"r\") as read_file:\n",
    "                    params = json.load(read_file)\n",
    "            except:\n",
    "                print('Could not read params and/or track file for %s'%d)\n",
    "                continue\n",
    "            try:\n",
    "                with open(d + \"/fitted_params_mu_sig_fixed2.json\", \"r\") as read_file:\n",
    "                    params = json.load(read_file)\n",
    "            except:\n",
    "                continue\n",
    "        straight_tracks[d] = {}\n",
    "        all_tracks[d] = []\n",
    "\n",
    "        total_tracks = 0\n",
    "        for dist in range(1,10):\n",
    "            straight_tracks[d][dist] = []\n",
    "        for key in params.keys(): \n",
    "            track = int(params[key]['track_id'])\n",
    "            track0 = tracks.loc[tracks['TRACK_ID']==track]\n",
    "\n",
    "            pi_tot = np.array(params[key]['pi'])\n",
    "            mu_tot = np.array(params[key]['mu_l'])\n",
    "            sigma_tot = np.array(params[key]['sigma_l'])\n",
    "            T_tot = np.array(params[key]['T'])\n",
    "\n",
    "            X = np.array([track0['POSITION_X'], track0['POSITION_Y']]).T\n",
    "            l, alpha = convert_to_planar(X)\n",
    "            o = np.array([l[1:-1], alpha]).T\n",
    "            if o.shape[0] > 50 and np.isfinite(T_tot).all() and np.isfinite(pi_tot).all() and np.isfinite(mu_tot).all() and np.isfinite(sigma_tot).all():\n",
    "                total_tracks += 1\n",
    "                s_est, D, E = viterbi(T_tot, pi_tot, mu_tot, sigma_tot, float(params['0']['sigma_alpha_2']), o)\n",
    "                s1_idx = s_est.nonzero()[0]\n",
    "                all_tracks[d].append(key)\n",
    "                for dist in range(1,10):\n",
    "                    if s1_idx.shape[0]>(dist-1):\n",
    "                        d_v = adaptable_diff(s1_idx, dist)\n",
    "                        if dist in d_v:\n",
    "                            straight_tracks[d][dist].append(key)\n",
    "\n",
    "        straight_tracks['total tracks'].append(total_tracks)\n",
    "        all_tracks['total tracks'].append(total_tracks)     \n",
    "        \n",
    "    return straight_tracks, all_tracks"
   ]
  },
  {
   "cell_type": "markdown",
   "metadata": {},
   "source": [
    "### Load all tracks and parameters"
   ]
  },
  {
   "cell_type": "code",
   "execution_count": 7,
   "metadata": {},
   "outputs": [
    {
     "name": "stderr",
     "output_type": "stream",
     "text": [
      "100%|██████████| 5/5 [00:09<00:00,  1.99s/it]\n"
     ]
    }
   ],
   "source": [
    "with open('/data/Peroxisome tracks/HEK WT/cell_list.txt') as f_norm:\n",
    "    norm_tables = f_norm.read().splitlines()\n",
    "\n",
    "straight_norm_tracks, all_norm_tracks = filter_tracks(norm_tables, norm=True)"
   ]
  },
  {
   "cell_type": "code",
   "execution_count": 67,
   "metadata": {},
   "outputs": [
    {
     "name": "stdout",
     "output_type": "stream",
     "text": [
      "190\n",
      "312873\n"
     ]
    },
    {
     "name": "stderr",
     "output_type": "stream",
     "text": [
      "/home/svensson/anaconda3/lib/python3.7/site-packages/ipykernel_launcher.py:36: VisibleDeprecationWarning:\n",
      "\n",
      "Creating an ndarray from ragged nested sequences (which is a list-or-tuple of lists-or-tuples-or ndarrays with different lengths or shapes) is deprecated. If you meant to do this, you must specify 'dtype=object' when creating the ndarray\n",
      "\n",
      "/home/svensson/anaconda3/lib/python3.7/site-packages/ipykernel_launcher.py:37: VisibleDeprecationWarning:\n",
      "\n",
      "Creating an ndarray from ragged nested sequences (which is a list-or-tuple of lists-or-tuples-or ndarrays with different lengths or shapes) is deprecated. If you meant to do this, you must specify 'dtype=object' when creating the ndarray\n",
      "\n",
      "/home/svensson/anaconda3/lib/python3.7/site-packages/ipykernel_launcher.py:39: VisibleDeprecationWarning:\n",
      "\n",
      "Creating an ndarray from ragged nested sequences (which is a list-or-tuple of lists-or-tuples-or ndarrays with different lengths or shapes) is deprecated. If you meant to do this, you must specify 'dtype=object' when creating the ndarray\n",
      "\n"
     ]
    }
   ],
   "source": [
    "l = np.array(all_norm_tracks['total tracks'])\n",
    "mu_l = []\n",
    "sigma_l = []\n",
    "pi = []\n",
    "T = []\n",
    "T_per_cell = []\n",
    "for ii, key in enumerate(list(all_norm_tracks.keys())[1:]):\n",
    "    \n",
    "    with open(key + \"/fitted_params_mu_sig_fixed2.json\", \"r\") as read_file:\n",
    "        params = json.load(read_file)\n",
    "    mu_tmp = []\n",
    "    sigma_tmp = []\n",
    "    pi_tmp = []\n",
    "    T_tmp = []\n",
    "    T_av_tmp =[]\n",
    "    for track in all_norm_tracks[key]:\n",
    "        mu_tmp.append(params[str(track)]['mu_l'])\n",
    "        sigma_tmp.append(params[str(track)]['sigma_l'])\n",
    "        pi_tmp.append(params[str(track)]['pi'])\n",
    "        T_tmp.append(params[str(track)]['T'])\n",
    "        \n",
    "    T_average = np.mean(np.array(T_tmp), axis=0)    \n",
    "    pi_average = np.mean(np.array(pi_tmp), axis=0)\n",
    "    #for dist in range(1,10):\n",
    "    #    PS_tmp.append(len(straight_norm_tracks[key][dist])/l[ii])\n",
    "    #   \n",
    "   # \n",
    "    #    T_average = np.mean(np.array(T_tmp), axis=0)\n",
    "    #    T_av_tmp.append(T_average)\n",
    "    T_per_cell.append(T_average)\n",
    "    mu_l.append(np.copy(mu_tmp))\n",
    "    sigma_l.append(np.copy(sigma_tmp))\n",
    "    pi.append(np.copy(pi_average))\n",
    "    T.append(np.copy(T_tmp))\n",
    "    \n",
    "mu_l_norm_all = np.array(mu_l)   \n",
    "sigma_l_norm_all = np.array(sigma_l)\n",
    "pi_norm_all = np.array(pi)\n",
    "T_norm_all = np.array(T)\n",
    "T_per_cell_norm_all= np.array(T_per_cell)\n",
    "print(len(l))\n",
    "print(np.sum(l))"
   ]
  },
  {
   "cell_type": "code",
   "execution_count": 13,
   "metadata": {},
   "outputs": [
    {
     "name": "stdout",
     "output_type": "stream",
     "text": [
      "190\n",
      "312873\n"
     ]
    },
    {
     "name": "stderr",
     "output_type": "stream",
     "text": [
      "/home/svensson/anaconda3/lib/python3.7/site-packages/ipykernel_launcher.py:35: VisibleDeprecationWarning: Creating an ndarray from ragged nested sequences (which is a list-or-tuple of lists-or-tuples-or ndarrays with different lengths or shapes) is deprecated. If you meant to do this, you must specify 'dtype=object' when creating the ndarray\n",
      "/home/svensson/anaconda3/lib/python3.7/site-packages/ipykernel_launcher.py:36: VisibleDeprecationWarning: Creating an ndarray from ragged nested sequences (which is a list-or-tuple of lists-or-tuples-or ndarrays with different lengths or shapes) is deprecated. If you meant to do this, you must specify 'dtype=object' when creating the ndarray\n",
      "/home/svensson/anaconda3/lib/python3.7/site-packages/ipykernel_launcher.py:37: VisibleDeprecationWarning: Creating an ndarray from ragged nested sequences (which is a list-or-tuple of lists-or-tuples-or ndarrays with different lengths or shapes) is deprecated. If you meant to do this, you must specify 'dtype=object' when creating the ndarray\n",
      "/home/svensson/anaconda3/lib/python3.7/site-packages/ipykernel_launcher.py:38: VisibleDeprecationWarning: Creating an ndarray from ragged nested sequences (which is a list-or-tuple of lists-or-tuples-or ndarrays with different lengths or shapes) is deprecated. If you meant to do this, you must specify 'dtype=object' when creating the ndarray\n"
     ]
    }
   ],
   "source": [
    "l = np.array(straight_norm_tracks['total tracks'])\n",
    "mu_l = []\n",
    "sigma_l = []\n",
    "pi = []\n",
    "T = []\n",
    "T_per_cell = []\n",
    "PS_norm = []\n",
    "for ii, key in enumerate(list(straight_norm_tracks.keys())[1:]):\n",
    "    \n",
    "    with open(key + \"/fitted_params_mu_sig_fixed2.json\", \"r\") as read_file:\n",
    "        params = json.load(read_file)\n",
    "    mu_tmp = []\n",
    "    sigma_tmp = []\n",
    "    pi_tmp = []\n",
    "    T_tmp = []\n",
    "    PS_tmp = []\n",
    "    T_av_tmp =[]\n",
    "    for dist in range(1,10):\n",
    "        PS_tmp.append(len(straight_norm_tracks[key][dist])/l[ii])\n",
    "        for track in straight_norm_tracks[key][dist]:\n",
    "            mu_tmp.append(params[str(track)]['mu_l'])\n",
    "            sigma_tmp.append(params[str(track)]['sigma_l'])\n",
    "            pi_tmp.append(params[str(track)]['pi'])\n",
    "            T_tmp.append(params[str(track)]['T'])\n",
    "    \n",
    "        T_average = np.mean(np.array(T_tmp), axis=0)\n",
    "        T_av_tmp.append(T_average)\n",
    "    T_per_cell.append(T_av_tmp)\n",
    "    mu_l.append(np.copy(mu_tmp))\n",
    "    sigma_l.append(np.copy(sigma_tmp))\n",
    "    pi.append(np.copy(pi_tmp))\n",
    "    T.append(np.copy(T_tmp))\n",
    "    PS_norm.append(np.copy(PS_tmp))\n",
    "    \n",
    "mu_l_norm = np.array(mu_l)   \n",
    "sigma_l_norm = np.array(sigma_l)\n",
    "pi_norm = np.array(pi)\n",
    "T_norm = np.array(T)\n",
    "PS_norm = np.array(PS_norm)\n",
    "T_per_cell_norm = np.array(T_per_cell)\n",
    "print(len(l))\n",
    "print(np.sum(l))"
   ]
  },
  {
   "cell_type": "code",
   "execution_count": 14,
   "metadata": {},
   "outputs": [
    {
     "name": "stdout",
     "output_type": "stream",
     "text": [
      "(190, 9, 2, 2)\n"
     ]
    }
   ],
   "source": [
    "print(np.array(T_per_cell_norm).shape)"
   ]
  },
  {
   "cell_type": "code",
   "execution_count": 15,
   "metadata": {},
   "outputs": [
    {
     "data": {
      "text/plain": [
       "{'whiskers': [<matplotlib.lines.Line2D at 0x7ff9fba2fd50>,\n",
       "  <matplotlib.lines.Line2D at 0x7ff9fb3c4910>,\n",
       "  <matplotlib.lines.Line2D at 0x7ff9f822bf10>,\n",
       "  <matplotlib.lines.Line2D at 0x7ff9f822b090>],\n",
       " 'caps': [<matplotlib.lines.Line2D at 0x7ff9fba60a90>,\n",
       "  <matplotlib.lines.Line2D at 0x7ffa05ec2610>,\n",
       "  <matplotlib.lines.Line2D at 0x7ff9fb171bd0>,\n",
       "  <matplotlib.lines.Line2D at 0x7ff9de394a10>],\n",
       " 'boxes': [<matplotlib.lines.Line2D at 0x7ffa06204550>,\n",
       "  <matplotlib.lines.Line2D at 0x7ff9f81f50d0>],\n",
       " 'medians': [<matplotlib.lines.Line2D at 0x7ffa05ecd050>,\n",
       "  <matplotlib.lines.Line2D at 0x7ff9de3a17d0>],\n",
       " 'fliers': [<matplotlib.lines.Line2D at 0x7ff9f84978d0>,\n",
       "  <matplotlib.lines.Line2D at 0x7ff9faadaf10>],\n",
       " 'means': []}"
      ]
     },
     "execution_count": 15,
     "metadata": {},
     "output_type": "execute_result"
    },
    {
     "data": {
      "image/png": "[encoded data removed]",
      "text/plain": [
       "<Figure size 432x288 with 1 Axes>"
      ]
     },
     "metadata": {
      "needs_background": "light"
     },
     "output_type": "display_data"
    }
   ],
   "source": [
    "plt.boxplot(np.exp(mu_l_norm[0]+sigma_l_norm[0]/2))"
   ]
  },
  {
   "cell_type": "code",
   "execution_count": 16,
   "metadata": {},
   "outputs": [
    {
     "data": {
      "text/plain": [
       "312873"
      ]
     },
     "execution_count": 16,
     "metadata": {},
     "output_type": "execute_result"
    }
   ],
   "source": [
    "np.sum(l)"
   ]
  },
  {
   "cell_type": "code",
   "execution_count": 17,
   "metadata": {},
   "outputs": [
    {
     "name": "stderr",
     "output_type": "stream",
     "text": [
      "100%|██████████| 130/130 [24:49<00:00, 11.46s/it]\n"
     ]
    }
   ],
   "source": [
    "with open('/data/Peroxisome tracks/noc/cell_list.txt') as f_norm:\n",
    "    noc_tables = f_norm.read().splitlines()\n",
    "\n",
    "straight_noc_tracks, all_noc_tracks = filter_tracks(noc_tables)\n",
    "#straight_noc_tracks = {}\n",
    "#straight_noc_tracks['total tracks'] = []\n",
    "#all_noc_tracks = {}\n",
    "#all_noc_tracks['total tracks'] = []\n",
    "\n",
    "#for table in tqdm(noc_tables[:]):\n",
    "#    #print(table)\n",
    "#    d = table[:]\n",
    "#    if Path(d+\"/Tracks\").exists():\n",
    "#        fileList = glob.glob(d+\"Tracks/*.png\", recursive=False)\n",
    "#        for im in fileList:\n",
    "#            os.remove(im)\n",
    "    #print(d)\n",
    "#    key_counter = 0\n",
    "#    try:\n",
    "#        tracks = pd.read_csv(d + '/Track_Data.xls', sep='\\t')\n",
    "#        with open(d + \"/fitted_params_mu_sig_fixed2.json\", \"r\") as read_file:\n",
    "#            params = json.load(read_file)\n",
    "#    except:\n",
    "#        print('Could not read params and/or track file for %s'%d)\n",
    "#        continue\n",
    "    #tracks = pd.read_csv(d + '/Track_Data.xls', sep='\\t')\n",
    "    #with open(d + \"/fitted_params_mu_sig_fixed2.json\", \"r\") as read_file:\n",
    "    #    params = json.load(read_file)\n",
    "#    straight_noc_tracks[d] = {}\n",
    "#    all_noc_tracks[d] = []\n",
    "    \n",
    "#    total_tracks = 0\n",
    "#    for dist in range(1,10):\n",
    "#        straight_noc_tracks[d][dist] = []\n",
    "#    for key in params.keys():\n",
    "#        \n",
    "#        track = int(params[key]['track_id'])\n",
    "#        track0 = tracks.loc[tracks['TRACK_ID']==track]\n",
    "# \n",
    "#        pi_tot = np.array(params[key]['pi'])\n",
    "#        mu_tot = np.array(params[key]['mu_l'])\n",
    "#        sigma_tot = np.array(params[key]['sigma_l'])\n",
    "#        T_tot = np.array(params[key]['T'])\n",
    "#                         \n",
    "#        X = np.array([track0['POSITION_X'], track0['POSITION_Y']]).T\n",
    "#        l, alpha = convert_to_planar(X)\n",
    "#        o = np.array([l[1:-1], alpha]).T\n",
    "#        if o.shape[0] > 50 and np.isfinite(T_tot).all() and np.isfinite(pi_tot).all() and np.isfinite(mu_tot).all() and np.isfinite(sigma_tot).all():\n",
    "#            total_tracks += 1\n",
    "#            Path(d+\"Tracks\").mkdir(parents=True, exist_ok=True)\n",
    "#            s_est, D, E = viterbi(T_tot, pi_tot, mu_tot, sigma_tot, float(params['0']['sigma_alpha_2']), o)\n",
    "#            s1_idx = s_est.nonzero()[0]\n",
    "#            all_noc_tracks[d].append(key)\n",
    "#            for dist in range(1,10):\n",
    "#                #straight_norm_tracks[d][dist] = []\n",
    "                #f o.shape[0] > (dist-1) and np.isfinite(T_tot).all() and np.isfinite(pi_tot).all() and np.isfinite(mu_tot).all() and np.isfinite(sigma_tot).all():\n",
    "#                if s1_idx.shape[0]>(dist-1):\n",
    "#                    d_v = adaptable_diff(s1_idx, dist)\n",
    "#                    if dist in d_v:\n",
    "                        #if params[key]['T'][1][1] > 0.4:\n",
    "#                        straight_noc_tracks[d][dist].append(key)\n",
    "                        #if dist == 6:\n",
    "                        #    s_1_idx = (s_est==0)\n",
    "                        #    s_2_idx = (s_est==1)\n",
    "                            #print(X.shape)\n",
    "                        #    for ii in range(X.shape[0]-5):\n",
    "                        #        if s_est[ii+1] == 0:\n",
    "                        #            plt.plot(X[ii+1:ii+3,0], X[ii+1:ii+3,1], c='blue')\n",
    "                        #        else:\n",
    "                        #            plt.plot(X[ii+1:ii+3,0], X[ii+1:ii+3,1], c='red')\n",
    "                        #    plt.savefig(d+\"Tracks/\"+str(params[key]['track_id']))\n",
    "                        #    plt.close('all')\n",
    "                    #for ii in range(X.shape[0]-5):\n",
    "                    #    if s_est[ii+1] == 0:\n",
    "                    #        plt.plot(X[ii+1:ii+3,0], X[ii+1:ii+3,1], c='blue')\n",
    "                    #    else:\n",
    "                    #        plt.plot(X[ii+1:ii+3,0], X[ii+1:ii+3,1], c='red')\n",
    "                    #plt.savefig(d+\"Tracks/\"+str(params[key]['track_id']))\n",
    "                    #plt.close('all')\n",
    "#    straight_noc_tracks['total tracks'].append(total_tracks)\n",
    "#    all_noc_tracks['total tracks'].append(total_tracks)"
   ]
  },
  {
   "cell_type": "code",
   "execution_count": 66,
   "metadata": {},
   "outputs": [
    {
     "name": "stdout",
     "output_type": "stream",
     "text": [
      "130\n",
      "1422039\n"
     ]
    },
    {
     "name": "stderr",
     "output_type": "stream",
     "text": [
      "/home/svensson/anaconda3/lib/python3.7/site-packages/ipykernel_launcher.py:35: VisibleDeprecationWarning:\n",
      "\n",
      "Creating an ndarray from ragged nested sequences (which is a list-or-tuple of lists-or-tuples-or ndarrays with different lengths or shapes) is deprecated. If you meant to do this, you must specify 'dtype=object' when creating the ndarray\n",
      "\n",
      "/home/svensson/anaconda3/lib/python3.7/site-packages/ipykernel_launcher.py:36: VisibleDeprecationWarning:\n",
      "\n",
      "Creating an ndarray from ragged nested sequences (which is a list-or-tuple of lists-or-tuples-or ndarrays with different lengths or shapes) is deprecated. If you meant to do this, you must specify 'dtype=object' when creating the ndarray\n",
      "\n",
      "/home/svensson/anaconda3/lib/python3.7/site-packages/ipykernel_launcher.py:38: VisibleDeprecationWarning:\n",
      "\n",
      "Creating an ndarray from ragged nested sequences (which is a list-or-tuple of lists-or-tuples-or ndarrays with different lengths or shapes) is deprecated. If you meant to do this, you must specify 'dtype=object' when creating the ndarray\n",
      "\n"
     ]
    }
   ],
   "source": [
    "l = np.array(all_noc_tracks['total tracks'])\n",
    "mu_l = []\n",
    "sigma_l = []\n",
    "pi = []\n",
    "T = []\n",
    "T_per_cell = []\n",
    "for ii, key in enumerate(list(all_noc_tracks.keys())[1:]):\n",
    "    \n",
    "    with open(key + \"/fitted_params_mu_sig_fixed2.json\", \"r\") as read_file:\n",
    "        params = json.load(read_file)\n",
    "    mu_tmp = []\n",
    "    sigma_tmp = []\n",
    "    pi_tmp = []\n",
    "    T_tmp = []\n",
    "    T_av_tmp =[]\n",
    "    for track in all_noc_tracks[key]:\n",
    "        mu_tmp.append(params[str(track)]['mu_l'])\n",
    "        sigma_tmp.append(params[str(track)]['sigma_l'])\n",
    "        pi_tmp.append(params[str(track)]['pi'])\n",
    "        T_tmp.append(params[str(track)]['T'])\n",
    "    T_average = np.mean(np.array(T_tmp), axis=0)    \n",
    "    pi_average = np.mean(np.array(pi_tmp), axis=0)\n",
    "    #for dist in range(1,10):\n",
    "    #    PS_tmp.append(len(straight_norm_tracks[key][dist])/l[ii])\n",
    "    #   \n",
    "   # \n",
    "    #    T_average = np.mean(np.array(T_tmp), axis=0)\n",
    "    #    T_av_tmp.append(T_average)\n",
    "    T_per_cell.append(T_average)\n",
    "    mu_l.append(np.copy(mu_tmp))\n",
    "    sigma_l.append(np.copy(sigma_tmp))\n",
    "    pi.append(np.copy(pi_average))\n",
    "    T.append(np.copy(T_tmp))\n",
    "    \n",
    "mu_l_noc_all = np.array(mu_l)   \n",
    "sigma_l_noc_all = np.array(sigma_l)\n",
    "pi_noc_all = np.array(pi)\n",
    "T_noc_all = np.array(T)\n",
    "T_per_cell_noc_all= np.array(T_per_cell)\n",
    "print(len(l))\n",
    "print(np.sum(l))"
   ]
  },
  {
   "cell_type": "code",
   "execution_count": 19,
   "metadata": {},
   "outputs": [
    {
     "name": "stdout",
     "output_type": "stream",
     "text": [
      "[3.08088493e-01 1.23326298e-01 3.86035582e-02 1.14513731e-02\n",
      " 3.51600828e-03 1.17401372e-03 5.43504506e-04 2.86377298e-04\n",
      " 2.15966869e-04]\n",
      "130\n",
      "[ 6275 10462  6944 12502 10790 12097  5950 14305 11153  5172  6322 14414\n",
      " 10266  5929  7818 24036 10499 13627 10503 10635  8626 19713 12938 21663\n",
      "  6613 15662  3724 13035  7770  9676  9441 31677  2309  3235 16402  4985\n",
      "  6637 13291  8016 12976 14361 12897  9185  5930 14442 11876 24513  5695\n",
      " 15976  6883 17115 13853 15207 11085  9217 12830  9512  4997  9329 19115\n",
      "  9577  6598  7293  8194 12723 11832  4458 10349  9951 18468 14516  8973\n",
      "  3354 13466 12446  3218  4658  3376 12731  8882 13659 11774  7779  8082\n",
      " 10891  5075  2150  7055  8667 14140 13731  3359  3076 15704  6028  7600\n",
      " 22441 12454 22638  9994 17184 17559 11968 14094  5119 25189  9065  3838\n",
      "  5724 13021  6914 14043 14097  6194 13103 21909 12100 10399  8906 15186\n",
      " 16137  8069  9684  7022 11166 18966  2010 15084  2747 12076]\n"
     ]
    },
    {
     "name": "stderr",
     "output_type": "stream",
     "text": [
      "/home/svensson/anaconda3/lib/python3.7/site-packages/ipykernel_launcher.py:34: VisibleDeprecationWarning: Creating an ndarray from ragged nested sequences (which is a list-or-tuple of lists-or-tuples-or ndarrays with different lengths or shapes) is deprecated. If you meant to do this, you must specify 'dtype=object' when creating the ndarray\n",
      "/home/svensson/anaconda3/lib/python3.7/site-packages/ipykernel_launcher.py:35: VisibleDeprecationWarning: Creating an ndarray from ragged nested sequences (which is a list-or-tuple of lists-or-tuples-or ndarrays with different lengths or shapes) is deprecated. If you meant to do this, you must specify 'dtype=object' when creating the ndarray\n",
      "/home/svensson/anaconda3/lib/python3.7/site-packages/ipykernel_launcher.py:36: VisibleDeprecationWarning: Creating an ndarray from ragged nested sequences (which is a list-or-tuple of lists-or-tuples-or ndarrays with different lengths or shapes) is deprecated. If you meant to do this, you must specify 'dtype=object' when creating the ndarray\n",
      "/home/svensson/anaconda3/lib/python3.7/site-packages/ipykernel_launcher.py:37: VisibleDeprecationWarning: Creating an ndarray from ragged nested sequences (which is a list-or-tuple of lists-or-tuples-or ndarrays with different lengths or shapes) is deprecated. If you meant to do this, you must specify 'dtype=object' when creating the ndarray\n"
     ]
    }
   ],
   "source": [
    "l = np.array(straight_noc_tracks['total tracks'])\n",
    "mu_l = []\n",
    "sigma_l = []\n",
    "pi = []\n",
    "T = []\n",
    "PS_noc = []\n",
    "T_per_cell = []\n",
    "for ii, key in enumerate(list(straight_noc_tracks.keys())[1:]):\n",
    "    \n",
    "    with open(key + \"/fitted_params_mu_sig_fixed2.json\", \"r\") as read_file:\n",
    "        params = json.load(read_file)\n",
    "    mu_tmp = []\n",
    "    sigma_tmp = []\n",
    "    pi_tmp = []\n",
    "    T_tmp = []\n",
    "    PS_tmp = []\n",
    "    T_av_tmp = []\n",
    "    for dist in range(1,10):\n",
    "        PS_tmp.append(len(straight_noc_tracks[key][dist])/l[ii])\n",
    "        for track in straight_noc_tracks[key][dist]:\n",
    "            mu_tmp.append(params[str(track)]['mu_l'])\n",
    "            sigma_tmp.append(params[str(track)]['sigma_l'])\n",
    "            pi_tmp.append(params[str(track)]['pi'])\n",
    "            T_tmp.append(params[str(track)]['T'])\n",
    "        T_average = np.mean(np.array(T_tmp), axis=0)\n",
    "        T_av_tmp.append(T_average)\n",
    "    T_per_cell.append(T_av_tmp)\n",
    "    mu_l.append(np.copy(mu_tmp))\n",
    "    sigma_l.append(np.copy(sigma_tmp))\n",
    "    pi.append(np.copy(pi_tmp))\n",
    "    T.append(np.copy(T_tmp))\n",
    "    PS_noc.append(np.copy(PS_tmp))\n",
    "    \n",
    "mu_l_noc = np.array(mu_l)   \n",
    "sigma_l_noc = np.array(sigma_l)\n",
    "pi_noc = np.array(pi)\n",
    "T_noc = np.array(T)\n",
    "PS_noc = np.array(PS_noc)\n",
    "T_per_cell_noc = np.array(T_per_cell)\n",
    "print(np.mean(PS_noc,axis=0))\n",
    "print(len(l))\n",
    "print(l)"
   ]
  },
  {
   "cell_type": "code",
   "execution_count": null,
   "metadata": {},
   "outputs": [],
   "source": []
  },
  {
   "cell_type": "code",
   "execution_count": 20,
   "metadata": {},
   "outputs": [
    {
     "data": {
      "text/plain": [
       "{'whiskers': [<matplotlib.lines.Line2D at 0x7ff9dd131c50>,\n",
       "  <matplotlib.lines.Line2D at 0x7ff9f92536d0>,\n",
       "  <matplotlib.lines.Line2D at 0x7ff9ce3e2310>,\n",
       "  <matplotlib.lines.Line2D at 0x7ff9ce392210>],\n",
       " 'caps': [<matplotlib.lines.Line2D at 0x7ff9f9253a50>,\n",
       "  <matplotlib.lines.Line2D at 0x7ff9ce451b90>,\n",
       "  <matplotlib.lines.Line2D at 0x7ff9d72ba450>,\n",
       "  <matplotlib.lines.Line2D at 0x7ff9d4f56ed0>],\n",
       " 'boxes': [<matplotlib.lines.Line2D at 0x7ff9dd131450>,\n",
       "  <matplotlib.lines.Line2D at 0x7ff9ce432610>],\n",
       " 'medians': [<matplotlib.lines.Line2D at 0x7ff9ce401290>,\n",
       "  <matplotlib.lines.Line2D at 0x7ff9ce1c1090>],\n",
       " 'fliers': [<matplotlib.lines.Line2D at 0x7ff9ce40df50>,\n",
       "  <matplotlib.lines.Line2D at 0x7ff9ce1df210>],\n",
       " 'means': []}"
      ]
     },
     "execution_count": 20,
     "metadata": {},
     "output_type": "execute_result"
    },
    {
     "data": {
      "image/png": "[encoded data removed]",
      "text/plain": [
       "<Figure size 432x288 with 1 Axes>"
      ]
     },
     "metadata": {
      "needs_background": "light"
     },
     "output_type": "display_data"
    }
   ],
   "source": [
    "plt.boxplot(np.exp(mu_l_noc[0]+sigma_l_noc[0]/2))"
   ]
  },
  {
   "cell_type": "code",
   "execution_count": 21,
   "metadata": {},
   "outputs": [
    {
     "name": "stderr",
     "output_type": "stream",
     "text": [
      "  2%|▏         | 3/134 [00:01<01:08,  1.92it/s]"
     ]
    },
    {
     "name": "stdout",
     "output_type": "stream",
     "text": [
      "Could not read params and/or track file for /data/Peroxisome tracks/ko pex14/20180621_HEK KO PEX14_pJK26_GFP90ms_Triggered_2_5 cell3.csv_Ordner\n"
     ]
    },
    {
     "name": "stderr",
     "output_type": "stream",
     "text": [
      " 51%|█████▏    | 69/134 [00:41<00:27,  2.37it/s]"
     ]
    },
    {
     "name": "stdout",
     "output_type": "stream",
     "text": [
      "Could not read params and/or track file for /data/Peroxisome tracks/ko pex14/20180427_KOPX14_pJK26_GFP90ms_Triggered_2_4cell3.xls_Ordner\n"
     ]
    },
    {
     "name": "stderr",
     "output_type": "stream",
     "text": [
      " 71%|███████   | 95/134 [00:58<00:24,  1.57it/s]"
     ]
    },
    {
     "name": "stdout",
     "output_type": "stream",
     "text": [
      "Could not read params and/or track file for /data/Peroxisome tracks/ko pex14/20180427_KOPEX14_pJK26_GFP90ms_Triggered_1_2.cell2.xls_Ordner\n"
     ]
    },
    {
     "name": "stderr",
     "output_type": "stream",
     "text": [
      "100%|██████████| 134/134 [01:21<00:00,  1.64it/s]\n"
     ]
    }
   ],
   "source": [
    "with open('/data/Peroxisome tracks/ko pex14/cell_list.txt') as f_norm:\n",
    "    kop_tables = f_norm.read().splitlines()\n",
    "    \n",
    "straight_kop_tracks, all_kop_tracks = filter_tracks(kop_tables)\n",
    "                    "
   ]
  },
  {
   "cell_type": "code",
   "execution_count": 65,
   "metadata": {},
   "outputs": [
    {
     "name": "stdout",
     "output_type": "stream",
     "text": [
      "131\n",
      "49385\n"
     ]
    },
    {
     "name": "stderr",
     "output_type": "stream",
     "text": [
      "/home/svensson/anaconda3/lib/python3.7/site-packages/ipykernel_launcher.py:35: VisibleDeprecationWarning:\n",
      "\n",
      "Creating an ndarray from ragged nested sequences (which is a list-or-tuple of lists-or-tuples-or ndarrays with different lengths or shapes) is deprecated. If you meant to do this, you must specify 'dtype=object' when creating the ndarray\n",
      "\n",
      "/home/svensson/anaconda3/lib/python3.7/site-packages/ipykernel_launcher.py:36: VisibleDeprecationWarning:\n",
      "\n",
      "Creating an ndarray from ragged nested sequences (which is a list-or-tuple of lists-or-tuples-or ndarrays with different lengths or shapes) is deprecated. If you meant to do this, you must specify 'dtype=object' when creating the ndarray\n",
      "\n",
      "/home/svensson/anaconda3/lib/python3.7/site-packages/ipykernel_launcher.py:38: VisibleDeprecationWarning:\n",
      "\n",
      "Creating an ndarray from ragged nested sequences (which is a list-or-tuple of lists-or-tuples-or ndarrays with different lengths or shapes) is deprecated. If you meant to do this, you must specify 'dtype=object' when creating the ndarray\n",
      "\n"
     ]
    }
   ],
   "source": [
    "l = np.array(all_kop_tracks['total tracks'])\n",
    "mu_l = []\n",
    "sigma_l = []\n",
    "pi = []\n",
    "T = []\n",
    "T_per_cell = []\n",
    "for ii, key in enumerate(list(all_kop_tracks.keys())[1:]):\n",
    "    \n",
    "    with open(key + \"/fitted_params_mu_sig_fixed2.json\", \"r\") as read_file:\n",
    "        params = json.load(read_file)\n",
    "    mu_tmp = []\n",
    "    sigma_tmp = []\n",
    "    pi_tmp = []\n",
    "    T_tmp = []\n",
    "    T_av_tmp =[]\n",
    "    for track in all_kop_tracks[key]:\n",
    "        mu_tmp.append(params[str(track)]['mu_l'])\n",
    "        sigma_tmp.append(params[str(track)]['sigma_l'])\n",
    "        pi_tmp.append(params[str(track)]['pi'])\n",
    "        T_tmp.append(params[str(track)]['T'])\n",
    "    T_average = np.mean(np.array(T_tmp), axis=0)    \n",
    "    pi_average = np.mean(np.array(pi_tmp), axis=0)\n",
    "    #for dist in range(1,10):\n",
    "    #    PS_tmp.append(len(straight_norm_tracks[key][dist])/l[ii])\n",
    "    #   \n",
    "   # \n",
    "    #    T_average = np.mean(np.array(T_tmp), axis=0)\n",
    "    #    T_av_tmp.append(T_average)\n",
    "    T_per_cell.append(T_average)\n",
    "    mu_l.append(np.copy(mu_tmp))\n",
    "    sigma_l.append(np.copy(sigma_tmp))\n",
    "    pi.append(np.copy(pi_average))\n",
    "    T.append(np.copy(T_tmp))\n",
    "    \n",
    "mu_l_kop_all = np.array(mu_l)   \n",
    "sigma_l_kop_all = np.array(sigma_l)\n",
    "pi_kop_all = np.array(pi)\n",
    "T_kop_all = np.array(T)\n",
    "T_per_cell_kop_all= np.array(T_per_cell)\n",
    "print(len(l))\n",
    "print(np.sum(l))\n"
   ]
  },
  {
   "cell_type": "code",
   "execution_count": 23,
   "metadata": {},
   "outputs": [
    {
     "name": "stdout",
     "output_type": "stream",
     "text": [
      "131\n",
      "49385\n"
     ]
    },
    {
     "name": "stderr",
     "output_type": "stream",
     "text": [
      "/home/svensson/anaconda3/lib/python3.7/site-packages/ipykernel_launcher.py:38: VisibleDeprecationWarning: Creating an ndarray from ragged nested sequences (which is a list-or-tuple of lists-or-tuples-or ndarrays with different lengths or shapes) is deprecated. If you meant to do this, you must specify 'dtype=object' when creating the ndarray\n",
      "/home/svensson/anaconda3/lib/python3.7/site-packages/ipykernel_launcher.py:39: VisibleDeprecationWarning: Creating an ndarray from ragged nested sequences (which is a list-or-tuple of lists-or-tuples-or ndarrays with different lengths or shapes) is deprecated. If you meant to do this, you must specify 'dtype=object' when creating the ndarray\n",
      "/home/svensson/anaconda3/lib/python3.7/site-packages/ipykernel_launcher.py:40: VisibleDeprecationWarning: Creating an ndarray from ragged nested sequences (which is a list-or-tuple of lists-or-tuples-or ndarrays with different lengths or shapes) is deprecated. If you meant to do this, you must specify 'dtype=object' when creating the ndarray\n",
      "/home/svensson/anaconda3/lib/python3.7/site-packages/ipykernel_launcher.py:41: VisibleDeprecationWarning: Creating an ndarray from ragged nested sequences (which is a list-or-tuple of lists-or-tuples-or ndarrays with different lengths or shapes) is deprecated. If you meant to do this, you must specify 'dtype=object' when creating the ndarray\n"
     ]
    }
   ],
   "source": [
    "l = np.array(straight_kop_tracks['total tracks'])\n",
    "mu_l = []\n",
    "sigma_l = []\n",
    "pi = []\n",
    "T = []\n",
    "T_per_cell = []\n",
    "PS_kop = []\n",
    "for ii, key in enumerate(list(straight_kop_tracks.keys())[1:]):\n",
    "    \n",
    "    with open(key + \"/fitted_params_mu_sig_fixed2.json\", \"r\") as read_file:\n",
    "        params = json.load(read_file)\n",
    "    mu_tmp = []\n",
    "    sigma_tmp = []\n",
    "    pi_tmp = []\n",
    "    T_tmp = []\n",
    "    PS_tmp = []\n",
    "    T_av_tmp = []\n",
    "    for dist in range(1,10):\n",
    "        PS_tmp.append(len(straight_kop_tracks[key][dist])/l[ii])\n",
    "        for track in straight_kop_tracks[key][dist]:\n",
    "            mu_tmp.append(params[str(track)]['mu_l'])\n",
    "            sigma_tmp.append(params[str(track)]['sigma_l'])\n",
    "            pi_tmp.append(params[str(track)]['pi'])\n",
    "            T_tmp.append(params[str(track)]['T'])\n",
    "        if len(T_tmp)>0:\n",
    "            T_average = np.mean(np.array(T_tmp), axis=0)\n",
    "            T_av_tmp.append(T_average)\n",
    "    #if len(T_av_tmp)\n",
    "    if len(T_av_tmp) > 0:\n",
    "        T_per_cell.append(T_av_tmp)\n",
    "    \n",
    "    mu_l.append(np.copy(mu_tmp))\n",
    "    sigma_l.append(np.copy(sigma_tmp))\n",
    "    pi.append(np.copy(pi_tmp))\n",
    "    T.append(np.copy(T_tmp))\n",
    "    PS_kop.append(np.copy(PS_tmp))\n",
    "        \n",
    "mu_l_kop = np.array(mu_l)   \n",
    "sigma_l_kop = np.array(sigma_l)\n",
    "pi_kop = np.array(pi)\n",
    "T_kop = np.array(T)\n",
    "PS_kop = np.array(PS_kop)\n",
    "T_per_cell_kop = np.array(T_per_cell)\n",
    "print(len(l))\n",
    "print(np.sum(l))"
   ]
  },
  {
   "cell_type": "code",
   "execution_count": 24,
   "metadata": {},
   "outputs": [
    {
     "name": "stderr",
     "output_type": "stream",
     "text": [
      "100%|██████████| 83/83 [03:31<00:00,  2.55s/it]\n"
     ]
    }
   ],
   "source": [
    "with open('/data/Peroxisome tracks/S44A/cell_list.txt') as f_norm:\n",
    "    S44A_tables = f_norm.read().splitlines()\n",
    "\n",
    "straight_S44A_tracks, all_S44A_tracks = filter_tracks(S44A_tables, new_data=True)"
   ]
  },
  {
   "cell_type": "code",
   "execution_count": 85,
   "metadata": {},
   "outputs": [
    {
     "name": "stdout",
     "output_type": "stream",
     "text": [
      "83\n",
      "75646\n"
     ]
    },
    {
     "name": "stderr",
     "output_type": "stream",
     "text": [
      "/home/svensson/anaconda3/lib/python3.7/site-packages/ipykernel_launcher.py:35: VisibleDeprecationWarning:\n",
      "\n",
      "Creating an ndarray from ragged nested sequences (which is a list-or-tuple of lists-or-tuples-or ndarrays with different lengths or shapes) is deprecated. If you meant to do this, you must specify 'dtype=object' when creating the ndarray\n",
      "\n",
      "/home/svensson/anaconda3/lib/python3.7/site-packages/ipykernel_launcher.py:36: VisibleDeprecationWarning:\n",
      "\n",
      "Creating an ndarray from ragged nested sequences (which is a list-or-tuple of lists-or-tuples-or ndarrays with different lengths or shapes) is deprecated. If you meant to do this, you must specify 'dtype=object' when creating the ndarray\n",
      "\n",
      "/home/svensson/anaconda3/lib/python3.7/site-packages/ipykernel_launcher.py:38: VisibleDeprecationWarning:\n",
      "\n",
      "Creating an ndarray from ragged nested sequences (which is a list-or-tuple of lists-or-tuples-or ndarrays with different lengths or shapes) is deprecated. If you meant to do this, you must specify 'dtype=object' when creating the ndarray\n",
      "\n"
     ]
    }
   ],
   "source": [
    "l = np.array(all_S44A_tracks['total tracks'])\n",
    "mu_l = []\n",
    "sigma_l = []\n",
    "pi = []\n",
    "T = []\n",
    "T_per_cell = []\n",
    "for ii, key in enumerate(list(all_S44A_tracks.keys())[1:]):\n",
    "    \n",
    "    with open(key + \"/fitted_params_mu_sig_fixed2.json\", \"r\") as read_file:\n",
    "        params = json.load(read_file)\n",
    "    mu_tmp = []\n",
    "    sigma_tmp = []\n",
    "    pi_tmp = []\n",
    "    T_tmp = []\n",
    "    T_av_tmp =[]\n",
    "    for track in all_S44A_tracks[key]:\n",
    "        mu_tmp.append(params[str(track)]['mu_l'])\n",
    "        sigma_tmp.append(params[str(track)]['sigma_l'])\n",
    "        pi_tmp.append(params[str(track)]['pi'])\n",
    "        T_tmp.append(params[str(track)]['T'])\n",
    "    T_average = np.mean(np.array(T_tmp), axis=0)    \n",
    "    pi_average = np.mean(np.array(pi_tmp), axis=0)\n",
    "    #for dist in range(1,10):\n",
    "    #    PS_tmp.append(len(straight_norm_tracks[key][dist])/l[ii])\n",
    "    #   \n",
    "   # \n",
    "    #    T_average = np.mean(np.array(T_tmp), axis=0)\n",
    "    #    T_av_tmp.append(T_average)\n",
    "    T_per_cell.append(T_average)\n",
    "    mu_l.append(np.copy(mu_tmp))\n",
    "    sigma_l.append(np.copy(sigma_tmp))\n",
    "    pi.append(np.copy(pi_average))\n",
    "    T.append(np.copy(T_tmp))\n",
    "    \n",
    "mu_l_S44A_all = np.array(mu_l)   \n",
    "sigma_l_S44A_all = np.array(sigma_l)\n",
    "pi_S44A_all = np.array(pi)\n",
    "T_S44A_all = np.array(T)\n",
    "T_per_cell_S44A_all= np.array(T_per_cell)\n",
    "print(len(l))\n",
    "print(np.sum(l))"
   ]
  },
  {
   "cell_type": "code",
   "execution_count": 26,
   "metadata": {},
   "outputs": [
    {
     "name": "stdout",
     "output_type": "stream",
     "text": [
      "83\n",
      "75646\n"
     ]
    },
    {
     "name": "stderr",
     "output_type": "stream",
     "text": [
      "/home/svensson/anaconda3/lib/python3.7/site-packages/ipykernel_launcher.py:35: VisibleDeprecationWarning: Creating an ndarray from ragged nested sequences (which is a list-or-tuple of lists-or-tuples-or ndarrays with different lengths or shapes) is deprecated. If you meant to do this, you must specify 'dtype=object' when creating the ndarray\n",
      "/home/svensson/anaconda3/lib/python3.7/site-packages/ipykernel_launcher.py:36: VisibleDeprecationWarning: Creating an ndarray from ragged nested sequences (which is a list-or-tuple of lists-or-tuples-or ndarrays with different lengths or shapes) is deprecated. If you meant to do this, you must specify 'dtype=object' when creating the ndarray\n",
      "/home/svensson/anaconda3/lib/python3.7/site-packages/ipykernel_launcher.py:37: VisibleDeprecationWarning: Creating an ndarray from ragged nested sequences (which is a list-or-tuple of lists-or-tuples-or ndarrays with different lengths or shapes) is deprecated. If you meant to do this, you must specify 'dtype=object' when creating the ndarray\n",
      "/home/svensson/anaconda3/lib/python3.7/site-packages/ipykernel_launcher.py:38: VisibleDeprecationWarning: Creating an ndarray from ragged nested sequences (which is a list-or-tuple of lists-or-tuples-or ndarrays with different lengths or shapes) is deprecated. If you meant to do this, you must specify 'dtype=object' when creating the ndarray\n"
     ]
    }
   ],
   "source": [
    "l = np.array(straight_S44A_tracks['total tracks'])\n",
    "mu_l = []\n",
    "sigma_l = []\n",
    "pi = []\n",
    "T = []\n",
    "T_per_cell = []\n",
    "PS_S44A = []\n",
    "for ii, key in enumerate(list(straight_S44A_tracks.keys())[1:]):\n",
    "    \n",
    "    with open(key + '/' + \"fitted_params_mu_sig_fixed2.json\", \"r\") as read_file:\n",
    "        params = json.load(read_file)\n",
    "    mu_tmp = []\n",
    "    sigma_tmp = []\n",
    "    pi_tmp = []\n",
    "    T_tmp = []\n",
    "    PS_tmp = []\n",
    "    T_av_tmp = []\n",
    "    for dist in range(1,10):\n",
    "        PS_tmp.append(len(straight_S44A_tracks[key][dist])/l[ii])\n",
    "        for track in straight_S44A_tracks[key][dist]:\n",
    "            mu_tmp.append(params[str(track)]['mu_l'])\n",
    "            sigma_tmp.append(params[str(track)]['sigma_l'])\n",
    "            pi_tmp.append(params[str(track)]['pi'])\n",
    "            T_tmp.append(params[str(track)]['T'])\n",
    "        T_average = np.mean(np.array(T_tmp), axis=0)\n",
    "        T_av_tmp.append(T_average)\n",
    "    T_per_cell.append(T_av_tmp)\n",
    "    mu_l.append(np.copy(mu_tmp))\n",
    "    sigma_l.append(np.copy(sigma_tmp))\n",
    "    pi.append(np.copy(pi_tmp))\n",
    "    T.append(np.copy(T_tmp))\n",
    "    PS_S44A.append(np.copy(PS_tmp))\n",
    "    T_average = np.mean(np.array(T_tmp), axis=0)\n",
    "    \n",
    "mu_l_S44A = np.array(mu_l)   \n",
    "sigma_l_S44A = np.array(sigma_l)\n",
    "pi_S44A = np.array(pi)\n",
    "T_S44A = np.array(T)\n",
    "PS_S44A = np.array(PS_S44A)\n",
    "T_per_cell_S44A = np.array(T_per_cell)\n",
    "print(len(l))\n",
    "print(np.sum(l))"
   ]
  },
  {
   "cell_type": "code",
   "execution_count": 36,
   "metadata": {},
   "outputs": [
    {
     "name": "stderr",
     "output_type": "stream",
     "text": [
      " 16%|█▌        | 17/107 [00:57<05:09,  3.44s/it]"
     ]
    },
    {
     "name": "stdout",
     "output_type": "stream",
     "text": [
      "Could not read params and/or track file for /data/Peroxisome tracks/S44D/20171130_KOPEX14_pJK55_S44D_GFP90ms_Triggered_3-cell2/20171130_KOPEX14_pJK55_S44D_GFP90ms_Triggered_3-cell2.xls\n"
     ]
    },
    {
     "name": "stderr",
     "output_type": "stream",
     "text": [
      "100%|██████████| 107/107 [06:37<00:00,  3.71s/it]\n"
     ]
    }
   ],
   "source": [
    "with open('/data/Peroxisome tracks/S44D/cell_list.txt') as f_norm:\n",
    "    S44D_tables = f_norm.read().splitlines()\n",
    "\n",
    "straight_S44D_tracks, all_S44D_tracks = filter_tracks(S44D_tables, new_data=True)                "
   ]
  },
  {
   "cell_type": "code",
   "execution_count": 68,
   "metadata": {},
   "outputs": [
    {
     "name": "stdout",
     "output_type": "stream",
     "text": [
      "106\n",
      "129667\n"
     ]
    },
    {
     "name": "stderr",
     "output_type": "stream",
     "text": [
      "/home/svensson/anaconda3/lib/python3.7/site-packages/ipykernel_launcher.py:35: VisibleDeprecationWarning:\n",
      "\n",
      "Creating an ndarray from ragged nested sequences (which is a list-or-tuple of lists-or-tuples-or ndarrays with different lengths or shapes) is deprecated. If you meant to do this, you must specify 'dtype=object' when creating the ndarray\n",
      "\n",
      "/home/svensson/anaconda3/lib/python3.7/site-packages/ipykernel_launcher.py:36: VisibleDeprecationWarning:\n",
      "\n",
      "Creating an ndarray from ragged nested sequences (which is a list-or-tuple of lists-or-tuples-or ndarrays with different lengths or shapes) is deprecated. If you meant to do this, you must specify 'dtype=object' when creating the ndarray\n",
      "\n",
      "/home/svensson/anaconda3/lib/python3.7/site-packages/ipykernel_launcher.py:38: VisibleDeprecationWarning:\n",
      "\n",
      "Creating an ndarray from ragged nested sequences (which is a list-or-tuple of lists-or-tuples-or ndarrays with different lengths or shapes) is deprecated. If you meant to do this, you must specify 'dtype=object' when creating the ndarray\n",
      "\n"
     ]
    }
   ],
   "source": [
    "l = np.array(all_S44D_tracks['total tracks'])\n",
    "mu_l = []\n",
    "sigma_l = []\n",
    "pi = []\n",
    "T = []\n",
    "T_per_cell = []\n",
    "for ii, key in enumerate(list(all_S44D_tracks.keys())[1:]):\n",
    "    \n",
    "    with open(key + \"/fitted_params_mu_sig_fixed2.json\", \"r\") as read_file:\n",
    "        params = json.load(read_file)\n",
    "    mu_tmp = []\n",
    "    sigma_tmp = []\n",
    "    pi_tmp = []\n",
    "    T_tmp = []\n",
    "    T_av_tmp =[]\n",
    "    for track in all_S44D_tracks[key]:\n",
    "        mu_tmp.append(params[str(track)]['mu_l'])\n",
    "        sigma_tmp.append(params[str(track)]['sigma_l'])\n",
    "        pi_tmp.append(params[str(track)]['pi'])\n",
    "        T_tmp.append(params[str(track)]['T'])\n",
    "    T_average = np.mean(np.array(T_tmp), axis=0)    \n",
    "    pi_average = np.mean(np.array(pi_tmp), axis=0)\n",
    "    #for dist in range(1,10):\n",
    "    #    PS_tmp.append(len(straight_norm_tracks[key][dist])/l[ii])\n",
    "    #   \n",
    "   # \n",
    "    #    T_average = np.mean(np.array(T_tmp), axis=0)\n",
    "    #    T_av_tmp.append(T_average)\n",
    "    T_per_cell.append(T_average)\n",
    "    mu_l.append(np.copy(mu_tmp))\n",
    "    sigma_l.append(np.copy(sigma_tmp))\n",
    "    pi.append(np.copy(pi_average))\n",
    "    T.append(np.copy(T_tmp))\n",
    "    \n",
    "mu_l_S44D_all = np.array(mu_l)   \n",
    "sigma_l_S44D_all = np.array(sigma_l)\n",
    "pi_S44D_all = np.array(pi)\n",
    "T_S44D_all = np.array(T)\n",
    "T_per_cell_S44D_all= np.array(T_per_cell)\n",
    "print(len(l))\n",
    "print(np.sum(l))"
   ]
  },
  {
   "cell_type": "code",
   "execution_count": 38,
   "metadata": {},
   "outputs": [
    {
     "name": "stdout",
     "output_type": "stream",
     "text": [
      "106\n",
      "129667\n"
     ]
    },
    {
     "name": "stderr",
     "output_type": "stream",
     "text": [
      "/home/svensson/anaconda3/lib/python3.7/site-packages/ipykernel_launcher.py:35: VisibleDeprecationWarning: Creating an ndarray from ragged nested sequences (which is a list-or-tuple of lists-or-tuples-or ndarrays with different lengths or shapes) is deprecated. If you meant to do this, you must specify 'dtype=object' when creating the ndarray\n",
      "/home/svensson/anaconda3/lib/python3.7/site-packages/ipykernel_launcher.py:36: VisibleDeprecationWarning: Creating an ndarray from ragged nested sequences (which is a list-or-tuple of lists-or-tuples-or ndarrays with different lengths or shapes) is deprecated. If you meant to do this, you must specify 'dtype=object' when creating the ndarray\n",
      "/home/svensson/anaconda3/lib/python3.7/site-packages/ipykernel_launcher.py:37: VisibleDeprecationWarning: Creating an ndarray from ragged nested sequences (which is a list-or-tuple of lists-or-tuples-or ndarrays with different lengths or shapes) is deprecated. If you meant to do this, you must specify 'dtype=object' when creating the ndarray\n",
      "/home/svensson/anaconda3/lib/python3.7/site-packages/ipykernel_launcher.py:38: VisibleDeprecationWarning: Creating an ndarray from ragged nested sequences (which is a list-or-tuple of lists-or-tuples-or ndarrays with different lengths or shapes) is deprecated. If you meant to do this, you must specify 'dtype=object' when creating the ndarray\n"
     ]
    }
   ],
   "source": [
    "l = np.array(straight_S44D_tracks['total tracks'])\n",
    "mu_l = []\n",
    "sigma_l = []\n",
    "pi = []\n",
    "T = []\n",
    "PS_S44D = []\n",
    "T_per_cell =[]\n",
    "for ii, key in enumerate(list(straight_S44D_tracks.keys())[1:]):\n",
    "    \n",
    "    with open(key + '/' + \"fitted_params_mu_sig_fixed2.json\", \"r\") as read_file:\n",
    "        params = json.load(read_file)\n",
    "    mu_tmp = []\n",
    "    sigma_tmp = []\n",
    "    pi_tmp = []\n",
    "    T_tmp = []\n",
    "    PS_tmp = []\n",
    "    T_av_tmp = []\n",
    "    for dist in range(1,10):\n",
    "        PS_tmp.append(len(straight_S44D_tracks[key][dist])/l[ii])\n",
    "        for track in straight_S44D_tracks[key][dist]:\n",
    "            mu_tmp.append(params[str(track)]['mu_l'])\n",
    "            sigma_tmp.append(params[str(track)]['sigma_l'])\n",
    "            pi_tmp.append(params[str(track)]['pi'])\n",
    "            T_tmp.append(params[str(track)]['T'])\n",
    "        T_average = np.mean(np.array(T_tmp), axis=0)\n",
    "        T_av_tmp.append(T_average)\n",
    "    T_per_cell.append(T_av_tmp)\n",
    "    mu_l.append(np.copy(mu_tmp))\n",
    "    sigma_l.append(np.copy(sigma_tmp))\n",
    "    pi.append(np.copy(pi_tmp))\n",
    "    T.append(np.copy(T_tmp))\n",
    "    PS_S44D.append(np.copy(PS_tmp))\n",
    "    T_average = np.mean(np.array(T_tmp), axis=0)\n",
    "    \n",
    "mu_l_S44D = np.array(mu_l)   \n",
    "sigma_l_S44D = np.array(sigma_l)\n",
    "pi_S44D = np.array(pi)\n",
    "T_S44D = np.array(T)\n",
    "PS_S44D = np.array(PS_S44D)\n",
    "T_per_cell_S44D = np.array(T_per_cell)\n",
    "print(len(l))\n",
    "print(np.sum(l))"
   ]
  },
  {
   "cell_type": "code",
   "execution_count": 30,
   "metadata": {},
   "outputs": [
    {
     "name": "stderr",
     "output_type": "stream",
     "text": [
      " 60%|██████    | 53/88 [01:56<00:58,  1.68s/it]"
     ]
    },
    {
     "name": "stdout",
     "output_type": "stream",
     "text": [
      "Could not read params and/or track file for /data/Peroxisome tracks/S44E/20180130_KOPEX14_pJK56_S44E_GFP90ms_Triggered_1 cell1/20180130_KOPEX14_pJK56_S44E_GFP90ms_Triggered_1 cell1.xls\n"
     ]
    },
    {
     "name": "stderr",
     "output_type": "stream",
     "text": [
      " 62%|██████▎   | 55/88 [01:57<00:41,  1.24s/it]"
     ]
    },
    {
     "name": "stdout",
     "output_type": "stream",
     "text": [
      "Could not read params and/or track file for /data/Peroxisome tracks/S44E/20180130_KOPEX14_pJK56_S44E_GFP90ms_Triggered_7 cell1/20180130_KOPEX14_pJK56_S44E_GFP90ms_Triggered_7 cell1.xls\n"
     ]
    },
    {
     "name": "stderr",
     "output_type": "stream",
     "text": [
      " 64%|██████▎   | 56/88 [01:58<00:43,  1.37s/it]"
     ]
    },
    {
     "name": "stdout",
     "output_type": "stream",
     "text": [
      "Could not read params and/or track file for /data/Peroxisome tracks/S44E/20171206_KOPEX14_pJK56_S44E_GFP90ms_Triggered_5-cell1/20171206_KOPEX14_pJK56_S44E_GFP90ms_Triggered_5-cell1.xls\n"
     ]
    },
    {
     "name": "stderr",
     "output_type": "stream",
     "text": [
      " 65%|██████▍   | 57/88 [01:59<00:40,  1.31s/it]"
     ]
    },
    {
     "name": "stdout",
     "output_type": "stream",
     "text": [
      "Could not read params and/or track file for /data/Peroxisome tracks/S44E/20180130_KOPEX14_pJK56_S44E_GFP90ms_Triggered_13 cell2/20180130_KOPEX14_pJK56_S44E_GFP90ms_Triggered_13 cell2.xls\n"
     ]
    },
    {
     "name": "stderr",
     "output_type": "stream",
     "text": [
      " 66%|██████▌   | 58/88 [02:00<00:31,  1.05s/it]"
     ]
    },
    {
     "name": "stdout",
     "output_type": "stream",
     "text": [
      "Could not read params and/or track file for /data/Peroxisome tracks/S44E/20171130_KOPEX14_pJK56_S44E_GFP90ms_Triggered_10-cell2/20171130_KOPEX14_pJK56_S44E_GFP90ms_Triggered_10-cell2.xls\n"
     ]
    },
    {
     "name": "stderr",
     "output_type": "stream",
     "text": [
      " 67%|██████▋   | 59/88 [02:00<00:26,  1.11it/s]"
     ]
    },
    {
     "name": "stdout",
     "output_type": "stream",
     "text": [
      "Could not read params and/or track file for /data/Peroxisome tracks/S44E/20171130_KOPEX14_pJK56_S44E_GFP90ms_Triggered_11-cell1/20171130_KOPEX14_pJK56_S44E_GFP90ms_Triggered_11-cell1.xls\n"
     ]
    },
    {
     "name": "stderr",
     "output_type": "stream",
     "text": [
      " 68%|██████▊   | 60/88 [02:01<00:19,  1.44it/s]"
     ]
    },
    {
     "name": "stdout",
     "output_type": "stream",
     "text": [
      "Could not read params and/or track file for /data/Peroxisome tracks/S44E/20180130_KOPEX14_pJK56_S44E_GFP90ms_Triggered_7 cell2/20180130_KOPEX14_pJK56_S44E_GFP90ms_Triggered_7 cell2.xls\n"
     ]
    },
    {
     "name": "stderr",
     "output_type": "stream",
     "text": [
      " 69%|██████▉   | 61/88 [02:01<00:16,  1.62it/s]"
     ]
    },
    {
     "name": "stdout",
     "output_type": "stream",
     "text": [
      "Could not read params and/or track file for /data/Peroxisome tracks/S44E/20171206_KOPEX14_pJK56_S44E_GFP90ms_Triggered_9-cell3/20171206_KOPEX14_pJK56_S44E_GFP90ms_Triggered_9-cell3.xls\n"
     ]
    },
    {
     "name": "stderr",
     "output_type": "stream",
     "text": [
      " 70%|███████   | 62/88 [02:02<00:18,  1.38it/s]"
     ]
    },
    {
     "name": "stdout",
     "output_type": "stream",
     "text": [
      "Could not read params and/or track file for /data/Peroxisome tracks/S44E/20171206_KOPEX14_pJK56_S44E_GFP90ms_Triggered_4-cell1/20171206_KOPEX14_pJK56_S44E_GFP90ms_Triggered_4-cell1.xls\n"
     ]
    },
    {
     "name": "stderr",
     "output_type": "stream",
     "text": [
      " 72%|███████▏  | 63/88 [02:02<00:15,  1.66it/s]"
     ]
    },
    {
     "name": "stdout",
     "output_type": "stream",
     "text": [
      "Could not read params and/or track file for /data/Peroxisome tracks/S44E/20180130_KOPEX14_pJK56_S44E_GFP90ms_Triggered_14 cell3/20180130_KOPEX14_pJK56_S44E_GFP90ms_Triggered_14 cell3.xls\n",
      "Could not read params and/or track file for /data/Peroxisome tracks/S44E/20180130_KOPEX14_pJK56_S44E_GFP90ms_Triggered 1_cell2/20180130_KOPEX14_pJK56_S44E_GFP90ms_Triggered 1_cell2.xls\n"
     ]
    },
    {
     "name": "stderr",
     "output_type": "stream",
     "text": [
      " 74%|███████▍  | 65/88 [02:03<00:10,  2.09it/s]"
     ]
    },
    {
     "name": "stdout",
     "output_type": "stream",
     "text": [
      "Could not read params and/or track file for /data/Peroxisome tracks/S44E/20180130_KOPEX14_pJK56_S44E_GFP90ms_Triggered_12 cell2/20180130_KOPEX14_pJK56_S44E_GFP90ms_Triggered_12 cell2.xls\n"
     ]
    },
    {
     "name": "stderr",
     "output_type": "stream",
     "text": [
      " 75%|███████▌  | 66/88 [02:03<00:10,  2.17it/s]"
     ]
    },
    {
     "name": "stdout",
     "output_type": "stream",
     "text": [
      "Could not read params and/or track file for /data/Peroxisome tracks/S44E/20180130_KOPEX14_pJK56_S44E_GFP90ms_Triggered_4 cell1/20180130_KOPEX14_pJK56_S44E_GFP90ms_Triggered_4 cell1.xls\n"
     ]
    },
    {
     "name": "stderr",
     "output_type": "stream",
     "text": [
      " 76%|███████▌  | 67/88 [02:04<00:09,  2.32it/s]"
     ]
    },
    {
     "name": "stdout",
     "output_type": "stream",
     "text": [
      "Could not read params and/or track file for /data/Peroxisome tracks/S44E/20180130_KOPEX14_pJK56_S44E_GFP90ms_Triggered_8 cell1/20180130_KOPEX14_pJK56_S44E_GFP90ms_Triggered_8 cell1.xls\n"
     ]
    },
    {
     "name": "stderr",
     "output_type": "stream",
     "text": [
      " 77%|███████▋  | 68/88 [02:05<00:12,  1.64it/s]"
     ]
    },
    {
     "name": "stdout",
     "output_type": "stream",
     "text": [
      "Could not read params and/or track file for /data/Peroxisome tracks/S44E/20171130_KOPEX14_pJK56_S44E_GFP90ms_Triggered_9-cell1/20171130_KOPEX14_pJK56_S44E_GFP90ms_Triggered_9-cell1.xls\n"
     ]
    },
    {
     "name": "stderr",
     "output_type": "stream",
     "text": [
      " 78%|███████▊  | 69/88 [02:05<00:11,  1.69it/s]"
     ]
    },
    {
     "name": "stdout",
     "output_type": "stream",
     "text": [
      "Could not read params and/or track file for /data/Peroxisome tracks/S44E/20180130_KOPEX14_pJK56_S44E_GFP90ms_Triggered_14 cell2/20180130_KOPEX14_pJK56_S44E_GFP90ms_Triggered_14 cell2.xls\n"
     ]
    },
    {
     "name": "stderr",
     "output_type": "stream",
     "text": [
      " 80%|███████▉  | 70/88 [02:06<00:10,  1.78it/s]"
     ]
    },
    {
     "name": "stdout",
     "output_type": "stream",
     "text": [
      "Could not read params and/or track file for /data/Peroxisome tracks/S44E/20171206_KOPEX14_pJK56_S44E_GFP90ms_Triggered_2-cell1/20171206_KOPEX14_pJK56_S44E_GFP90ms_Triggered_2-cell1.xls\n"
     ]
    },
    {
     "name": "stderr",
     "output_type": "stream",
     "text": [
      " 81%|████████  | 71/88 [02:06<00:09,  1.77it/s]"
     ]
    },
    {
     "name": "stdout",
     "output_type": "stream",
     "text": [
      "Could not read params and/or track file for /data/Peroxisome tracks/S44E/20171130_KOPEX14_pJK56_S44E_GFP90ms_Triggered_5-cell1/20171130_KOPEX14_pJK56_S44E_GFP90ms_Triggered_5-cell1.xls\n"
     ]
    },
    {
     "name": "stderr",
     "output_type": "stream",
     "text": [
      " 82%|████████▏ | 72/88 [02:07<00:10,  1.46it/s]"
     ]
    },
    {
     "name": "stdout",
     "output_type": "stream",
     "text": [
      "Could not read params and/or track file for /data/Peroxisome tracks/S44E/20171206_KOPEX14_pJK56_S44E_GFP90ms_Triggered_14-cell2/20171206_KOPEX14_pJK56_S44E_GFP90ms_Triggered_14-cell2.xls\n"
     ]
    },
    {
     "name": "stderr",
     "output_type": "stream",
     "text": [
      " 83%|████████▎ | 73/88 [02:08<00:09,  1.52it/s]"
     ]
    },
    {
     "name": "stdout",
     "output_type": "stream",
     "text": [
      "Could not read params and/or track file for /data/Peroxisome tracks/S44E/20171206_KOPEX14_pJK56_S44E_GFP90ms_Triggered_6-cell1/20171206_KOPEX14_pJK56_S44E_GFP90ms_Triggered_6-cell1.xls\n"
     ]
    },
    {
     "name": "stderr",
     "output_type": "stream",
     "text": [
      " 84%|████████▍ | 74/88 [02:09<00:11,  1.18it/s]"
     ]
    },
    {
     "name": "stdout",
     "output_type": "stream",
     "text": [
      "Could not read params and/or track file for /data/Peroxisome tracks/S44E/20180130_KOPEX14_pJK56_S44E_GFP90ms_Triggered_9 cell1/20180130_KOPEX14_pJK56_S44E_GFP90ms_Triggered_9 cell1.xls\n"
     ]
    },
    {
     "name": "stderr",
     "output_type": "stream",
     "text": [
      " 85%|████████▌ | 75/88 [02:10<00:09,  1.34it/s]"
     ]
    },
    {
     "name": "stdout",
     "output_type": "stream",
     "text": [
      "Could not read params and/or track file for /data/Peroxisome tracks/S44E/20171130_KOPEX14_pJK56_S44E_GFP90ms_Triggered_5-cell2/20171130_KOPEX14_pJK56_S44E_GFP90ms_Triggered_5-cell2.xls\n"
     ]
    },
    {
     "name": "stderr",
     "output_type": "stream",
     "text": [
      " 86%|████████▋ | 76/88 [02:11<00:11,  1.06it/s]"
     ]
    },
    {
     "name": "stdout",
     "output_type": "stream",
     "text": [
      "Could not read params and/or track file for /data/Peroxisome tracks/S44E/20180130_KOPEX14_pJK56_S44E_GFP90ms_Triggered_10 cell1/20180130_KOPEX14_pJK56_S44E_GFP90ms_Triggered_10 cell1.xls\n"
     ]
    },
    {
     "name": "stderr",
     "output_type": "stream",
     "text": [
      " 88%|████████▊ | 77/88 [02:12<00:09,  1.21it/s]"
     ]
    },
    {
     "name": "stdout",
     "output_type": "stream",
     "text": [
      "Could not read params and/or track file for /data/Peroxisome tracks/S44E/20171206_KOPEX14_pJK56_S44E_GFP90ms_Triggered_12-cell2/20171206_KOPEX14_pJK56_S44E_GFP90ms_Triggered_12-cell2.xls\n"
     ]
    },
    {
     "name": "stderr",
     "output_type": "stream",
     "text": [
      " 89%|████████▊ | 78/88 [02:12<00:06,  1.52it/s]"
     ]
    },
    {
     "name": "stdout",
     "output_type": "stream",
     "text": [
      "Could not read params and/or track file for /data/Peroxisome tracks/S44E/20180130_KOPEX14_pJK56_S44E_GFP90ms_Triggered_6 cell2/20180130_KOPEX14_pJK56_S44E_GFP90ms_Triggered_6 cell2.xls\n"
     ]
    },
    {
     "name": "stderr",
     "output_type": "stream",
     "text": [
      " 90%|████████▉ | 79/88 [02:13<00:06,  1.42it/s]"
     ]
    },
    {
     "name": "stdout",
     "output_type": "stream",
     "text": [
      "Could not read params and/or track file for /data/Peroxisome tracks/S44E/20171130_KOPEX14_pJK56_S44E_GFP90ms_Triggered_11-cell2/20171130_KOPEX14_pJK56_S44E_GFP90ms_Triggered_11-cell2.xls\n"
     ]
    },
    {
     "name": "stderr",
     "output_type": "stream",
     "text": [
      " 91%|█████████ | 80/88 [02:13<00:04,  1.75it/s]"
     ]
    },
    {
     "name": "stdout",
     "output_type": "stream",
     "text": [
      "Could not read params and/or track file for /data/Peroxisome tracks/S44E/20180130_KOPEX14_pJK56_S44E_GFP90ms_Triggered_2 cell2/20180130_KOPEX14_pJK56_S44E_GFP90ms_Triggered_2 cell2.xls\n",
      "Could not read params and/or track file for /data/Peroxisome tracks/S44E/20180130_KOPEX14_pJK56_S44E_GFP90ms_Triggered 1_cell3/20180130_KOPEX14_pJK56_S44E_GFP90ms_Triggered 1_cell3.xls\n"
     ]
    },
    {
     "name": "stderr",
     "output_type": "stream",
     "text": [
      " 93%|█████████▎| 82/88 [02:14<00:03,  1.79it/s]"
     ]
    },
    {
     "name": "stdout",
     "output_type": "stream",
     "text": [
      "Could not read params and/or track file for /data/Peroxisome tracks/S44E/20171206_KOPEX14_pJK56_S44E_GFP90ms_Triggered_13-cell1/20171206_KOPEX14_pJK56_S44E_GFP90ms_Triggered_13-cell1.xls\n"
     ]
    },
    {
     "name": "stderr",
     "output_type": "stream",
     "text": [
      " 94%|█████████▍| 83/88 [02:14<00:02,  1.92it/s]"
     ]
    },
    {
     "name": "stdout",
     "output_type": "stream",
     "text": [
      "Could not read params and/or track file for /data/Peroxisome tracks/S44E/20180130_KOPEX14_pJK56_S44E_GFP90ms_Triggered_15 cell3/20180130_KOPEX14_pJK56_S44E_GFP90ms_Triggered_15 cell3.xls\n"
     ]
    },
    {
     "name": "stderr",
     "output_type": "stream",
     "text": [
      " 95%|█████████▌| 84/88 [02:15<00:01,  2.13it/s]"
     ]
    },
    {
     "name": "stdout",
     "output_type": "stream",
     "text": [
      "Could not read params and/or track file for /data/Peroxisome tracks/S44E/20180130_KOPEX14_pJK56_S44E_GFP90ms_Triggered_10 cell2/20180130_KOPEX14_pJK56_S44E_GFP90ms_Triggered_10 cell2.xls\n"
     ]
    },
    {
     "name": "stderr",
     "output_type": "stream",
     "text": [
      " 97%|█████████▋| 85/88 [02:15<00:01,  1.85it/s]"
     ]
    },
    {
     "name": "stdout",
     "output_type": "stream",
     "text": [
      "Could not read params and/or track file for /data/Peroxisome tracks/S44E/20171206_KOPEX14_pJK56_S44E_GFP90ms_Triggered_3-cell2/20171206_KOPEX14_pJK56_S44E_GFP90ms_Triggered_3-cell2.xls\n"
     ]
    },
    {
     "name": "stderr",
     "output_type": "stream",
     "text": [
      " 98%|█████████▊| 86/88 [02:16<00:01,  1.74it/s]"
     ]
    },
    {
     "name": "stdout",
     "output_type": "stream",
     "text": [
      "Could not read params and/or track file for /data/Peroxisome tracks/S44E/20180130_KOPEX14_pJK56_S44E_GFP90ms_Triggered_15 cell1/20180130_KOPEX14_pJK56_S44E_GFP90ms_Triggered_15 cell1.xls\n"
     ]
    },
    {
     "name": "stderr",
     "output_type": "stream",
     "text": [
      " 99%|█████████▉| 87/88 [02:17<00:00,  1.45it/s]"
     ]
    },
    {
     "name": "stdout",
     "output_type": "stream",
     "text": [
      "Could not read params and/or track file for /data/Peroxisome tracks/S44E/20171206_KOPEX14_pJK56_S44E_GFP90ms_Triggered_9-cell2/20171206_KOPEX14_pJK56_S44E_GFP90ms_Triggered_9-cell2.xls\n"
     ]
    },
    {
     "name": "stderr",
     "output_type": "stream",
     "text": [
      "100%|██████████| 88/88 [02:17<00:00,  1.57s/it]"
     ]
    },
    {
     "name": "stdout",
     "output_type": "stream",
     "text": [
      "Could not read params and/or track file for /data/Peroxisome tracks/S44E/20180130_KOPEX14_pJK56_S44E_GFP90ms_Triggered_15 cell2/20180130_KOPEX14_pJK56_S44E_GFP90ms_Triggered_15 cell2.xls\n"
     ]
    },
    {
     "name": "stderr",
     "output_type": "stream",
     "text": [
      "\n"
     ]
    }
   ],
   "source": [
    "with open('/data/Peroxisome tracks/S44E/cell_list.txt') as f_norm:\n",
    "    S44E_tables = f_norm.read().splitlines()\n",
    "\n",
    "straight_S44E_tracks, all_S44E_tracks = filter_tracks(S44E_tables, new_data=True)"
   ]
  },
  {
   "cell_type": "code",
   "execution_count": 69,
   "metadata": {},
   "outputs": [
    {
     "name": "stdout",
     "output_type": "stream",
     "text": [
      "53\n",
      "43826\n"
     ]
    },
    {
     "name": "stderr",
     "output_type": "stream",
     "text": [
      "/home/svensson/anaconda3/lib/python3.7/site-packages/ipykernel_launcher.py:35: VisibleDeprecationWarning:\n",
      "\n",
      "Creating an ndarray from ragged nested sequences (which is a list-or-tuple of lists-or-tuples-or ndarrays with different lengths or shapes) is deprecated. If you meant to do this, you must specify 'dtype=object' when creating the ndarray\n",
      "\n",
      "/home/svensson/anaconda3/lib/python3.7/site-packages/ipykernel_launcher.py:36: VisibleDeprecationWarning:\n",
      "\n",
      "Creating an ndarray from ragged nested sequences (which is a list-or-tuple of lists-or-tuples-or ndarrays with different lengths or shapes) is deprecated. If you meant to do this, you must specify 'dtype=object' when creating the ndarray\n",
      "\n",
      "/home/svensson/anaconda3/lib/python3.7/site-packages/ipykernel_launcher.py:38: VisibleDeprecationWarning:\n",
      "\n",
      "Creating an ndarray from ragged nested sequences (which is a list-or-tuple of lists-or-tuples-or ndarrays with different lengths or shapes) is deprecated. If you meant to do this, you must specify 'dtype=object' when creating the ndarray\n",
      "\n"
     ]
    }
   ],
   "source": [
    "l = np.array(all_S44E_tracks['total tracks'])\n",
    "mu_l = []\n",
    "sigma_l = []\n",
    "pi = []\n",
    "T = []\n",
    "T_per_cell = []\n",
    "for ii, key in enumerate(list(all_S44E_tracks.keys())[1:]):\n",
    "    \n",
    "    with open(key + \"/fitted_params_mu_sig_fixed2.json\", \"r\") as read_file:\n",
    "        params = json.load(read_file)\n",
    "    mu_tmp = []\n",
    "    sigma_tmp = []\n",
    "    pi_tmp = []\n",
    "    T_tmp = []\n",
    "    T_av_tmp =[]\n",
    "    for track in all_S44E_tracks[key]:\n",
    "        mu_tmp.append(params[str(track)]['mu_l'])\n",
    "        sigma_tmp.append(params[str(track)]['sigma_l'])\n",
    "        pi_tmp.append(params[str(track)]['pi'])\n",
    "        T_tmp.append(params[str(track)]['T'])\n",
    "    T_average = np.mean(np.array(T_tmp), axis=0)    \n",
    "    pi_average = np.mean(np.array(pi_tmp), axis=0)\n",
    "    #for dist in range(1,10):\n",
    "    #    PS_tmp.append(len(straight_norm_tracks[key][dist])/l[ii])\n",
    "    #   \n",
    "   # \n",
    "    #    T_average = np.mean(np.array(T_tmp), axis=0)\n",
    "    #    T_av_tmp.append(T_average)\n",
    "    T_per_cell.append(T_average)\n",
    "    mu_l.append(np.copy(mu_tmp))\n",
    "    sigma_l.append(np.copy(sigma_tmp))\n",
    "    pi.append(np.copy(pi_average))\n",
    "    T.append(np.copy(T_tmp))\n",
    "    \n",
    "mu_l_S44E_all = np.array(mu_l)   \n",
    "sigma_l_S44E_all = np.array(sigma_l)\n",
    "pi_S44E_all = np.array(pi)\n",
    "T_S44E_all = np.array(T)\n",
    "T_per_cell_S44E_all= np.array(T_per_cell)\n",
    "print(len(l))\n",
    "print(np.sum(l))"
   ]
  },
  {
   "cell_type": "code",
   "execution_count": 32,
   "metadata": {},
   "outputs": [
    {
     "name": "stdout",
     "output_type": "stream",
     "text": [
      "53\n",
      "43826\n"
     ]
    },
    {
     "name": "stderr",
     "output_type": "stream",
     "text": [
      "/home/svensson/anaconda3/lib/python3.7/site-packages/ipykernel_launcher.py:35: VisibleDeprecationWarning: Creating an ndarray from ragged nested sequences (which is a list-or-tuple of lists-or-tuples-or ndarrays with different lengths or shapes) is deprecated. If you meant to do this, you must specify 'dtype=object' when creating the ndarray\n",
      "/home/svensson/anaconda3/lib/python3.7/site-packages/ipykernel_launcher.py:36: VisibleDeprecationWarning: Creating an ndarray from ragged nested sequences (which is a list-or-tuple of lists-or-tuples-or ndarrays with different lengths or shapes) is deprecated. If you meant to do this, you must specify 'dtype=object' when creating the ndarray\n",
      "/home/svensson/anaconda3/lib/python3.7/site-packages/ipykernel_launcher.py:37: VisibleDeprecationWarning: Creating an ndarray from ragged nested sequences (which is a list-or-tuple of lists-or-tuples-or ndarrays with different lengths or shapes) is deprecated. If you meant to do this, you must specify 'dtype=object' when creating the ndarray\n",
      "/home/svensson/anaconda3/lib/python3.7/site-packages/ipykernel_launcher.py:38: VisibleDeprecationWarning: Creating an ndarray from ragged nested sequences (which is a list-or-tuple of lists-or-tuples-or ndarrays with different lengths or shapes) is deprecated. If you meant to do this, you must specify 'dtype=object' when creating the ndarray\n"
     ]
    }
   ],
   "source": [
    "l = np.array(straight_S44E_tracks['total tracks'])\n",
    "mu_l = []\n",
    "sigma_l = []\n",
    "pi = []\n",
    "T = []\n",
    "PS_S44E = []\n",
    "T_per_cell = []\n",
    "for ii, key in enumerate(list(straight_S44E_tracks.keys())[1:]):\n",
    "    \n",
    "    with open(key + '/' + \"fitted_params_mu_sig_fixed2.json\", \"r\") as read_file:\n",
    "        params = json.load(read_file)\n",
    "    mu_tmp = []\n",
    "    sigma_tmp = []\n",
    "    pi_tmp = []\n",
    "    T_tmp = []\n",
    "    PS_tmp = []\n",
    "    T_av_tmp = []\n",
    "    for dist in range(1,10):\n",
    "        PS_tmp.append(len(straight_S44E_tracks[key][dist])/l[ii])\n",
    "        for track in straight_S44E_tracks[key][dist]:\n",
    "            mu_tmp.append(params[str(track)]['mu_l'])\n",
    "            sigma_tmp.append(params[str(track)]['sigma_l'])\n",
    "            pi_tmp.append(params[str(track)]['pi'])\n",
    "            T_tmp.append(params[str(track)]['T'])\n",
    "        T_average = np.mean(np.array(T_tmp), axis=0)\n",
    "        T_av_tmp.append(T_average)\n",
    "    T_per_cell.append(T_av_tmp)\n",
    "    mu_l.append(np.copy(mu_tmp))\n",
    "    sigma_l.append(np.copy(sigma_tmp))\n",
    "    pi.append(np.copy(pi_tmp))\n",
    "    T.append(np.copy(T_tmp))\n",
    "    PS_S44E.append(np.copy(PS_tmp))\n",
    "    T_average = np.mean(np.array(T_tmp), axis=0)\n",
    "    \n",
    "mu_l_S44E = np.array(mu_l)   \n",
    "sigma_l_S44E = np.array(sigma_l)\n",
    "pi_S44E = np.array(pi)\n",
    "T_S44E = np.array(T)\n",
    "PS_S44E = np.array(PS_S44E)\n",
    "T_per_cell_S44E = np.array(T_per_cell)\n",
    "print(len(l))\n",
    "print(np.sum(l))"
   ]
  },
  {
   "cell_type": "code",
   "execution_count": 33,
   "metadata": {},
   "outputs": [
    {
     "name": "stderr",
     "output_type": "stream",
     "text": [
      " 16%|█▌        | 17/107 [00:47<04:17,  2.87s/it]"
     ]
    },
    {
     "name": "stdout",
     "output_type": "stream",
     "text": [
      "Could not read params and/or track file for /data/Peroxisome tracks/S44D/20171130_KOPEX14_pJK55_S44D_GFP90ms_Triggered_3-cell2/20171130_KOPEX14_pJK55_S44D_GFP90ms_Triggered_3-cell2.xls\n"
     ]
    },
    {
     "name": "stderr",
     "output_type": "stream",
     "text": [
      "100%|██████████| 107/107 [05:06<00:00,  2.87s/it]\n"
     ]
    }
   ],
   "source": [
    "with open('/data/Peroxisome tracks/KO PEX5/cell_list.txt') as f_norm:\n",
    "    KOP5_tables = f_norm.read().splitlines()\n",
    "\n",
    "straight_KOP5_tracks, all_KOP5_tracks = filter_tracks(S44D_tables, new_data=True)"
   ]
  },
  {
   "cell_type": "code",
   "execution_count": 71,
   "metadata": {},
   "outputs": [
    {
     "name": "stdout",
     "output_type": "stream",
     "text": [
      "106\n",
      "129667\n"
     ]
    },
    {
     "name": "stderr",
     "output_type": "stream",
     "text": [
      "/home/svensson/anaconda3/lib/python3.7/site-packages/ipykernel_launcher.py:35: VisibleDeprecationWarning:\n",
      "\n",
      "Creating an ndarray from ragged nested sequences (which is a list-or-tuple of lists-or-tuples-or ndarrays with different lengths or shapes) is deprecated. If you meant to do this, you must specify 'dtype=object' when creating the ndarray\n",
      "\n",
      "/home/svensson/anaconda3/lib/python3.7/site-packages/ipykernel_launcher.py:36: VisibleDeprecationWarning:\n",
      "\n",
      "Creating an ndarray from ragged nested sequences (which is a list-or-tuple of lists-or-tuples-or ndarrays with different lengths or shapes) is deprecated. If you meant to do this, you must specify 'dtype=object' when creating the ndarray\n",
      "\n",
      "/home/svensson/anaconda3/lib/python3.7/site-packages/ipykernel_launcher.py:38: VisibleDeprecationWarning:\n",
      "\n",
      "Creating an ndarray from ragged nested sequences (which is a list-or-tuple of lists-or-tuples-or ndarrays with different lengths or shapes) is deprecated. If you meant to do this, you must specify 'dtype=object' when creating the ndarray\n",
      "\n"
     ]
    }
   ],
   "source": [
    "l = np.array(all_KOP5_tracks['total tracks'])\n",
    "mu_l = []\n",
    "sigma_l = []\n",
    "pi = []\n",
    "T = []\n",
    "T_per_cell = []\n",
    "for ii, key in enumerate(list(all_KOP5_tracks.keys())[1:]):\n",
    "    \n",
    "    with open(key + \"/fitted_params_mu_sig_fixed2.json\", \"r\") as read_file:\n",
    "        params = json.load(read_file)\n",
    "    mu_tmp = []\n",
    "    sigma_tmp = []\n",
    "    pi_tmp = []\n",
    "    T_tmp = []\n",
    "    T_av_tmp =[]\n",
    "    for track in all_KOP5_tracks[key]:\n",
    "        mu_tmp.append(params[str(track)]['mu_l'])\n",
    "        sigma_tmp.append(params[str(track)]['sigma_l'])\n",
    "        pi_tmp.append(params[str(track)]['pi'])\n",
    "        T_tmp.append(params[str(track)]['T'])\n",
    "    T_average = np.mean(np.array(T_tmp), axis=0)    \n",
    "    pi_average = np.mean(np.array(pi_tmp), axis=0)\n",
    "    #for dist in range(1,10):\n",
    "    #    PS_tmp.append(len(straight_norm_tracks[key][dist])/l[ii])\n",
    "    #   \n",
    "   # \n",
    "    #    T_average = np.mean(np.array(T_tmp), axis=0)\n",
    "    #    T_av_tmp.append(T_average)\n",
    "    T_per_cell.append(T_average)\n",
    "    mu_l.append(np.copy(mu_tmp))\n",
    "    sigma_l.append(np.copy(sigma_tmp))\n",
    "    pi.append(np.copy(pi_average))\n",
    "    T.append(np.copy(T_tmp))\n",
    "    \n",
    "mu_l_KOP5_all = np.array(mu_l)   \n",
    "sigma_l_KOP5_all = np.array(sigma_l)\n",
    "pi_KOP5_all = np.array(pi)\n",
    "T_KOP5_all = np.array(T)\n",
    "T_per_cell_KOP5_all= np.array(T_per_cell)\n",
    "print(len(l))\n",
    "print(np.sum(l))"
   ]
  },
  {
   "cell_type": "code",
   "execution_count": 39,
   "metadata": {},
   "outputs": [
    {
     "name": "stdout",
     "output_type": "stream",
     "text": [
      "106\n",
      "129667\n",
      "106\n"
     ]
    },
    {
     "name": "stderr",
     "output_type": "stream",
     "text": [
      "/home/svensson/anaconda3/lib/python3.7/site-packages/ipykernel_launcher.py:37: VisibleDeprecationWarning: Creating an ndarray from ragged nested sequences (which is a list-or-tuple of lists-or-tuples-or ndarrays with different lengths or shapes) is deprecated. If you meant to do this, you must specify 'dtype=object' when creating the ndarray\n",
      "/home/svensson/anaconda3/lib/python3.7/site-packages/ipykernel_launcher.py:38: VisibleDeprecationWarning: Creating an ndarray from ragged nested sequences (which is a list-or-tuple of lists-or-tuples-or ndarrays with different lengths or shapes) is deprecated. If you meant to do this, you must specify 'dtype=object' when creating the ndarray\n",
      "/home/svensson/anaconda3/lib/python3.7/site-packages/ipykernel_launcher.py:39: VisibleDeprecationWarning: Creating an ndarray from ragged nested sequences (which is a list-or-tuple of lists-or-tuples-or ndarrays with different lengths or shapes) is deprecated. If you meant to do this, you must specify 'dtype=object' when creating the ndarray\n",
      "/home/svensson/anaconda3/lib/python3.7/site-packages/ipykernel_launcher.py:40: VisibleDeprecationWarning: Creating an ndarray from ragged nested sequences (which is a list-or-tuple of lists-or-tuples-or ndarrays with different lengths or shapes) is deprecated. If you meant to do this, you must specify 'dtype=object' when creating the ndarray\n"
     ]
    }
   ],
   "source": [
    "l = np.array(straight_KOP5_tracks['total tracks'])\n",
    "mu_l = []\n",
    "sigma_l = []\n",
    "pi = []\n",
    "T = []\n",
    "PS_KOP5 = []\n",
    "T_per_cell = []\n",
    "for ii, key in enumerate(list(straight_KOP5_tracks.keys())[1:]):\n",
    "    \n",
    "    with open(key + '/' + \"fitted_params_mu_sig_fixed2.json\", \"r\") as read_file:\n",
    "        params = json.load(read_file)\n",
    "    mu_tmp = []\n",
    "    sigma_tmp = []\n",
    "    pi_tmp = []\n",
    "    T_tmp = []\n",
    "    PS_tmp = []\n",
    "    T_av_tmp = []\n",
    "    for dist in range(1,10):\n",
    "        PS_tmp.append(len(straight_KOP5_tracks[key][dist])/l[ii])\n",
    "        for track in straight_KOP5_tracks[key][dist]:\n",
    "            mu_tmp.append(params[str(track)]['mu_l'])\n",
    "            sigma_tmp.append(params[str(track)]['sigma_l'])\n",
    "            pi_tmp.append(params[str(track)]['pi'])\n",
    "            T_tmp.append(params[str(track)]['T'])\n",
    "        if len(T_tmp) > 0:\n",
    "            T_average = np.mean(np.array(T_tmp), axis=0)\n",
    "            T_av_tmp.append(T_average)\n",
    "    if len(T_av_tmp) > 0:\n",
    "        T_per_cell.append(T_av_tmp)\n",
    "    mu_l.append(np.copy(mu_tmp))\n",
    "    sigma_l.append(np.copy(sigma_tmp))\n",
    "    pi.append(np.copy(pi_tmp))\n",
    "    T.append(np.copy(T_tmp))\n",
    "    PS_KOP5.append(np.copy(PS_tmp))\n",
    "\n",
    "    \n",
    "mu_l_KOP5 = np.array(mu_l)   \n",
    "sigma_l_KOP5 = np.array(sigma_l)\n",
    "pi_KOP5 = np.array(pi)\n",
    "T_KOP5 = np.array(T)\n",
    "PS_KOP5 = np.array(PS_KOP5)\n",
    "T_per_cell_KOP5 = np.array(T_per_cell)\n",
    "print(len(l))\n",
    "print(np.sum(l))\n",
    "print(len(T_per_cell_KOP5))\n",
    "#print(T_per_cell_KOP5)\n",
    "#print(T_KOP5.shape)"
   ]
  },
  {
   "cell_type": "code",
   "execution_count": 40,
   "metadata": {},
   "outputs": [],
   "source": [
    "#mu_l_noc[:10]"
   ]
  },
  {
   "cell_type": "code",
   "execution_count": 41,
   "metadata": {},
   "outputs": [
    {
     "name": "stdout",
     "output_type": "stream",
     "text": [
      "[0.06489401 0.14298722]\n",
      "[0.06489401 0.14298722]\n",
      "[0.06489401 0.14298722]\n"
     ]
    },
    {
     "data": {
      "image/png": "[encoded data removed]",
      "text/plain": [
       "<Figure size 432x288 with 1 Axes>"
      ]
     },
     "metadata": {
      "needs_background": "light"
     },
     "output_type": "display_data"
    }
   ],
   "source": [
    "import seaborn as sns\n",
    "pos = np.array([1, 2])\n",
    "width = 0.2\n",
    "box1 = plt.boxplot(np.exp(mu_l_norm[0]+sigma_l_norm[0]/2), positions=pos-width, widths=width, patch_artist=True)\n",
    "box2 = plt.boxplot(np.exp(mu_l_noc[0]+sigma_l_noc[0]/2), positions=pos, widths=width, patch_artist=True)\n",
    "box3 = plt.boxplot(np.exp(mu_l_kop[0]+sigma_l_kop[0]/2), positions=pos+width, widths=width, patch_artist=True)\n",
    "plt.axis(ymax=0.3)\n",
    "plt.ylabel(r'$\\mu_l$')\n",
    "plt.xticks([1,2], [r'$s_1$', r'$s_2$'])\n",
    "\n",
    "for p1, p2, p3 in zip(box1['boxes'], box2['boxes'], box3['boxes']):\n",
    "    p1.set_facecolor('blue')\n",
    "    p2.set_facecolor('red')\n",
    "    p3.set_facecolor('green')\n",
    "    \n",
    "plt.savefig('mu_l.png')\n",
    "print(np.median(np.exp(mu_l_norm[0]+sigma_l_norm[0]/2),axis=0))\n",
    "print(np.median(np.exp(mu_l_noc[0]+sigma_l_noc[0]/2),axis=0))\n",
    "print(np.median(np.exp(mu_l_kop[0]+sigma_l_kop[0]/2),axis=0))"
   ]
  },
  {
   "cell_type": "code",
   "execution_count": 42,
   "metadata": {},
   "outputs": [
    {
     "name": "stdout",
     "output_type": "stream",
     "text": [
      "WilcoxonResult(statistic=0.0, pvalue=2.381600164396281e-21)\n",
      "WilcoxonResult(statistic=0.0, pvalue=0.0)\n",
      "[0.06489401 0.14298722]\n",
      "[0.06489401 0.14298722]\n"
     ]
    }
   ],
   "source": [
    "from scipy.stats import wilcoxon, mannwhitneyu\n",
    "\n",
    "mean_l_norm = np.exp(mu_l_norm[0]+sigma_l_norm[0]/2)\n",
    "mean_l_noc = np.exp(mu_l_noc[0]+sigma_l_noc[0]/2)\n",
    "mean_l_kop = np.exp(mu_l_kop[0]+sigma_l_kop[0]/2)\n",
    "print(wilcoxon(mean_l_norm[:,0], mean_l_norm[:,1]))\n",
    "print(wilcoxon(mean_l_noc[:,0], mean_l_noc[:,1]))\n",
    "print(np.mean(mean_l_noc, axis=0))\n",
    "print(np.mean(mean_l_norm, axis=0))"
   ]
  },
  {
   "cell_type": "code",
   "execution_count": 43,
   "metadata": {},
   "outputs": [
    {
     "data": {
      "image/png": "[encoded data removed]",
      "text/plain": [
       "<Figure size 432x288 with 1 Axes>"
      ]
     },
     "metadata": {
      "needs_background": "light"
     },
     "output_type": "display_data"
    }
   ],
   "source": [
    "pos = np.array([1, 3])\n",
    "width = 0.2\n",
    "box1 = plt.boxplot(pi_norm[8], positions=pos-3*width, widths=width, patch_artist=True, notch=True)\n",
    "box2 = plt.boxplot(pi_noc[8], positions=pos-2*width, widths=width, patch_artist=True, notch=True)\n",
    "box3 = plt.boxplot(pi_kop[8], positions=pos-width, widths=width, patch_artist=True, notch=True)\n",
    "box4 = plt.boxplot(pi_S44A[8], positions=pos, widths=width, patch_artist=True, notch=True)\n",
    "box5 = plt.boxplot(pi_S44D[8], positions=pos+width, widths=width, patch_artist=True, notch=True)\n",
    "box6 = plt.boxplot(pi_S44E[8], positions=pos+2*width, widths=width, patch_artist=True, notch=True)\n",
    "box7 = plt.boxplot(pi_KOP5[8], positions=pos+3*width, widths=width, patch_artist=True, notch=True)\n",
    "\n",
    "#plt.axis(ymax=0.3)\n",
    "plt.ylabel(r'$\\pi$')\n",
    "plt.xticks([1,3], [r'$s_1$', r'$s_2$'])\n",
    "\n",
    "for p1, p2, p3, p4, p5, p6, p7 in zip(box1['boxes'], box2['boxes'], box3['boxes'], box4['boxes'], box5['boxes'], box6['boxes'], box7['boxes']):\n",
    "    p1.set_facecolor('blue')\n",
    "    p2.set_facecolor('red')\n",
    "    p3.set_facecolor('green')\n",
    "    p4.set_facecolor('orange')\n",
    "    p5.set_facecolor('cyan')\n",
    "    p6.set_facecolor('purple')\n",
    "    p7.set_facecolor('black')\n",
    "\n",
    "plt.savefig('/home/svensson/Dropbox/Projects/HMM/Figs/pi_10steps.png')"
   ]
  },
  {
   "cell_type": "code",
   "execution_count": 44,
   "metadata": {},
   "outputs": [
    {
     "data": {
      "image/png": "[encoded data removed]",
      "text/plain": [
       "<Figure size 432x288 with 1 Axes>"
      ]
     },
     "metadata": {
      "needs_background": "light"
     },
     "output_type": "display_data"
    }
   ],
   "source": [
    "pos = np.array([1, 3, 5, 7])\n",
    "width = 0.2\n",
    "box1 = plt.boxplot(T_norm[0].reshape((T_norm[0].shape[0],4)), positions=pos-3*width, widths=width, patch_artist=True, notch=True)\n",
    "box2 = plt.boxplot(T_noc[0].reshape((T_noc[0].shape[0],4)), positions=pos-2*width, widths=width, patch_artist=True, notch=True)\n",
    "box3 = plt.boxplot(T_kop[0].reshape((T_kop[0].shape[0],4)), positions=pos-width, widths=width, patch_artist=True, notch=True)\n",
    "box4 = plt.boxplot(T_S44A[0].reshape((T_S44A[0].shape[0],4)), positions=pos, widths=width, patch_artist=True, notch=True)\n",
    "box5 = plt.boxplot(T_S44D[0].reshape((T_S44D[0].shape[0],4)), positions=pos+width, widths=width, patch_artist=True, notch=True)\n",
    "box6 = plt.boxplot(T_S44E[0].reshape((T_S44E[0].shape[0],4)), positions=pos+2*width, widths=width, patch_artist=True, notch=True)\n",
    "box7 = plt.boxplot(T_KOP5[0].reshape((T_KOP5[0].shape[0],4)), positions=pos+3*width, widths=width, patch_artist=True, notch=True)\n",
    "\n",
    "#plt.axis(ymax=0.3)\n",
    "plt.ylabel(r'T')\n",
    "plt.xticks([1, 3, 5, 7], [r'$s_1->s_1$', r'$s_1->s_2$', r'$s_2->s_1$', r'$s_2->s_2$'])\n",
    "\n",
    "for p1, p2, p3, p4, p5, p6, p7 in zip(box1['boxes'], box2['boxes'], box3['boxes'], box4['boxes'], box5['boxes'], box6['boxes'], box7['boxes']):\n",
    "    p1.set_facecolor('blue')\n",
    "    p2.set_facecolor('red')\n",
    "    p3.set_facecolor('green')\n",
    "    p4.set_facecolor('orange')\n",
    "    p5.set_facecolor('cyan')\n",
    "    p6.set_facecolor('purple')\n",
    "    p7.set_facecolor('black')\n",
    "    \n",
    "    \n",
    "plt.savefig('/home/svensson/Dropbox/Projects/HMM/Figs/T_2steps.png')"
   ]
  },
  {
   "cell_type": "code",
   "execution_count": null,
   "metadata": {},
   "outputs": [],
   "source": []
  },
  {
   "cell_type": "code",
   "execution_count": 91,
   "metadata": {},
   "outputs": [
    {
     "name": "stdout",
     "output_type": "stream",
     "text": [
      "(90, 2, 2)\n"
     ]
    }
   ],
   "source": [
    "T = [T_norm, T_noc, T_kop]#, T_S44A, T_S44D, T_S44E, T_KOP5]\n",
    "step_lengths = [2, 3, 4, 5, 6, 7, 8, 9, 10]\n",
    "transitions = np.array([['s1->s1', 's1->s2'], ['s2->s1', 's2->s2']])\n",
    "cols = ['T', 'number of consecutive steps', 'transition', 'condition']\n",
    "conditions = ['norm', 'noc', 'KO PEX 14']#, 'S44A', 'S44D', 'S44E', 'KO PEX 5']\n",
    "sh = T_norm[0].shape[0]\n",
    "print(T_norm[0].shape)\n",
    "\n",
    "df = pd.DataFrame(columns=cols, data=np.array([T_norm[0][:,0,0], [step_lengths[0]]*sh, [transitions[0,0]]*sh, [conditions[0]]*sh]).T)\n",
    "sh = T_noc[0].shape[0]\n",
    "pd.concat([df, pd.DataFrame(columns=cols, data=np.array([T_noc[0][:,0,0], [step_lengths[0]]*sh, [transitions[0,0]]*sh, [conditions[1]]*sh]).T)])\n",
    "df = None\n",
    "for cond, T0 in enumerate(T):\n",
    "    for steps in range(9):\n",
    "        for tr1 in range(2):\n",
    "            for tr2 in range(2):\n",
    "                sh = T0[steps].shape[0]\n",
    "                if df is None:\n",
    "                    df = pd.DataFrame(columns=cols, data=np.array([T0[steps][:,tr1,tr2], [step_lengths[steps]]*sh, [transitions[tr1,tr2]]*sh, [conditions[cond]]*sh]).T)\n",
    "                else:\n",
    "                    df = pd.concat([df, pd.DataFrame(columns=cols, data=np.array([T0[steps][:,tr1,tr2], [step_lengths[steps]]*sh, [transitions[tr1,tr2]]*sh, [conditions[cond]]*sh]).T)])\n",
    "    \n",
    "df.to_csv('T.csv')"
   ]
  },
  {
   "cell_type": "code",
   "execution_count": 92,
   "metadata": {},
   "outputs": [
    {
     "name": "stdout",
     "output_type": "stream",
     "text": [
      "norm\n",
      "noc\n",
      "KO PEX 14\n"
     ]
    }
   ],
   "source": [
    "T = [T_per_cell_norm_all, T_per_cell_noc_all, T_per_cell_kop_all]#, T_per_cell_S44A_all, T_per_cell_S44D_all, T_per_cell_S44E_all, T_per_cell_KOP5_all]\n",
    "#step_lengths = [2, 3, 4, 5, 6, 7, 8, 9, 10]\n",
    "transitions = np.array([['s1->s1', 's1->s2'], ['s2->s1', 's2->s2']])\n",
    "cols = ['T', 'transition', 'condition']\n",
    "conditions = ['norm', 'noc', 'KO PEX 14']#, 'S44A', 'S44D', 'S44E', 'KO PEX 5']\n",
    "#sh = T_norm[0].shape[0]\n",
    "#print(T_per_cell_KOP5.shape)\n",
    "\n",
    "#df_per_cell = pd.DataFrame(columns=cols, data=np.array([T_norm[0][:,0,0], [step_lengths[0]]*sh, [transitions[0,0]]*sh, [conditions[0]]*sh]).T)\n",
    "#sh = T_noc[0].shape[0]\n",
    "#pd.concat([df, pd.DataFrame(columns=cols, data=np.array([T_noc[0][:,0,0], [step_lengths[0]]*sh, [transitions[0,0]]*sh, [conditions[1]]*sh]).T)])\n",
    "df_per_cell_all = None\n",
    "for cond, T0 in enumerate(T):\n",
    "    print(conditions[cond])\n",
    "    #print(T0[0,0,tr1,tr2])\n",
    "    #for steps in range(9):\n",
    "    sh = T0.shape[0]\n",
    "    for tr1 in range(2):\n",
    "        for tr2 in range(2):\n",
    "            #print(T0[:,tr1,tr2])\n",
    "            try:           \n",
    "                if df_per_cell_all is None:\n",
    "                    df_per_cell_all = pd.DataFrame(columns=cols, data=np.array([T0[:,tr1,tr2], [transitions[tr1,tr2]]*sh, [conditions[cond]]*sh]).T)\n",
    "                else:\n",
    "                    df_per_cell_all = pd.concat([df_per_cell_all, pd.DataFrame(columns=cols, data=np.array([T0[:,tr1,tr2], [transitions[tr1,tr2]]*sh, [conditions[cond]]*sh]).T)])\n",
    "            except:\n",
    "                continue\n",
    "df_per_cell_all.to_csv('T_per_cell_all.csv')"
   ]
  },
  {
   "cell_type": "code",
   "execution_count": 93,
   "metadata": {},
   "outputs": [
    {
     "name": "stdout",
     "output_type": "stream",
     "text": [
      "norm\n",
      "noc\n",
      "KO PEX 14\n"
     ]
    }
   ],
   "source": [
    "T = [T_per_cell_norm, T_per_cell_noc, T_per_cell_kop]#, T_per_cell_S44A, T_per_cell_S44D, T_per_cell_S44E, T_per_cell_KOP5]\n",
    "step_lengths = [2, 3, 4, 5, 6, 7, 8, 9, 10]\n",
    "transitions = np.array([['s1->s1', 's1->s2'], ['s2->s1', 's2->s2']])\n",
    "cols = ['T', 'number of consecutive steps', 'transition', 'condition']\n",
    "conditions = ['norm', 'noc', 'KO PEX 14']#, 'S44A', 'S44D', 'S44E', 'KO PEX 5']\n",
    "#sh = T_norm[0].shape[0]\n",
    "#print(T_per_cell_KOP5.shape)\n",
    "\n",
    "#df_per_cell = pd.DataFrame(columns=cols, data=np.array([T_norm[0][:,0,0], [step_lengths[0]]*sh, [transitions[0,0]]*sh, [conditions[0]]*sh]).T)\n",
    "#sh = T_noc[0].shape[0]\n",
    "#pd.concat([df, pd.DataFrame(columns=cols, data=np.array([T_noc[0][:,0,0], [step_lengths[0]]*sh, [transitions[0,0]]*sh, [conditions[1]]*sh]).T)])\n",
    "df_per_cell = None\n",
    "for cond, T0 in enumerate(T):\n",
    "    print(conditions[cond])\n",
    "    #print(T0[0,0,tr1,tr2])\n",
    "    for steps in range(9):\n",
    "        sh = T0.shape[0]\n",
    "        for tr1 in range(2):\n",
    "            for tr2 in range(2):\n",
    "                #print(T0[:,steps,tr1,tr2])\n",
    "                try:           \n",
    "                    if df_per_cell is None:\n",
    "                        df_per_cell = pd.DataFrame(columns=cols, data=np.array([T0[:,steps,tr1,tr2], [step_lengths[steps]]*sh, [transitions[tr1,tr2]]*sh, [conditions[cond]]*sh]).T)\n",
    "                    else:\n",
    "                        df_per_cell = pd.concat([df_per_cell, pd.DataFrame(columns=cols, data=np.array([T0[:,steps,tr1,tr2], [step_lengths[steps]]*sh, [transitions[tr1,tr2]]*sh, [conditions[cond]]*sh]).T)])\n",
    "                except:\n",
    "                    continue\n",
    "df_per_cell.to_csv('T_per_cell.csv')"
   ]
  },
  {
   "cell_type": "code",
   "execution_count": 94,
   "metadata": {},
   "outputs": [
    {
     "name": "stdout",
     "output_type": "stream",
     "text": [
      "(90, 2, 2)\n"
     ]
    }
   ],
   "source": [
    "PI = [pi_norm, pi_noc, pi_kop]#, pi_S44A, pi_S44D, pi_S44E, pi_KOP5]\n",
    "step_lengths = [2, 3, 4, 5, 6, 7, 8, 9, 10]\n",
    "states = np.array(['pi_s1', 'pi_s2'])\n",
    "cols = ['pi', 'number of consecutive steps', 'state', 'condition']\n",
    "conditions = ['norm', 'noc', 'KO PEX 14']#, 'S44A', 'S44D', 'S44E', 'KO PEX 5']\n",
    "sh = T_norm[0].shape[0]\n",
    "print(T_norm[0].shape)\n",
    "\n",
    "#df = pd.DataFrame(columns=cols, data=np.array([T_norm[0][:,0,0], [step_lengths[0]]*sh, [transitions[0,0]]*sh, [conditions[0]]*sh]).T)\n",
    "#sh = T_noc[0].shape[0]\n",
    "#pd.concat([df, pd.DataFrame(columns=cols, data=np.array([T_noc[0][:,0,0], [step_lengths[0]]*sh, [transitions[0,0]]*sh, [conditions[1]]*sh]).T)])\n",
    "df_pi = None\n",
    "for cond, pi0 in enumerate(PI):\n",
    "    for steps in range(9):\n",
    "        for s in range(2):\n",
    "            #print(pi0[steps].shape)\n",
    "            sh = pi0[steps].shape[0]\n",
    "            if df_pi is None:\n",
    "                df_pi = pd.DataFrame(columns=cols, data=np.array([pi0[steps][:,s], [step_lengths[steps]]*sh, [states[s]]*sh, [conditions[cond]]*sh]).T)\n",
    "            else:\n",
    "                df_pi = pd.concat([df_pi, pd.DataFrame(columns=cols, data=np.array([pi0[steps][:,s], [step_lengths[steps]]*sh, [states[s]]*sh, [conditions[cond]]*sh]).T)])\n",
    "    \n",
    "df_pi.to_csv('pi.csv')"
   ]
  },
  {
   "cell_type": "code",
   "execution_count": 96,
   "metadata": {},
   "outputs": [],
   "source": [
    "PI = [pi_norm_all, pi_noc_all, pi_kop_all]#, pi_S44A_all, pi_S44D_all, pi_S44E_all, pi_KOP5_all]\n",
    "step_lengths = [2, 3, 4, 5, 6, 7, 8, 9, 10]\n",
    "states = np.array(['pi_s1', 'pi_s2'])\n",
    "cols = ['pi', 'state', 'condition']\n",
    "conditions = ['norm', 'noc', 'KO PEX 14']#, 'S44A', 'S44D', 'S44E', 'KO PEX 5']\n",
    "sh = T_norm[0].shape[0]\n",
    "#print(PI[3].shape)\n",
    "\n",
    "#df = pd.DataFrame(columns=cols, data=np.array([T_norm[0][:,0,0], [step_lengths[0]]*sh, [transitions[0,0]]*sh, [conditions[0]]*sh]).T)\n",
    "#sh = T_noc[0].shape[0]\n",
    "#pd.concat([df, pd.DataFrame(columns=cols, data=np.array([T_noc[0][:,0,0], [step_lengths[0]]*sh, [transitions[0,0]]*sh, [conditions[1]]*sh]).T)])\n",
    "df_pi = None\n",
    "for cond, pi0 in enumerate(PI):\n",
    "    #for steps in range(9):\n",
    "    for s in range(2):\n",
    "        #print(pi0[steps].shape)\n",
    "        sh = pi0.shape[0]\n",
    "        if df_pi is None:\n",
    "            df_pi = pd.DataFrame(columns=cols, data=np.array([pi0[:,s], [states[s]]*sh, [conditions[cond]]*sh]).T)\n",
    "        else:\n",
    "            df_pi = pd.concat([df_pi, pd.DataFrame(columns=cols, data=np.array([pi0[:,s], [states[s]]*sh, [conditions[cond]]*sh]).T)])\n",
    "\n",
    "df_pi.to_csv('pi_all.csv')"
   ]
  },
  {
   "cell_type": "code",
   "execution_count": 97,
   "metadata": {},
   "outputs": [],
   "source": [
    "df_per_cell[\"T\"] = df_per_cell[\"T\"].astype('float')\n",
    "df_pi[\"pi\"] = df_pi[\"pi\"].astype('float')\n",
    "df_per_cell_all[\"T\"] = df_per_cell_all[\"T\"].astype('float')\n",
    "df[\"T\"] = df[\"T\"].astype('float')"
   ]
  },
  {
   "cell_type": "code",
   "execution_count": 98,
   "metadata": {},
   "outputs": [],
   "source": [
    "import plotly.express as px\n",
    "\n",
    "fig = px.box(df_per_cell, x=\"transition\", y=\"T\", color=\"condition\", animation_frame=\"number of consecutive steps\", notched=True)\n",
    "fig.write_html(\"T_per_cell.html\")"
   ]
  },
  {
   "cell_type": "code",
   "execution_count": 99,
   "metadata": {},
   "outputs": [],
   "source": [
    "df[\"T\"] = df[\"T\"].astype('float')"
   ]
  },
  {
   "cell_type": "code",
   "execution_count": 100,
   "metadata": {},
   "outputs": [],
   "source": [
    "fig = px.box(df, x=\"transition\", y=\"T\", color=\"condition\", animation_frame=\"number of consecutive steps\", notched=True)\n",
    "fig.write_html(\"T_all.html\")"
   ]
  },
  {
   "cell_type": "code",
   "execution_count": 101,
   "metadata": {},
   "outputs": [],
   "source": [
    "fig = px.box(df_per_cell_all, x=\"transition\", y=\"T\", color=\"condition\", notched=True)\n",
    "fig.write_html(\"T_per_cell_all.html\")"
   ]
  },
  {
   "cell_type": "code",
   "execution_count": 102,
   "metadata": {},
   "outputs": [],
   "source": [
    "fig = px.box(df_pi, x=\"state\", y=\"pi\", color=\"condition\", notched=True)\n",
    "fig.write_html(\"PI_all_per_cell.html\")"
   ]
  },
  {
   "cell_type": "code",
   "execution_count": 103,
   "metadata": {},
   "outputs": [],
   "source": [
    "fig = px.box(df_per_cell, x=\"transition\", y=\"T\", color=\"condition\", animation_frame=\"number of consecutive steps\", notched=True)\n",
    "fig.write_html(\"T_per_cell.html\")"
   ]
  },
  {
   "cell_type": "code",
   "execution_count": 104,
   "metadata": {},
   "outputs": [
    {
     "name": "stdout",
     "output_type": "stream",
     "text": [
      "noc->kop, s2->s2\n",
      "MannwhitneyuResult(statistic=74677.0, pvalue=9.575414834424604e-19)\n",
      "noc->norm, s2->s2\n",
      "MannwhitneyuResult(statistic=228491.0, pvalue=3.3964393160701644e-43)\n",
      "kop->norm, s2->s2\n",
      "MannwhitneyuResult(statistic=12962.0, pvalue=0.031557040810744806)\n"
     ]
    }
   ],
   "source": [
    "print('noc->kop, s2->s2')\n",
    "print(mannwhitneyu(T_noc[8][:,1,1], T_kop[8][:,1,1]))\n",
    "print('noc->norm, s2->s2')\n",
    "print(mannwhitneyu(T_noc[8][:,1,1], T_norm[8][:,1,1]))\n",
    "print('kop->norm, s2->s2')\n",
    "print(mannwhitneyu(T_norm[8][:,1,1], T_kop[8][:,1,1]))"
   ]
  },
  {
   "cell_type": "code",
   "execution_count": 105,
   "metadata": {},
   "outputs": [
    {
     "data": {
      "image/png": "[encoded data removed]",
      "text/plain": [
       "<Figure size 432x288 with 1 Axes>"
      ]
     },
     "metadata": {
      "needs_background": "light"
     },
     "output_type": "display_data"
    }
   ],
   "source": [
    "box1 = plt.boxplot([PS_norm[:,8], PS_noc[:,8], PS_kop[:,8], PS_S44A[:,8], PS_S44D[:,8],PS_S44E[:,8], PS_KOP5[:,8]], patch_artist=True, notch=True)\n",
    "\n",
    "colors = ['blue', 'red', 'green', 'orange', 'cyan', 'purple', 'black']\n",
    "for p1, c in zip(box1['boxes'], colors):\n",
    "    p1.set_facecolor(c)\n",
    "    \n",
    "plt.ylabel('Fraction of tracks with directed motion')\n",
    "plt.xticks([1, 2, 3, 4, 5, 6, 7], ['norm', 'noc', 'KO PEX14', 'S44A', 'S44D', 'S44E', 'KO PEX5'])\n",
    "plt.savefig('Fraction_10steps.png')"
   ]
  },
  {
   "cell_type": "code",
   "execution_count": 106,
   "metadata": {},
   "outputs": [
    {
     "name": "stdout",
     "output_type": "stream",
     "text": [
      "noc->kop\n",
      "MannwhitneyuResult(statistic=3340.5, pvalue=2.517593174321635e-18)\n",
      "noc->norm\n",
      "MannwhitneyuResult(statistic=297.5, pvalue=2.535756013865372e-50)\n",
      "kop->norm\n",
      "MannwhitneyuResult(statistic=6582.5, pvalue=3.576476428374853e-13)\n"
     ]
    }
   ],
   "source": [
    "print('noc->kop')\n",
    "print(mannwhitneyu(PS_noc[:,6], PS_kop[:,6]))\n",
    "print('noc->norm')\n",
    "print(mannwhitneyu(PS_noc[:,6], PS_norm[:,6]))\n",
    "print('kop->norm')\n",
    "print(mannwhitneyu(PS_kop[:,6], PS_norm[:,6]))"
   ]
  },
  {
   "cell_type": "code",
   "execution_count": 107,
   "metadata": {},
   "outputs": [
    {
     "data": {
      "text/plain": [
       "(190, 9)"
      ]
     },
     "execution_count": 107,
     "metadata": {},
     "output_type": "execute_result"
    }
   ],
   "source": [
    "PS_norm.shape"
   ]
  },
  {
   "cell_type": "code",
   "execution_count": 108,
   "metadata": {},
   "outputs": [],
   "source": [
    "import matplotlib"
   ]
  },
  {
   "cell_type": "code",
   "execution_count": 109,
   "metadata": {},
   "outputs": [],
   "source": [
    "@jit(nopython=True)\n",
    "def boostrap_CI(P, CI=95, N=1000):\n",
    "    m = np.zeros(P.shape[1])#.astype(np.float)#p.mean(P, axis=0)\n",
    "    mean_upper_CI = np.zeros(P.shape[1])#.astype(np.float)\n",
    "    mean_lower_CI = np.zeros(P.shape[1])#.astype(np.float)\n",
    "    for ii in range(P.shape[1]):\n",
    "        CI_dist = np.zeros(N)#.astype(np.float)\n",
    "        for n in range(N):\n",
    "            N_samp = np.random.randint(1, P.shape[0])\n",
    "            samp_idx = np.random.randint(0, P.shape[0], N_samp)\n",
    "            CI_dist[n] = np.median(P[samp_idx,ii])\n",
    "        mean_upper_CI[ii] = np.percentile(CI_dist, CI+(100-CI)/2)\n",
    "        mean_lower_CI[ii] = np.percentile(CI_dist, (100-CI)/2)\n",
    "        m[ii] = np.median(P[:,ii])\n",
    "        \n",
    "    return m, mean_upper_CI, mean_lower_CI"
   ]
  },
  {
   "cell_type": "code",
   "execution_count": 110,
   "metadata": {},
   "outputs": [
    {
     "name": "stdout",
     "output_type": "stream",
     "text": [
      "[0.24067896 0.12314954 0.06410542 0.03755774 0.02278592 0.01554947\n",
      " 0.0114045  0.00867723 0.00656815]\n",
      "[0.30209921 0.15179992 0.07774587 0.0422599  0.02635102 0.01854316\n",
      " 0.01417798 0.01042615 0.00819679]\n"
     ]
    }
   ],
   "source": [
    "m, mu, ml = boostrap_CI(PS_norm)\n",
    "print(m)\n",
    "print(mu)"
   ]
  },
  {
   "cell_type": "code",
   "execution_count": 111,
   "metadata": {},
   "outputs": [
    {
     "data": {
      "image/png": "[encoded data removed]",
      "text/plain": [
       "<Figure size 432x288 with 1 Axes>"
      ]
     },
     "metadata": {
      "needs_background": "light"
     },
     "output_type": "display_data"
    }
   ],
   "source": [
    "m_norm, upper_norm, lower_norm = boostrap_CI(PS_norm)\n",
    "m_noc, upper_noc, lower_noc = boostrap_CI(PS_noc)\n",
    "m_kop, upper_kop, lower_kop = boostrap_CI(PS_kop)\n",
    "m_S44A, upper_S44A, lower_S44A = boostrap_CI(PS_S44A)\n",
    "m_S44D, upper_S44D, lower_S44D = boostrap_CI(PS_S44D)\n",
    "m_S44E, upper_S44E, lower_S44E = boostrap_CI(PS_S44E)\n",
    "m_KOP5, upper_KOP5, lower_KOP5 = boostrap_CI(PS_KOP5)\n",
    "\n",
    "fig = plt.figure()\n",
    "ax = fig.add_subplot(1, 1, 1)\n",
    "plt.plot(range(2,11), m_norm, label = 'norm', color = 'blue')\n",
    "plt.plot(range(2,11), m_noc, label = 'noc', color = 'red')\n",
    "plt.plot(range(2,11), m_kop, label = 'KO PEX14', color = 'green')\n",
    "plt.plot(range(2,11), m_S44D, label = 'S44D', color = 'cyan')\n",
    "plt.plot(range(2,11), m_S44A, label = 'S44A', color = 'orange')\n",
    "plt.plot(range(2,11), m_S44E, label = 'S44E', color = 'purple')\n",
    "plt.plot(range(2,11), m_KOP5, label = 'KOP5', color = 'black')\n",
    "plt.fill_between(range(2,11), lower_norm, upper_norm, color='blue', alpha=0.25)\n",
    "plt.fill_between(range(2,11), lower_noc, upper_noc, color='red', alpha=0.25)\n",
    "plt.fill_between(range(2,11), lower_kop, upper_kop, color='green', alpha=0.25)\n",
    "plt.fill_between(range(2,11), lower_S44A, upper_S44A, color='orange', alpha=0.25)\n",
    "plt.fill_between(range(2,11), lower_S44D, upper_S44D, color='cyan', alpha=0.25)\n",
    "plt.fill_between(range(2,11), lower_S44E, upper_S44E, color='purple', alpha=0.25)\n",
    "plt.fill_between(range(2,11), lower_KOP5, upper_KOP5, color='black', alpha=0.25)\n",
    "ax.set_yscale('linear')\n",
    "plt.legend()\n",
    "plt.ylabel('Average fraction of tracks with directed motion')\n",
    "plt.xlabel('Minimum number of consecutive steps in $s_2$')\n",
    "plt.savefig('frac straight tracks.png')"
   ]
  },
  {
   "cell_type": "code",
   "execution_count": 119,
   "metadata": {},
   "outputs": [],
   "source": [
    "import plotly.graph_objects as go\n",
    "x = [2,3,4,5,6,7,8,9,10]\n",
    "data = pd.DataFrame(np.array([m_norm, m_noc, m_kop, m_S44A, m_S44D, m_S44E, m_KOP5]).T, columns=[\"norm\", \"noc\", \"KO PEX 14\", 'S44A', 'S44D', 'S44E', 'KO PEX 5']).reset_index()\n",
    "lower = pd.DataFrame(np.array([lower_norm, lower_noc, lower_kop, lower_S44A, lower_S44D, lower_S44E, lower_KOP5]).T, columns=[\"norm\", \"noc\", \"KO PEX 14\", 'S44A', 'S44D', 'S44E', 'KO PEX 5']).reset_index()\n",
    "upper = pd.DataFrame(np.array([upper_norm, upper_noc, upper_kop, upper_S44A, upper_S44D, upper_S44E, upper_KOP5]).T, columns=[\"norm\", \"noc\", \"KO PEX 14\", 'S44A', 'S44D', 'S44E', 'KO PEX 5']).reset_index()\n",
    "\n",
    "\n",
    "fig = go.Figure([\n",
    "    go.Scatter(\n",
    "        x=x,\n",
    "        y=m_norm,\n",
    "        line=dict(color='rgb(0,0,200)'),\n",
    "        mode='lines',\n",
    "        legendgroup=\"norm\",\n",
    "        name=\"norm\"\n",
    "    ),\n",
    "    go.Scatter(\n",
    "        x=x+x[::-1], # x, then x reversed\n",
    "        y=list(lower_norm)+list(upper_norm)[::-1], # upper, then lower reversed\n",
    "        fill='toself',\n",
    "        fillcolor='rgba(0,0,200,0.2)',\n",
    "        line=dict(color='rgba(255,255,0,0.0)'),\n",
    "        hoverinfo=\"skip\",\n",
    "        legendgroup=\"norm\",\n",
    "        showlegend=False\n",
    "    )\n",
    "])\n",
    "fig.add_trace(go.Scatter(\n",
    "        x=x,\n",
    "        y=m_noc,\n",
    "        line=dict(color='rgb(200,0,0)'),\n",
    "        mode='lines',\n",
    "        legendgroup=\"noc\",\n",
    "        name=\"noc\"\n",
    "    ))\n",
    "fig.add_trace(go.Scatter(\n",
    "        x=x+x[::-1], # x, then x reversed\n",
    "        y=list(lower_noc)+list(upper_noc)[::-1], # upper, then lower reversed\n",
    "        fill='toself',\n",
    "        fillcolor='rgba(200,0,0,0.2)',\n",
    "        line=dict(color='rgba(255,255,0,0.0)'),\n",
    "        hoverinfo=\"skip\",\n",
    "        legendgroup=\"noc\",\n",
    "        showlegend=False\n",
    "    ))\n",
    "\n",
    "fig.add_trace(go.Scatter(\n",
    "        x=x,\n",
    "        y=m_kop,\n",
    "        line=dict(color='rgb(200,0,200)'),\n",
    "        mode='lines',\n",
    "        legendgroup=\"kop14\",\n",
    "        name=\"KO-PEX 14\"\n",
    "    ))\n",
    "fig.add_trace(go.Scatter(\n",
    "        x=x+x[::-1], # x, then x reversed\n",
    "        y=list(lower_kop)+list(upper_kop)[::-1], # upper, then lower reversed\n",
    "        fill='toself',\n",
    "        fillcolor='rgba(200,0,200,0.2)',\n",
    "        line=dict(color='rgba(255,255,0,0.0)'),\n",
    "        hoverinfo=\"skip\",\n",
    "        legendgroup=\"kop14\",\n",
    "        showlegend=False\n",
    "    ))\n",
    "\n",
    "fig.add_trace(go.Scatter(\n",
    "        x=x,\n",
    "        y=m_S44A,\n",
    "        line=dict(color='rgb(80,0,100)'),\n",
    "        mode='lines',\n",
    "        legendgroup=\"S44A\",\n",
    "        name=\"S44A\"\n",
    "    ))\n",
    "fig.add_trace(go.Scatter(\n",
    "        x=x+x[::-1], # x, then x reversed\n",
    "        y=list(lower_S44A)+list(upper_S44A)[::-1], # upper, then lower reversed\n",
    "        fill='toself',\n",
    "        fillcolor='rgba(80,0,100,0.2)',\n",
    "        line=dict(color='rgba(255,255,0,0.0)'),\n",
    "        hoverinfo=\"skip\",\n",
    "        legendgroup=\"S44A\",\n",
    "        showlegend=False\n",
    "    ))\n",
    "\n",
    "fig.add_trace(go.Scatter(\n",
    "        x=x,\n",
    "        y=m_S44D,\n",
    "        line=dict(color='rgb(80,100,0)'),\n",
    "        mode='lines',\n",
    "        legendgroup=\"S44D\",\n",
    "        name=\"S44D\"\n",
    "    ))\n",
    "fig.add_trace(go.Scatter(\n",
    "        x=x+x[::-1], # x, then x reversed\n",
    "        y=list(lower_S44D)+list(upper_S44D)[::-1], # upper, then lower reversed\n",
    "        fill='toself',\n",
    "        fillcolor='rgba(80,100,0,0.2)',\n",
    "        line=dict(color='rgba(255,255,0,0.0)'),\n",
    "        hoverinfo=\"skip\",\n",
    "        legendgroup=\"S44D\",\n",
    "        showlegend=False\n",
    "    ))\n",
    "\n",
    "fig.add_trace(go.Scatter(\n",
    "        x=x,\n",
    "        y=m_S44E,\n",
    "        line=dict(color='rgb(150,70,0)'),\n",
    "        mode='lines',\n",
    "        legendgroup=\"S44E\",\n",
    "        name=\"S44E\"\n",
    "    ))\n",
    "fig.add_trace(go.Scatter(\n",
    "        x=x+x[::-1], # x, then x reversed\n",
    "        y=list(lower_S44E)+list(upper_S44E)[::-1], # upper, then lower reversed\n",
    "        fill='toself',\n",
    "        fillcolor='rgba(150,70,0,0.2)',\n",
    "        line=dict(color='rgba(255,255,0,0.0)'),\n",
    "        hoverinfo=\"skip\",\n",
    "        legendgroup=\"S44E\",\n",
    "        showlegend=False\n",
    "    ))\n",
    "\n",
    "fig.add_trace(go.Scatter(\n",
    "        x=x,\n",
    "        y=m_KOP5,\n",
    "        line=dict(color='rgb(0,0,0)'),\n",
    "        mode='lines',\n",
    "        legendgroup=\"kop5\",\n",
    "        name=\"KO-PEX 5\"\n",
    "    ))\n",
    "fig.add_trace(go.Scatter(\n",
    "        x=x+x[::-1], # x, then x reversed\n",
    "        y=list(lower_KOP5)+list(upper_KOP5)[::-1], # upper, then lower reversed\n",
    "        fill='toself',\n",
    "        fillcolor='rgba(0,0,0,0.2)',\n",
    "        line=dict(color='rgba(255,255,0,0.0)'),\n",
    "        hoverinfo=\"skip\",\n",
    "        legendgroup=\"kop5\",\n",
    "        showlegend=False\n",
    "    ))\n",
    "fig.update_xaxes(title=r'Minimum number of consecutive steps in $s_2$')\n",
    "fig.update_yaxes(title='Average fraction of tracks with directed motion')\n",
    "fig.write_html(\"test.html\")"
   ]
  },
  {
   "cell_type": "code",
   "execution_count": 120,
   "metadata": {},
   "outputs": [],
   "source": [
    "import plotly.graph_objects as go\n",
    "x = [2,3,4,5,6,7,8,9,10]\n",
    "data = pd.DataFrame(np.array([m_norm, m_noc, m_kop]).T, columns=[\"norm\", \"noc\", \"KO PEX 14\"]).reset_index()\n",
    "lower = pd.DataFrame(np.array([lower_norm, lower_noc, lower_kop]).T, columns=[\"norm\", \"noc\", \"KO PEX 14\"]).reset_index()\n",
    "upper = pd.DataFrame(np.array([upper_norm, upper_noc, upper_kop]).T, columns=[\"norm\", \"noc\", \"KO PEX 14\"]).reset_index()\n",
    "\n",
    "\n",
    "fig = go.Figure([\n",
    "    go.Scatter(\n",
    "        x=x,\n",
    "        y=m_norm,\n",
    "        line=dict(color='rgb(0,0,200)'),\n",
    "        mode='lines',\n",
    "        legendgroup=\"norm\",\n",
    "        name=\"norm\"\n",
    "    ),\n",
    "    go.Scatter(\n",
    "        x=x+x[::-1], # x, then x reversed\n",
    "        y=list(lower_norm)+list(upper_norm)[::-1], # upper, then lower reversed\n",
    "        fill='toself',\n",
    "        fillcolor='rgba(0,0,200,0.2)',\n",
    "        line=dict(color='rgba(255,255,0,0.0)'),\n",
    "        hoverinfo=\"skip\",\n",
    "        legendgroup=\"norm\",\n",
    "        showlegend=False\n",
    "    )\n",
    "])\n",
    "fig.add_trace(go.Scatter(\n",
    "        x=x,\n",
    "        y=m_noc,\n",
    "        line=dict(color='rgb(200,0,0)'),\n",
    "        mode='lines',\n",
    "        legendgroup=\"noc\",\n",
    "        name=\"noc\"\n",
    "    ))\n",
    "fig.add_trace(go.Scatter(\n",
    "        x=x+x[::-1], # x, then x reversed\n",
    "        y=list(lower_noc)+list(upper_noc)[::-1], # upper, then lower reversed\n",
    "        fill='toself',\n",
    "        fillcolor='rgba(200,0,0,0.2)',\n",
    "        line=dict(color='rgba(255,255,0,0.0)'),\n",
    "        hoverinfo=\"skip\",\n",
    "        legendgroup=\"noc\",\n",
    "        showlegend=False\n",
    "    ))\n",
    "\n",
    "fig.add_trace(go.Scatter(\n",
    "        x=x,\n",
    "        y=m_kop,\n",
    "        line=dict(color='rgb(200,0,200)'),\n",
    "        mode='lines',\n",
    "        legendgroup=\"kop14\",\n",
    "        name=\"KO-PEX 14\"\n",
    "    ))\n",
    "fig.add_trace(go.Scatter(\n",
    "        x=x+x[::-1], # x, then x reversed\n",
    "        y=list(lower_kop)+list(upper_kop)[::-1], # upper, then lower reversed\n",
    "        fill='toself',\n",
    "        fillcolor='rgba(200,0,200,0.2)',\n",
    "        line=dict(color='rgba(255,255,0,0.0)'),\n",
    "        hoverinfo=\"skip\",\n",
    "        legendgroup=\"kop14\",\n",
    "        showlegend=False\n",
    "    ))\n",
    "fig.update_xaxes(title=r'Minimum number of consecutive steps in $s_2$')\n",
    "fig.update_yaxes(title='Average fraction of tracks with directed motion')\n",
    "fig.write_html(\"Ratio_of_S2_tracks.html\")"
   ]
  },
  {
   "cell_type": "code",
   "execution_count": 113,
   "metadata": {},
   "outputs": [
    {
     "data": {
      "text/plain": [
       "Text(0.5, 0, 'Minimum number of consecutive steps in $s_1$')"
      ]
     },
     "execution_count": 113,
     "metadata": {},
     "output_type": "execute_result"
    },
    {
     "data": {
      "image/png": "[encoded data removed]",
      "text/plain": [
       "<Figure size 432x288 with 1 Axes>"
      ]
     },
     "metadata": {
      "needs_background": "light"
     },
     "output_type": "display_data"
    }
   ],
   "source": [
    "for st in range(9):\n",
    "    plt.plot([st+2, st+3], [np.median(T_norm[st], axis=0)[1,0], np.median(T_norm[st+1], axis=0)[1,0]], label = 'norm', color = 'blue')\n",
    "    plt.plot([st+2, st+3], [np.median(T_noc[st], axis=0)[1,0], np.median(T_noc[st+1], axis=0)[1,0]], label = 'norm', color = 'red')\n",
    "    plt.plot([st+2, st+3], [np.median(T_kop[st], axis=0)[1,0], np.median(T_kop[st+1], axis=0)[1,0]], label = 'norm', color = 'green')\n",
    "#plt.plot(range(2,11), np.mean(PS_noc, axis=0), label = 'noc', color = 'red')\n",
    "#plt.plot(range(2,11), np.mean(PS_kop, axis=0), label = 'KO PEX', color = 'green')\n",
    "#plt.legend()\n",
    "plt.ylabel(r'$E[p(s_2->s_1)]$')\n",
    "plt.xlabel('Minimum number of consecutive steps in $s_1$')"
   ]
  },
  {
   "cell_type": "code",
   "execution_count": 152,
   "metadata": {},
   "outputs": [],
   "source": [
    "def track_statistics_per_state(tables, norm=False, new_data=False):\n",
    "    mu_s1 = []\n",
    "    mu_s2 = []\n",
    "    for table in tqdm(tables[:]):\n",
    "        #print(table)\n",
    "        d = table[:]\n",
    "        #if Path(d+\"/Tracks\").exists():\n",
    "        #    fileList = glob.glob(d+\"/Tracks/*.png\", recursive=False)\n",
    "        #    for im in fileList:\n",
    "        #        os.remove(im)\n",
    "        #Path(d+\"/Tracks\").mkdir(parents=True, exist_ok=True)\n",
    "        #print(d)\n",
    "        key_counter = 0\n",
    "        #tracks = pd.read_csv(d + 'Track_Data.xls', sep='\\t')\n",
    "        if norm:\n",
    "            try:\n",
    "                if len(glob.glob(d + '/*.xls'))>0:\n",
    "                    tracks = pd.read_csv(d + '/' + d[d.rfind('/')+1:] + '.xls', sep='\\t')\n",
    "                elif len(glob.glob(d + '/*.xlsx'))>0: \n",
    "                    tracks = pd.read_csv(d + '/' + d[d.rfind('/')+1:] + '.xlsx', sep='\\t')\n",
    "                else:\n",
    "                    tracks = pd.read_csv(d + '/' + d[d.rfind('/')+1:] + '.csv', sep=',')\n",
    "                with open(d + \"/fitted_params_mu_sig_fixed2.json\", \"r\") as read_file:\n",
    "                    params = json.load(read_file)\n",
    "\n",
    "            except:\n",
    "                print('Could not read params and/or track file for %s'%d)\n",
    "                continue\n",
    "        elif new_data:\n",
    "            try:\n",
    "                track_file = d + d[d.rfind('/'):]+'.xls'\n",
    "                tracks = pd.read_csv(track_file, sep='\\t')\n",
    "                with open(d + '/' +\"fitted_params_mu_sig_fixed2.json\", \"r\") as read_file:\n",
    "                    params = json.load(read_file)\n",
    "            except:\n",
    "                print('Could not read params and/or track file for %s'%track_file)\n",
    "                continue\n",
    "        else:   \n",
    "            try:\n",
    "                tracks = pd.read_csv(d + '/Track_Data.xls', sep='\\t')\n",
    "                with open(d + \"/fitted_params_mu_sig_fixed2.json\", \"r\") as read_file:\n",
    "                    params = json.load(read_file)\n",
    "            except:\n",
    "                print('Could not read params and/or track file for %s'%d)\n",
    "                continue\n",
    "            try:\n",
    "                with open(d + \"/fitted_params_mu_sig_fixed2.json\", \"r\") as read_file:\n",
    "                    params = json.load(read_file)\n",
    "            except:\n",
    "                continue\n",
    "        mu_s1_tmp = []        \n",
    "        mu_s2_tmp = []        \n",
    "        for key in params.keys(): \n",
    "            track = int(params[key]['track_id'])\n",
    "            track0 = tracks.loc[tracks['TRACK_ID']==track]                \n",
    "        \n",
    "            pi_tot = np.array(params[key]['pi'])\n",
    "            mu_tot = np.array(params[key]['mu_l'])\n",
    "            sigma_tot = np.array(params[key]['sigma_l'])\n",
    "            T_tot = np.array(params[key]['T'])\n",
    "            \n",
    "            X = np.array([track0['POSITION_X'], track0['POSITION_Y']]).T\n",
    "            l, alpha = convert_to_planar(X)\n",
    "            o = np.array([l[1:-1], alpha]).T\n",
    "            if o.shape[0] > 50 and np.isfinite(T_tot).all() and np.isfinite(pi_tot).all() and np.isfinite(mu_tot).all() and np.isfinite(sigma_tot).all():\n",
    "                s_est, D, E = viterbi(T_tot, pi_tot, mu_tot, sigma_tot, float(params['0']['sigma_alpha_2']), o)\n",
    "                s1_idx = (s_est==0).nonzero()[0]\n",
    "                s2_idx = s_est.nonzero()[0]\n",
    "                if s1_idx.shape[0]>0:\n",
    "                    #print(o[s2_idx,0])\n",
    "                    [mu_s1_tmp.append(l0) for l0 in o[s1_idx,0]]\n",
    "                if s2_idx.shape[0]>0:\n",
    "                    #print(o[s2_idx,0])\n",
    "                    [mu_s2_tmp.append(l0) for l0 in o[s2_idx,0]]\n",
    "        if len(mu_s1_tmp)>0:        \n",
    "            mu_s1.append(np.mean(mu_s1_tmp))\n",
    "        if len(mu_s2_tmp)>0:        \n",
    "            mu_s2.append(np.mean(mu_s2_tmp))\n",
    "    return mu_s1, mu_s2        \n",
    "            "
   ]
  },
  {
   "cell_type": "code",
   "execution_count": 155,
   "metadata": {},
   "outputs": [
    {
     "name": "stderr",
     "output_type": "stream",
     "text": [
      " 69%|██████▉   | 134/194 [06:05<02:18,  2.31s/it]"
     ]
    },
    {
     "name": "stdout",
     "output_type": "stream",
     "text": [
      "Could not read params and/or track file for /data/Peroxisome tracks/HEK WT/20180427_HEK293_pJK26_GFP90ms_Triggered_5-cell2\n"
     ]
    },
    {
     "name": "stderr",
     "output_type": "stream",
     "text": [
      " 73%|███████▎  | 141/194 [06:24<02:03,  2.34s/it]"
     ]
    },
    {
     "name": "stdout",
     "output_type": "stream",
     "text": [
      "Could not read params and/or track file for /data/Peroxisome tracks/HEK WT/20180427_HEK293_pJK26_GFP90ms_Triggered_5-cell4\n"
     ]
    },
    {
     "name": "stderr",
     "output_type": "stream",
     "text": [
      " 77%|███████▋  | 150/194 [06:46<01:26,  1.96s/it]"
     ]
    },
    {
     "name": "stdout",
     "output_type": "stream",
     "text": [
      "Could not read params and/or track file for /data/Peroxisome tracks/HEK WT/20180802_HEK _pJK26_GFP90ms_Triggered_2_1 cell1\n"
     ]
    },
    {
     "name": "stderr",
     "output_type": "stream",
     "text": [
      " 97%|█████████▋| 189/194 [08:10<00:11,  2.25s/it]"
     ]
    },
    {
     "name": "stdout",
     "output_type": "stream",
     "text": [
      "Could not read params and/or track file for /data/Peroxisome tracks/HEK WT/20180427_HEK293_pJK26_GFP90ms_Triggered_5-cell3\n"
     ]
    },
    {
     "name": "stderr",
     "output_type": "stream",
     "text": [
      "100%|██████████| 194/194 [08:21<00:00,  2.58s/it]\n"
     ]
    }
   ],
   "source": [
    "with open('/data/Peroxisome tracks/HEK WT/cell_list.txt') as f_norm:\n",
    "    norm_tables = f_norm.read().splitlines()\n",
    "\n",
    "mu_s1_norm, mu_s2_norm = track_statistics_per_state(norm_tables, norm=True)\n"
   ]
  },
  {
   "cell_type": "code",
   "execution_count": 151,
   "metadata": {},
   "outputs": [
    {
     "data": {
      "text/plain": [
       "[0.17693667917611522, 0.15650724859264922]"
      ]
     },
     "execution_count": 151,
     "metadata": {},
     "output_type": "execute_result"
    }
   ],
   "source": [
    "mu_s2"
   ]
  },
  {
   "cell_type": "code",
   "execution_count": 154,
   "metadata": {},
   "outputs": [
    {
     "data": {
      "text/plain": [
       "[0.03708081588174141, 0.06294149642131934]"
      ]
     },
     "execution_count": 154,
     "metadata": {},
     "output_type": "execute_result"
    }
   ],
   "source": [
    "mu_s1"
   ]
  },
  {
   "cell_type": "code",
   "execution_count": 156,
   "metadata": {},
   "outputs": [
    {
     "name": "stderr",
     "output_type": "stream",
     "text": [
      "100%|██████████| 130/130 [26:21<00:00, 12.17s/it]\n"
     ]
    }
   ],
   "source": [
    "with open('/data/Peroxisome tracks/noc/cell_list.txt') as f_norm:\n",
    "    noc_tables = f_norm.read().splitlines()\n",
    "\n",
    "mu_s1_noc, mu_s2_noc = track_statistics_per_state(noc_tables)"
   ]
  },
  {
   "cell_type": "code",
   "execution_count": 157,
   "metadata": {},
   "outputs": [
    {
     "name": "stderr",
     "output_type": "stream",
     "text": [
      "  2%|▏         | 3/134 [00:01<01:04,  2.02it/s]"
     ]
    },
    {
     "name": "stdout",
     "output_type": "stream",
     "text": [
      "Could not read params and/or track file for /data/Peroxisome tracks/ko pex14/20180621_HEK KO PEX14_pJK26_GFP90ms_Triggered_2_5 cell3.csv_Ordner\n"
     ]
    },
    {
     "name": "stderr",
     "output_type": "stream",
     "text": [
      " 51%|█████▏    | 69/134 [00:42<00:28,  2.31it/s]"
     ]
    },
    {
     "name": "stdout",
     "output_type": "stream",
     "text": [
      "Could not read params and/or track file for /data/Peroxisome tracks/ko pex14/20180427_KOPX14_pJK26_GFP90ms_Triggered_2_4cell3.xls_Ordner\n"
     ]
    },
    {
     "name": "stderr",
     "output_type": "stream",
     "text": [
      " 71%|███████   | 95/134 [01:02<00:28,  1.35it/s]"
     ]
    },
    {
     "name": "stdout",
     "output_type": "stream",
     "text": [
      "Could not read params and/or track file for /data/Peroxisome tracks/ko pex14/20180427_KOPEX14_pJK26_GFP90ms_Triggered_1_2.cell2.xls_Ordner\n"
     ]
    },
    {
     "name": "stderr",
     "output_type": "stream",
     "text": [
      "100%|██████████| 134/134 [01:28<00:00,  1.51it/s]\n"
     ]
    }
   ],
   "source": [
    "with open('/data/Peroxisome tracks/ko pex14/cell_list.txt') as f_norm:\n",
    "    kop_tables = f_norm.read().splitlines()\n",
    "    \n",
    "mu_s1_kop, mu_s2_kop = track_statistics_per_state(kop_tables)"
   ]
  },
  {
   "cell_type": "code",
   "execution_count": 161,
   "metadata": {},
   "outputs": [
    {
     "ename": "AttributeError",
     "evalue": "'list' object has no attribute 'T'",
     "output_type": "error",
     "traceback": [
      "\u001b[0;31m---------------------------------------------------------------------------\u001b[0m",
      "\u001b[0;31mAttributeError\u001b[0m                            Traceback (most recent call last)",
      "\u001b[0;32m<ipython-input-161-54def7672d91>\u001b[0m in \u001b[0;36m<module>\u001b[0;34m\u001b[0m\n\u001b[1;32m      1\u001b[0m \u001b[0mcols\u001b[0m \u001b[0;34m=\u001b[0m \u001b[0;34m[\u001b[0m\u001b[0;34m\"mu_s1_norm\"\u001b[0m\u001b[0;34m,\u001b[0m \u001b[0;34m\"mu_s2_norm\"\u001b[0m\u001b[0;34m,\u001b[0m \u001b[0;34m\"mu_s1_noc\"\u001b[0m\u001b[0;34m,\u001b[0m \u001b[0;34m\"mu_s2_noc\"\u001b[0m\u001b[0;34m,\u001b[0m \u001b[0;34m\"mu_s1_kop\"\u001b[0m\u001b[0;34m,\u001b[0m \u001b[0;34m\"mu_s2_kop\"\u001b[0m\u001b[0;34m]\u001b[0m\u001b[0;34m\u001b[0m\u001b[0;34m\u001b[0m\u001b[0m\n\u001b[0;32m----> 2\u001b[0;31m \u001b[0mdata\u001b[0m \u001b[0;34m=\u001b[0m \u001b[0;34m[\u001b[0m\u001b[0mmu_s1_norm\u001b[0m\u001b[0;34m,\u001b[0m \u001b[0mmu_s2_norm\u001b[0m\u001b[0;34m,\u001b[0m \u001b[0mmu_s1_noc\u001b[0m\u001b[0;34m,\u001b[0m \u001b[0mmu_s2_noc\u001b[0m\u001b[0;34m,\u001b[0m \u001b[0mmu_s1_kop\u001b[0m\u001b[0;34m,\u001b[0m \u001b[0mmu_s2_kop\u001b[0m\u001b[0;34m]\u001b[0m\u001b[0;34m.\u001b[0m\u001b[0mT\u001b[0m\u001b[0;34m\u001b[0m\u001b[0;34m\u001b[0m\u001b[0m\n\u001b[0m\u001b[1;32m      3\u001b[0m \u001b[0mdf\u001b[0m \u001b[0;34m=\u001b[0m \u001b[0mpd\u001b[0m\u001b[0;34m.\u001b[0m\u001b[0mDataFrame\u001b[0m\u001b[0;34m(\u001b[0m\u001b[0mdata\u001b[0m\u001b[0;34m,\u001b[0m \u001b[0mcolumns\u001b[0m\u001b[0;34m=\u001b[0m\u001b[0mcols\u001b[0m\u001b[0;34m)\u001b[0m\u001b[0;34m.\u001b[0m\u001b[0mreset_index\u001b[0m\u001b[0;34m(\u001b[0m\u001b[0;34m)\u001b[0m\u001b[0;34m\u001b[0m\u001b[0;34m\u001b[0m\u001b[0m\n",
      "\u001b[0;31mAttributeError\u001b[0m: 'list' object has no attribute 'T'"
     ]
    }
   ],
   "source": [
    "cols = [\"mu_s1_norm\", \"mu_s2_norm\", \"mu_s1_noc\", \"mu_s2_noc\", \"mu_s1_kop\", \"mu_s2_kop\"]\n",
    "data = [mu_s1_norm, mu_s2_norm, mu_s1_noc, mu_s2_noc, mu_s1_kop, mu_s2_kop].T\n",
    "df = pd.DataFrame(data, columns=cols).reset_index()"
   ]
  },
  {
   "cell_type": "code",
   "execution_count": null,
   "metadata": {},
   "outputs": [],
   "source": []
  }
 ],
 "metadata": {
  "kernelspec": {
   "display_name": "Python 3",
   "language": "python",
   "name": "python3"
  },
  "language_info": {
   "codemirror_mode": {
    "name": "ipython",
    "version": 3
   },
   "file_extension": ".py",
   "mimetype": "text/x-python",
   "name": "python",
   "nbconvert_exporter": "python",
   "pygments_lexer": "ipython3",
   "version": "3.7.7"
  }
 },
 "nbformat": 4,
 "nbformat_minor": 4
}
